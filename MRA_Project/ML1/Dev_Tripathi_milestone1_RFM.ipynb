{
 "cells": [
  {
   "cell_type": "markdown",
   "id": "5a78ed6a",
   "metadata": {},
   "source": [
    "# Automobile Data Analysis"
   ]
  },
  {
   "cell_type": "markdown",
   "id": "435eaa2c",
   "metadata": {},
   "source": [
    "An automobile parts manufacturing company has collected data of transactions for 3 years. Our job is to use data\n",
    "science skills to provide them with suitable insights about their data and their customers."
   ]
  },
  {
   "cell_type": "code",
   "execution_count": 1,
   "id": "45a633a1",
   "metadata": {},
   "outputs": [],
   "source": [
    "#basic\n",
    "import pandas as pd\n",
    "import numpy as np\n",
    "import matplotlib.pyplot as plt\n",
    "import seaborn as sns\n",
    "%matplotlib inline"
   ]
  },
  {
   "cell_type": "code",
   "execution_count": 2,
   "id": "e1fc4ad3",
   "metadata": {},
   "outputs": [],
   "source": [
    "df = pd.read_excel(\"Sales_Data.xlsx\",sheet_name='Sheet1') #importing the dataset"
   ]
  },
  {
   "cell_type": "code",
   "execution_count": 3,
   "id": "6150d9b4",
   "metadata": {},
   "outputs": [],
   "source": [
    "descr = pd.read_excel(\"Sales_Data.xlsx\",sheet_name='Sheet2',) #importing the variable description"
   ]
  },
  {
   "cell_type": "code",
   "execution_count": 4,
   "id": "7e46923d",
   "metadata": {},
   "outputs": [
    {
     "data": {
      "text/html": [
       "<div>\n",
       "<style scoped>\n",
       "    .dataframe tbody tr th:only-of-type {\n",
       "        vertical-align: middle;\n",
       "    }\n",
       "\n",
       "    .dataframe tbody tr th {\n",
       "        vertical-align: top;\n",
       "    }\n",
       "\n",
       "    .dataframe thead th {\n",
       "        text-align: right;\n",
       "    }\n",
       "</style>\n",
       "<table border=\"1\" class=\"dataframe\">\n",
       "  <thead>\n",
       "    <tr style=\"text-align: right;\">\n",
       "      <th></th>\n",
       "      <th>Feature Name</th>\n",
       "      <th>Description</th>\n",
       "    </tr>\n",
       "  </thead>\n",
       "  <tbody>\n",
       "    <tr>\n",
       "      <th>0</th>\n",
       "      <td>ORDERNUMBER</td>\n",
       "      <td>Order Number</td>\n",
       "    </tr>\n",
       "    <tr>\n",
       "      <th>1</th>\n",
       "      <td>QUANTITYORDERED</td>\n",
       "      <td>Quantity ordered</td>\n",
       "    </tr>\n",
       "    <tr>\n",
       "      <th>2</th>\n",
       "      <td>PRICEEACH</td>\n",
       "      <td>Price of Each item</td>\n",
       "    </tr>\n",
       "    <tr>\n",
       "      <th>3</th>\n",
       "      <td>ORDERLINENUMBER</td>\n",
       "      <td>order line</td>\n",
       "    </tr>\n",
       "    <tr>\n",
       "      <th>4</th>\n",
       "      <td>SALES</td>\n",
       "      <td>Sales amount</td>\n",
       "    </tr>\n",
       "    <tr>\n",
       "      <th>5</th>\n",
       "      <td>ORDERDATE</td>\n",
       "      <td>Order Date</td>\n",
       "    </tr>\n",
       "    <tr>\n",
       "      <th>6</th>\n",
       "      <td>DAYS_SINCE_LASTORDER</td>\n",
       "      <td>Days_ Since_Lastorder</td>\n",
       "    </tr>\n",
       "    <tr>\n",
       "      <th>7</th>\n",
       "      <td>STATUS</td>\n",
       "      <td>Status of order like Shipped or not</td>\n",
       "    </tr>\n",
       "    <tr>\n",
       "      <th>8</th>\n",
       "      <td>PRODUCTLINE</td>\n",
       "      <td>Product line – CATEGORY</td>\n",
       "    </tr>\n",
       "    <tr>\n",
       "      <th>9</th>\n",
       "      <td>MSRP</td>\n",
       "      <td>Manufacturer's Suggested Retail Price</td>\n",
       "    </tr>\n",
       "    <tr>\n",
       "      <th>10</th>\n",
       "      <td>PRODUCTCODE</td>\n",
       "      <td>Code of Product</td>\n",
       "    </tr>\n",
       "    <tr>\n",
       "      <th>11</th>\n",
       "      <td>CUSTOMERNAME</td>\n",
       "      <td>customer</td>\n",
       "    </tr>\n",
       "    <tr>\n",
       "      <th>12</th>\n",
       "      <td>PHONE</td>\n",
       "      <td>Phone of the customer</td>\n",
       "    </tr>\n",
       "    <tr>\n",
       "      <th>13</th>\n",
       "      <td>ADDRESSLINE1</td>\n",
       "      <td>Address of customer</td>\n",
       "    </tr>\n",
       "    <tr>\n",
       "      <th>14</th>\n",
       "      <td>CITY</td>\n",
       "      <td>City of customer</td>\n",
       "    </tr>\n",
       "    <tr>\n",
       "      <th>15</th>\n",
       "      <td>POSTALCODE</td>\n",
       "      <td>Postal Code of customer</td>\n",
       "    </tr>\n",
       "    <tr>\n",
       "      <th>16</th>\n",
       "      <td>COUNTRY</td>\n",
       "      <td>Country customer</td>\n",
       "    </tr>\n",
       "    <tr>\n",
       "      <th>17</th>\n",
       "      <td>CONTACTLASTNAME</td>\n",
       "      <td>Contact person customer</td>\n",
       "    </tr>\n",
       "    <tr>\n",
       "      <th>18</th>\n",
       "      <td>CONTACTFIRSTNAME</td>\n",
       "      <td>Contact person customer</td>\n",
       "    </tr>\n",
       "    <tr>\n",
       "      <th>19</th>\n",
       "      <td>DEALSIZE</td>\n",
       "      <td>Size of the deal based on Quantity and Item Price</td>\n",
       "    </tr>\n",
       "  </tbody>\n",
       "</table>\n",
       "</div>"
      ],
      "text/plain": [
       "            Feature Name                                        Description\n",
       "0            ORDERNUMBER                                       Order Number\n",
       "1        QUANTITYORDERED                                   Quantity ordered\n",
       "2              PRICEEACH                                 Price of Each item\n",
       "3        ORDERLINENUMBER                                         order line\n",
       "4                  SALES                                       Sales amount\n",
       "5              ORDERDATE                                         Order Date\n",
       "6   DAYS_SINCE_LASTORDER                              Days_ Since_Lastorder\n",
       "7                 STATUS                Status of order like Shipped or not\n",
       "8            PRODUCTLINE                            Product line – CATEGORY\n",
       "9                   MSRP              Manufacturer's Suggested Retail Price\n",
       "10           PRODUCTCODE                                    Code of Product\n",
       "11          CUSTOMERNAME                                           customer\n",
       "12                 PHONE                              Phone of the customer\n",
       "13          ADDRESSLINE1                                Address of customer\n",
       "14                  CITY                                   City of customer\n",
       "15            POSTALCODE                            Postal Code of customer\n",
       "16               COUNTRY                                   Country customer\n",
       "17       CONTACTLASTNAME                            Contact person customer\n",
       "18      CONTACTFIRSTNAME                            Contact person customer\n",
       "19              DEALSIZE  Size of the deal based on Quantity and Item Price"
      ]
     },
     "execution_count": 4,
     "metadata": {},
     "output_type": "execute_result"
    }
   ],
   "source": [
    "descr"
   ]
  },
  {
   "cell_type": "code",
   "execution_count": 5,
   "id": "1f9f0ee9",
   "metadata": {},
   "outputs": [
    {
     "data": {
      "text/html": [
       "<div>\n",
       "<style scoped>\n",
       "    .dataframe tbody tr th:only-of-type {\n",
       "        vertical-align: middle;\n",
       "    }\n",
       "\n",
       "    .dataframe tbody tr th {\n",
       "        vertical-align: top;\n",
       "    }\n",
       "\n",
       "    .dataframe thead th {\n",
       "        text-align: right;\n",
       "    }\n",
       "</style>\n",
       "<table border=\"1\" class=\"dataframe\">\n",
       "  <thead>\n",
       "    <tr style=\"text-align: right;\">\n",
       "      <th></th>\n",
       "      <th>ORDERNUMBER</th>\n",
       "      <th>QUANTITYORDERED</th>\n",
       "      <th>PRICEEACH</th>\n",
       "      <th>ORDERLINENUMBER</th>\n",
       "      <th>SALES</th>\n",
       "      <th>ORDERDATE</th>\n",
       "      <th>DAYS_SINCE_LASTORDER</th>\n",
       "      <th>STATUS</th>\n",
       "      <th>PRODUCTLINE</th>\n",
       "      <th>MSRP</th>\n",
       "      <th>PRODUCTCODE</th>\n",
       "      <th>CUSTOMERNAME</th>\n",
       "      <th>PHONE</th>\n",
       "      <th>ADDRESSLINE1</th>\n",
       "      <th>CITY</th>\n",
       "      <th>POSTALCODE</th>\n",
       "      <th>COUNTRY</th>\n",
       "      <th>CONTACTLASTNAME</th>\n",
       "      <th>CONTACTFIRSTNAME</th>\n",
       "      <th>DEALSIZE</th>\n",
       "    </tr>\n",
       "  </thead>\n",
       "  <tbody>\n",
       "    <tr>\n",
       "      <th>0</th>\n",
       "      <td>10107</td>\n",
       "      <td>30</td>\n",
       "      <td>95.70</td>\n",
       "      <td>2</td>\n",
       "      <td>2871.00</td>\n",
       "      <td>2018-02-24</td>\n",
       "      <td>828</td>\n",
       "      <td>Shipped</td>\n",
       "      <td>Motorcycles</td>\n",
       "      <td>95</td>\n",
       "      <td>S10_1678</td>\n",
       "      <td>Land of Toys Inc.</td>\n",
       "      <td>2125557818</td>\n",
       "      <td>897 Long Airport Avenue</td>\n",
       "      <td>NYC</td>\n",
       "      <td>10022</td>\n",
       "      <td>USA</td>\n",
       "      <td>Yu</td>\n",
       "      <td>Kwai</td>\n",
       "      <td>Small</td>\n",
       "    </tr>\n",
       "    <tr>\n",
       "      <th>1</th>\n",
       "      <td>10121</td>\n",
       "      <td>34</td>\n",
       "      <td>81.35</td>\n",
       "      <td>5</td>\n",
       "      <td>2765.90</td>\n",
       "      <td>2018-05-07</td>\n",
       "      <td>757</td>\n",
       "      <td>Shipped</td>\n",
       "      <td>Motorcycles</td>\n",
       "      <td>95</td>\n",
       "      <td>S10_1678</td>\n",
       "      <td>Reims Collectables</td>\n",
       "      <td>26.47.1555</td>\n",
       "      <td>59 rue de l'Abbaye</td>\n",
       "      <td>Reims</td>\n",
       "      <td>51100</td>\n",
       "      <td>France</td>\n",
       "      <td>Henriot</td>\n",
       "      <td>Paul</td>\n",
       "      <td>Small</td>\n",
       "    </tr>\n",
       "    <tr>\n",
       "      <th>2</th>\n",
       "      <td>10134</td>\n",
       "      <td>41</td>\n",
       "      <td>94.74</td>\n",
       "      <td>2</td>\n",
       "      <td>3884.34</td>\n",
       "      <td>2018-07-01</td>\n",
       "      <td>703</td>\n",
       "      <td>Shipped</td>\n",
       "      <td>Motorcycles</td>\n",
       "      <td>95</td>\n",
       "      <td>S10_1678</td>\n",
       "      <td>Lyon Souveniers</td>\n",
       "      <td>+33 1 46 62 7555</td>\n",
       "      <td>27 rue du Colonel Pierre Avia</td>\n",
       "      <td>Paris</td>\n",
       "      <td>75508</td>\n",
       "      <td>France</td>\n",
       "      <td>Da Cunha</td>\n",
       "      <td>Daniel</td>\n",
       "      <td>Medium</td>\n",
       "    </tr>\n",
       "    <tr>\n",
       "      <th>3</th>\n",
       "      <td>10145</td>\n",
       "      <td>45</td>\n",
       "      <td>83.26</td>\n",
       "      <td>6</td>\n",
       "      <td>3746.70</td>\n",
       "      <td>2018-08-25</td>\n",
       "      <td>649</td>\n",
       "      <td>Shipped</td>\n",
       "      <td>Motorcycles</td>\n",
       "      <td>95</td>\n",
       "      <td>S10_1678</td>\n",
       "      <td>Toys4GrownUps.com</td>\n",
       "      <td>6265557265</td>\n",
       "      <td>78934 Hillside Dr.</td>\n",
       "      <td>Pasadena</td>\n",
       "      <td>90003</td>\n",
       "      <td>USA</td>\n",
       "      <td>Young</td>\n",
       "      <td>Julie</td>\n",
       "      <td>Medium</td>\n",
       "    </tr>\n",
       "    <tr>\n",
       "      <th>4</th>\n",
       "      <td>10168</td>\n",
       "      <td>36</td>\n",
       "      <td>96.66</td>\n",
       "      <td>1</td>\n",
       "      <td>3479.76</td>\n",
       "      <td>2018-10-28</td>\n",
       "      <td>586</td>\n",
       "      <td>Shipped</td>\n",
       "      <td>Motorcycles</td>\n",
       "      <td>95</td>\n",
       "      <td>S10_1678</td>\n",
       "      <td>Technics Stores Inc.</td>\n",
       "      <td>6505556809</td>\n",
       "      <td>9408 Furth Circle</td>\n",
       "      <td>Burlingame</td>\n",
       "      <td>94217</td>\n",
       "      <td>USA</td>\n",
       "      <td>Hirano</td>\n",
       "      <td>Juri</td>\n",
       "      <td>Medium</td>\n",
       "    </tr>\n",
       "  </tbody>\n",
       "</table>\n",
       "</div>"
      ],
      "text/plain": [
       "   ORDERNUMBER  QUANTITYORDERED  PRICEEACH  ORDERLINENUMBER    SALES  \\\n",
       "0        10107               30      95.70                2  2871.00   \n",
       "1        10121               34      81.35                5  2765.90   \n",
       "2        10134               41      94.74                2  3884.34   \n",
       "3        10145               45      83.26                6  3746.70   \n",
       "4        10168               36      96.66                1  3479.76   \n",
       "\n",
       "   ORDERDATE  DAYS_SINCE_LASTORDER   STATUS  PRODUCTLINE  MSRP PRODUCTCODE  \\\n",
       "0 2018-02-24                   828  Shipped  Motorcycles    95    S10_1678   \n",
       "1 2018-05-07                   757  Shipped  Motorcycles    95    S10_1678   \n",
       "2 2018-07-01                   703  Shipped  Motorcycles    95    S10_1678   \n",
       "3 2018-08-25                   649  Shipped  Motorcycles    95    S10_1678   \n",
       "4 2018-10-28                   586  Shipped  Motorcycles    95    S10_1678   \n",
       "\n",
       "           CUSTOMERNAME             PHONE                   ADDRESSLINE1  \\\n",
       "0     Land of Toys Inc.        2125557818        897 Long Airport Avenue   \n",
       "1    Reims Collectables        26.47.1555             59 rue de l'Abbaye   \n",
       "2       Lyon Souveniers  +33 1 46 62 7555  27 rue du Colonel Pierre Avia   \n",
       "3     Toys4GrownUps.com        6265557265             78934 Hillside Dr.   \n",
       "4  Technics Stores Inc.        6505556809              9408 Furth Circle   \n",
       "\n",
       "         CITY POSTALCODE COUNTRY CONTACTLASTNAME CONTACTFIRSTNAME DEALSIZE  \n",
       "0         NYC      10022     USA              Yu             Kwai    Small  \n",
       "1       Reims      51100  France         Henriot             Paul    Small  \n",
       "2       Paris      75508  France        Da Cunha           Daniel   Medium  \n",
       "3    Pasadena      90003     USA           Young            Julie   Medium  \n",
       "4  Burlingame      94217     USA          Hirano             Juri   Medium  "
      ]
     },
     "execution_count": 5,
     "metadata": {},
     "output_type": "execute_result"
    }
   ],
   "source": [
    "df.head() #glance of dataset"
   ]
  },
  {
   "cell_type": "code",
   "execution_count": 6,
   "id": "b16086e6",
   "metadata": {},
   "outputs": [
    {
     "data": {
      "text/plain": [
       "(2747, 20)"
      ]
     },
     "execution_count": 6,
     "metadata": {},
     "output_type": "execute_result"
    }
   ],
   "source": [
    "df.shape"
   ]
  },
  {
   "cell_type": "code",
   "execution_count": 7,
   "id": "bdfa0334",
   "metadata": {},
   "outputs": [
    {
     "name": "stdout",
     "output_type": "stream",
     "text": [
      "<class 'pandas.core.frame.DataFrame'>\n",
      "RangeIndex: 2747 entries, 0 to 2746\n",
      "Data columns (total 20 columns):\n",
      " #   Column                Non-Null Count  Dtype         \n",
      "---  ------                --------------  -----         \n",
      " 0   ORDERNUMBER           2747 non-null   int64         \n",
      " 1   QUANTITYORDERED       2747 non-null   int64         \n",
      " 2   PRICEEACH             2747 non-null   float64       \n",
      " 3   ORDERLINENUMBER       2747 non-null   int64         \n",
      " 4   SALES                 2747 non-null   float64       \n",
      " 5   ORDERDATE             2747 non-null   datetime64[ns]\n",
      " 6   DAYS_SINCE_LASTORDER  2747 non-null   int64         \n",
      " 7   STATUS                2747 non-null   object        \n",
      " 8   PRODUCTLINE           2747 non-null   object        \n",
      " 9   MSRP                  2747 non-null   int64         \n",
      " 10  PRODUCTCODE           2747 non-null   object        \n",
      " 11  CUSTOMERNAME          2747 non-null   object        \n",
      " 12  PHONE                 2747 non-null   object        \n",
      " 13  ADDRESSLINE1          2747 non-null   object        \n",
      " 14  CITY                  2747 non-null   object        \n",
      " 15  POSTALCODE            2747 non-null   object        \n",
      " 16  COUNTRY               2747 non-null   object        \n",
      " 17  CONTACTLASTNAME       2747 non-null   object        \n",
      " 18  CONTACTFIRSTNAME      2747 non-null   object        \n",
      " 19  DEALSIZE              2747 non-null   object        \n",
      "dtypes: datetime64[ns](1), float64(2), int64(5), object(12)\n",
      "memory usage: 429.3+ KB\n"
     ]
    }
   ],
   "source": [
    "df.info() #information about the variables present in the dataset"
   ]
  },
  {
   "cell_type": "code",
   "execution_count": 8,
   "id": "50a9dab2",
   "metadata": {},
   "outputs": [
    {
     "data": {
      "text/plain": [
       "ORDERNUMBER             0\n",
       "QUANTITYORDERED         0\n",
       "PRICEEACH               0\n",
       "ORDERLINENUMBER         0\n",
       "SALES                   0\n",
       "ORDERDATE               0\n",
       "DAYS_SINCE_LASTORDER    0\n",
       "STATUS                  0\n",
       "PRODUCTLINE             0\n",
       "MSRP                    0\n",
       "PRODUCTCODE             0\n",
       "CUSTOMERNAME            0\n",
       "PHONE                   0\n",
       "ADDRESSLINE1            0\n",
       "CITY                    0\n",
       "POSTALCODE              0\n",
       "COUNTRY                 0\n",
       "CONTACTLASTNAME         0\n",
       "CONTACTFIRSTNAME        0\n",
       "DEALSIZE                0\n",
       "dtype: int64"
      ]
     },
     "execution_count": 8,
     "metadata": {},
     "output_type": "execute_result"
    }
   ],
   "source": [
    "df.isnull().sum() #checking for the nulls"
   ]
  },
  {
   "cell_type": "code",
   "execution_count": 9,
   "id": "c0cb008a",
   "metadata": {},
   "outputs": [],
   "source": [
    "df['CONTACTFULLNAME'] = df['CONTACTFIRSTNAME']+' '+ df['CONTACTLASTNAME'] # Creating new column for contact name"
   ]
  },
  {
   "cell_type": "code",
   "execution_count": 10,
   "id": "d69251fd",
   "metadata": {},
   "outputs": [],
   "source": [
    "df.drop(labels=['CONTACTFIRSTNAME','CONTACTLASTNAME'],axis=1,inplace=True) # Dropping the unnecessary columns"
   ]
  },
  {
   "cell_type": "code",
   "execution_count": 11,
   "id": "291c29b6",
   "metadata": {},
   "outputs": [
    {
     "data": {
      "text/plain": [
       "0"
      ]
     },
     "execution_count": 11,
     "metadata": {},
     "output_type": "execute_result"
    }
   ],
   "source": [
    "df.duplicated().sum() #checking for the duplicated rows"
   ]
  },
  {
   "cell_type": "code",
   "execution_count": 12,
   "id": "7af82c46",
   "metadata": {},
   "outputs": [
    {
     "data": {
      "text/plain": [
       "Timestamp('2020-05-31 00:00:00')"
      ]
     },
     "execution_count": 12,
     "metadata": {},
     "output_type": "execute_result"
    }
   ],
   "source": [
    "last_order_date = df.groupby('CUSTOMERNAME').max()['ORDERDATE'].max()\n",
    "last_order_date"
   ]
  },
  {
   "cell_type": "markdown",
   "id": "d815d9ce",
   "metadata": {},
   "source": [
    "### NOTE:\n",
    "For data exploration, tableau public edition was used.\n",
    "For more information please refer to this link:\n",
    "https://public.tableau.com/app/profile/dev.tripathi/viz/MARKET_n_RETAIL_PROJECT/Order_Sales_Status"
   ]
  },
  {
   "cell_type": "markdown",
   "id": "2395f8b4",
   "metadata": {},
   "source": [
    "# RFM CALCULATION"
   ]
  },
  {
   "cell_type": "markdown",
   "id": "cf43caca",
   "metadata": {},
   "source": [
    "## Recency:"
   ]
  },
  {
   "cell_type": "code",
   "execution_count": 13,
   "id": "af75bf99",
   "metadata": {},
   "outputs": [],
   "source": [
    "# Here we have taken an  assumption that this analysis is being performed on '1st June 2020'\n",
    "df['DAYS_SINCE_LASTORDER'] = pd.to_datetime('2020-06-01')-df['ORDERDATE']"
   ]
  },
  {
   "cell_type": "code",
   "execution_count": 14,
   "id": "507f5ab1",
   "metadata": {},
   "outputs": [],
   "source": [
    "df_r =  pd.DataFrame(df.groupby('CUSTOMERNAME').min()['DAYS_SINCE_LASTORDER'])"
   ]
  },
  {
   "cell_type": "code",
   "execution_count": 15,
   "id": "edd1223c",
   "metadata": {},
   "outputs": [],
   "source": [
    "df_r['DAYS_SINCE_LASTORDER'] = df_r['DAYS_SINCE_LASTORDER'].apply(lambda x: int(x.days))"
   ]
  },
  {
   "cell_type": "code",
   "execution_count": 16,
   "id": "c5e7cf37",
   "metadata": {},
   "outputs": [],
   "source": [
    "df_r['Max_Order_Date'] = df.groupby('CUSTOMERNAME').max()['ORDERDATE']"
   ]
  },
  {
   "cell_type": "code",
   "execution_count": 17,
   "id": "dfbfd5ef",
   "metadata": {},
   "outputs": [],
   "source": [
    "df_r['Recency'] = pd.qcut(df_r['DAYS_SINCE_LASTORDER'],q=[0,.333,.666,1],labels=['High','Medium','Low'])"
   ]
  },
  {
   "cell_type": "code",
   "execution_count": 18,
   "id": "3541aa0c",
   "metadata": {},
   "outputs": [
    {
     "data": {
      "text/html": [
       "<div>\n",
       "<style scoped>\n",
       "    .dataframe tbody tr th:only-of-type {\n",
       "        vertical-align: middle;\n",
       "    }\n",
       "\n",
       "    .dataframe tbody tr th {\n",
       "        vertical-align: top;\n",
       "    }\n",
       "\n",
       "    .dataframe thead th {\n",
       "        text-align: right;\n",
       "    }\n",
       "</style>\n",
       "<table border=\"1\" class=\"dataframe\">\n",
       "  <thead>\n",
       "    <tr style=\"text-align: right;\">\n",
       "      <th></th>\n",
       "      <th>DAYS_SINCE_LASTORDER</th>\n",
       "      <th>Max_Order_Date</th>\n",
       "      <th>Recency</th>\n",
       "    </tr>\n",
       "    <tr>\n",
       "      <th>CUSTOMERNAME</th>\n",
       "      <th></th>\n",
       "      <th></th>\n",
       "      <th></th>\n",
       "    </tr>\n",
       "  </thead>\n",
       "  <tbody>\n",
       "    <tr>\n",
       "      <th>AV Stores, Co.</th>\n",
       "      <td>197</td>\n",
       "      <td>2019-11-17</td>\n",
       "      <td>Medium</td>\n",
       "    </tr>\n",
       "    <tr>\n",
       "      <th>Alpha Cognac</th>\n",
       "      <td>65</td>\n",
       "      <td>2020-03-28</td>\n",
       "      <td>High</td>\n",
       "    </tr>\n",
       "    <tr>\n",
       "      <th>Amica Models &amp; Co.</th>\n",
       "      <td>266</td>\n",
       "      <td>2019-09-09</td>\n",
       "      <td>Low</td>\n",
       "    </tr>\n",
       "    <tr>\n",
       "      <th>Anna's Decorations, Ltd</th>\n",
       "      <td>84</td>\n",
       "      <td>2020-03-09</td>\n",
       "      <td>High</td>\n",
       "    </tr>\n",
       "    <tr>\n",
       "      <th>Atelier graphique</th>\n",
       "      <td>189</td>\n",
       "      <td>2019-11-25</td>\n",
       "      <td>Medium</td>\n",
       "    </tr>\n",
       "  </tbody>\n",
       "</table>\n",
       "</div>"
      ],
      "text/plain": [
       "                         DAYS_SINCE_LASTORDER Max_Order_Date Recency\n",
       "CUSTOMERNAME                                                        \n",
       "AV Stores, Co.                            197     2019-11-17  Medium\n",
       "Alpha Cognac                               65     2020-03-28    High\n",
       "Amica Models & Co.                        266     2019-09-09     Low\n",
       "Anna's Decorations, Ltd                    84     2020-03-09    High\n",
       "Atelier graphique                         189     2019-11-25  Medium"
      ]
     },
     "execution_count": 18,
     "metadata": {},
     "output_type": "execute_result"
    }
   ],
   "source": [
    "df_r.head()"
   ]
  },
  {
   "cell_type": "code",
   "execution_count": 19,
   "id": "d3be730d",
   "metadata": {},
   "outputs": [
    {
     "data": {
      "image/png": "[encoded data removed]",
      "text/plain": [
       "<Figure size 432x288 with 1 Axes>"
      ]
     },
     "metadata": {
      "needs_background": "light"
     },
     "output_type": "display_data"
    }
   ],
   "source": [
    "sns.countplot(x='Recency',data=df_r);"
   ]
  },
  {
   "cell_type": "markdown",
   "id": "cc15729a",
   "metadata": {},
   "source": [
    "## Frequency"
   ]
  },
  {
   "cell_type": "code",
   "execution_count": 20,
   "id": "d50bd4c3",
   "metadata": {},
   "outputs": [],
   "source": [
    "df_f = pd.DataFrame(df.groupby('CUSTOMERNAME').count()['ORDERNUMBER']) # number of orders placed by a single customer"
   ]
  },
  {
   "cell_type": "code",
   "execution_count": 21,
   "id": "b6598009",
   "metadata": {},
   "outputs": [],
   "source": [
    "df_f = pd.DataFrame(df_f['ORDERNUMBER'].rename('Num_Transactions',inplace=True)) "
   ]
  },
  {
   "cell_type": "code",
   "execution_count": 22,
   "id": "10c7734a",
   "metadata": {},
   "outputs": [],
   "source": [
    "oldest_order_date = df.groupby('CUSTOMERNAME').min()['ORDERDATE']\n",
    "df_f['Oldest_order_date'] = oldest_order_date\n",
    "df_f['Num_Months_01_06_20'] = (pd.to_datetime('2020-06-01')-oldest_order_date).apply(lambda x: x/ np.timedelta64(1, \"M\")).values"
   ]
  },
  {
   "cell_type": "code",
   "execution_count": 23,
   "id": "875d57db",
   "metadata": {},
   "outputs": [],
   "source": [
    "df_f['Transc_per_month'] = (df_f['Num_Transactions']/df_f['Num_Months_01_06_20']).apply(int) "
   ]
  },
  {
   "cell_type": "code",
   "execution_count": 24,
   "id": "63e37592",
   "metadata": {},
   "outputs": [],
   "source": [
    "df_f['Frequency']=pd.cut(df_f['Transc_per_month'],\n",
    "                         bins =[-.5,0.5,1.5,5.5,10],\n",
    "                         labels=['Low', 'Medium', 'High', 'VeryHigh'])"
   ]
  },
  {
   "cell_type": "code",
   "execution_count": 25,
   "id": "69f47596",
   "metadata": {},
   "outputs": [
    {
     "data": {
      "text/html": [
       "<div>\n",
       "<style scoped>\n",
       "    .dataframe tbody tr th:only-of-type {\n",
       "        vertical-align: middle;\n",
       "    }\n",
       "\n",
       "    .dataframe tbody tr th {\n",
       "        vertical-align: top;\n",
       "    }\n",
       "\n",
       "    .dataframe thead th {\n",
       "        text-align: right;\n",
       "    }\n",
       "</style>\n",
       "<table border=\"1\" class=\"dataframe\">\n",
       "  <thead>\n",
       "    <tr style=\"text-align: right;\">\n",
       "      <th></th>\n",
       "      <th>Num_Transactions</th>\n",
       "      <th>Oldest_order_date</th>\n",
       "      <th>Num_Months_01_06_20</th>\n",
       "      <th>Transc_per_month</th>\n",
       "      <th>Frequency</th>\n",
       "    </tr>\n",
       "    <tr>\n",
       "      <th>CUSTOMERNAME</th>\n",
       "      <th></th>\n",
       "      <th></th>\n",
       "      <th></th>\n",
       "      <th></th>\n",
       "      <th></th>\n",
       "    </tr>\n",
       "  </thead>\n",
       "  <tbody>\n",
       "    <tr>\n",
       "      <th>AV Stores, Co.</th>\n",
       "      <td>51</td>\n",
       "      <td>2018-03-18</td>\n",
       "      <td>26.481037</td>\n",
       "      <td>1</td>\n",
       "      <td>Medium</td>\n",
       "    </tr>\n",
       "    <tr>\n",
       "      <th>Alpha Cognac</th>\n",
       "      <td>20</td>\n",
       "      <td>2018-07-04</td>\n",
       "      <td>22.932709</td>\n",
       "      <td>0</td>\n",
       "      <td>Low</td>\n",
       "    </tr>\n",
       "    <tr>\n",
       "      <th>Amica Models &amp; Co.</th>\n",
       "      <td>26</td>\n",
       "      <td>2019-08-17</td>\n",
       "      <td>9.495062</td>\n",
       "      <td>2</td>\n",
       "      <td>High</td>\n",
       "    </tr>\n",
       "    <tr>\n",
       "      <th>Anna's Decorations, Ltd</th>\n",
       "      <td>46</td>\n",
       "      <td>2018-09-11</td>\n",
       "      <td>20.665722</td>\n",
       "      <td>2</td>\n",
       "      <td>High</td>\n",
       "    </tr>\n",
       "    <tr>\n",
       "      <th>Atelier graphique</th>\n",
       "      <td>7</td>\n",
       "      <td>2018-05-20</td>\n",
       "      <td>24.411179</td>\n",
       "      <td>0</td>\n",
       "      <td>Low</td>\n",
       "    </tr>\n",
       "  </tbody>\n",
       "</table>\n",
       "</div>"
      ],
      "text/plain": [
       "                         Num_Transactions Oldest_order_date  \\\n",
       "CUSTOMERNAME                                                  \n",
       "AV Stores, Co.                         51        2018-03-18   \n",
       "Alpha Cognac                           20        2018-07-04   \n",
       "Amica Models & Co.                     26        2019-08-17   \n",
       "Anna's Decorations, Ltd                46        2018-09-11   \n",
       "Atelier graphique                       7        2018-05-20   \n",
       "\n",
       "                         Num_Months_01_06_20  Transc_per_month Frequency  \n",
       "CUSTOMERNAME                                                              \n",
       "AV Stores, Co.                     26.481037                 1    Medium  \n",
       "Alpha Cognac                       22.932709                 0       Low  \n",
       "Amica Models & Co.                  9.495062                 2      High  \n",
       "Anna's Decorations, Ltd            20.665722                 2      High  \n",
       "Atelier graphique                  24.411179                 0       Low  "
      ]
     },
     "execution_count": 25,
     "metadata": {},
     "output_type": "execute_result"
    }
   ],
   "source": [
    "df_f.head()"
   ]
  },
  {
   "cell_type": "code",
   "execution_count": 26,
   "id": "a1d09306",
   "metadata": {},
   "outputs": [
    {
     "data": {
      "image/png": "[encoded data removed]",
      "text/plain": [
       "<Figure size 432x288 with 1 Axes>"
      ]
     },
     "metadata": {
      "needs_background": "light"
     },
     "output_type": "display_data"
    }
   ],
   "source": [
    "sns.countplot(x='Frequency',data=df_f);"
   ]
  },
  {
   "cell_type": "markdown",
   "id": "0213a320",
   "metadata": {},
   "source": [
    "## Monetary"
   ]
  },
  {
   "cell_type": "code",
   "execution_count": 27,
   "id": "08e29aa3",
   "metadata": {},
   "outputs": [],
   "source": [
    "df_m = pd.DataFrame(df.groupby('CUSTOMERNAME').sum()['SALES'])"
   ]
  },
  {
   "cell_type": "code",
   "execution_count": 28,
   "id": "cd81d470",
   "metadata": {},
   "outputs": [
    {
     "data": {
      "image/png": "[encoded data removed]",
      "text/plain": [
       "<Figure size 720x360 with 1 Axes>"
      ]
     },
     "metadata": {
      "needs_background": "light"
     },
     "output_type": "display_data"
    }
   ],
   "source": [
    "plt.figure(figsize=[10,5])\n",
    "sns.boxplot(data=df_m,x='SALES');"
   ]
  },
  {
   "cell_type": "code",
   "execution_count": 29,
   "id": "f823f36f",
   "metadata": {},
   "outputs": [
    {
     "data": {
      "text/html": [
       "<div>\n",
       "<style scoped>\n",
       "    .dataframe tbody tr th:only-of-type {\n",
       "        vertical-align: middle;\n",
       "    }\n",
       "\n",
       "    .dataframe tbody tr th {\n",
       "        vertical-align: top;\n",
       "    }\n",
       "\n",
       "    .dataframe thead th {\n",
       "        text-align: right;\n",
       "    }\n",
       "</style>\n",
       "<table border=\"1\" class=\"dataframe\">\n",
       "  <thead>\n",
       "    <tr style=\"text-align: right;\">\n",
       "      <th></th>\n",
       "      <th>SALES</th>\n",
       "    </tr>\n",
       "    <tr>\n",
       "      <th>CUSTOMERNAME</th>\n",
       "      <th></th>\n",
       "    </tr>\n",
       "  </thead>\n",
       "  <tbody>\n",
       "    <tr>\n",
       "      <th>Australian Collectors, Co.</th>\n",
       "      <td>200995.41</td>\n",
       "    </tr>\n",
       "    <tr>\n",
       "      <th>Euro Shopping Channel</th>\n",
       "      <td>912294.11</td>\n",
       "    </tr>\n",
       "    <tr>\n",
       "      <th>Mini Gifts Distributors Ltd.</th>\n",
       "      <td>654858.06</td>\n",
       "    </tr>\n",
       "  </tbody>\n",
       "</table>\n",
       "</div>"
      ],
      "text/plain": [
       "                                  SALES\n",
       "CUSTOMERNAME                           \n",
       "Australian Collectors, Co.    200995.41\n",
       "Euro Shopping Channel         912294.11\n",
       "Mini Gifts Distributors Ltd.  654858.06"
      ]
     },
     "execution_count": 29,
     "metadata": {},
     "output_type": "execute_result"
    }
   ],
   "source": [
    "df_m[df_m['SALES']>200000] #Customers having sales>200000"
   ]
  },
  {
   "cell_type": "code",
   "execution_count": 30,
   "id": "964d27e5",
   "metadata": {},
   "outputs": [
    {
     "data": {
      "image/png": "[encoded data removed]",
      "text/plain": [
       "<Figure size 720x360 with 1 Axes>"
      ]
     },
     "metadata": {
      "needs_background": "light"
     },
     "output_type": "display_data"
    }
   ],
   "source": [
    "a = df_m.drop(df_m[df_m['SALES']>200000].index) # After dropping the apparent outliers\n",
    "plt.figure(figsize=[10,5])\n",
    "sns.boxplot(x='SALES',data=a);"
   ]
  },
  {
   "cell_type": "code",
   "execution_count": 31,
   "id": "39403858",
   "metadata": {},
   "outputs": [],
   "source": [
    "df_m['Monetary']=pd.qcut(df_m['SALES'],[0,0.3333,0.6666,1],labels=['Low','Medium','High'])"
   ]
  },
  {
   "cell_type": "code",
   "execution_count": 32,
   "id": "dea1c8ba",
   "metadata": {},
   "outputs": [
    {
     "data": {
      "text/html": [
       "<div>\n",
       "<style scoped>\n",
       "    .dataframe tbody tr th:only-of-type {\n",
       "        vertical-align: middle;\n",
       "    }\n",
       "\n",
       "    .dataframe tbody tr th {\n",
       "        vertical-align: top;\n",
       "    }\n",
       "\n",
       "    .dataframe thead th {\n",
       "        text-align: right;\n",
       "    }\n",
       "</style>\n",
       "<table border=\"1\" class=\"dataframe\">\n",
       "  <thead>\n",
       "    <tr style=\"text-align: right;\">\n",
       "      <th></th>\n",
       "      <th>SALES</th>\n",
       "      <th>Monetary</th>\n",
       "    </tr>\n",
       "    <tr>\n",
       "      <th>CUSTOMERNAME</th>\n",
       "      <th></th>\n",
       "      <th></th>\n",
       "    </tr>\n",
       "  </thead>\n",
       "  <tbody>\n",
       "    <tr>\n",
       "      <th>AV Stores, Co.</th>\n",
       "      <td>157807.81</td>\n",
       "      <td>High</td>\n",
       "    </tr>\n",
       "    <tr>\n",
       "      <th>Alpha Cognac</th>\n",
       "      <td>70488.44</td>\n",
       "      <td>Low</td>\n",
       "    </tr>\n",
       "    <tr>\n",
       "      <th>Amica Models &amp; Co.</th>\n",
       "      <td>94117.26</td>\n",
       "      <td>Medium</td>\n",
       "    </tr>\n",
       "    <tr>\n",
       "      <th>Anna's Decorations, Ltd</th>\n",
       "      <td>153996.13</td>\n",
       "      <td>High</td>\n",
       "    </tr>\n",
       "    <tr>\n",
       "      <th>Atelier graphique</th>\n",
       "      <td>24179.96</td>\n",
       "      <td>Low</td>\n",
       "    </tr>\n",
       "  </tbody>\n",
       "</table>\n",
       "</div>"
      ],
      "text/plain": [
       "                             SALES Monetary\n",
       "CUSTOMERNAME                               \n",
       "AV Stores, Co.           157807.81     High\n",
       "Alpha Cognac              70488.44      Low\n",
       "Amica Models & Co.        94117.26   Medium\n",
       "Anna's Decorations, Ltd  153996.13     High\n",
       "Atelier graphique         24179.96      Low"
      ]
     },
     "execution_count": 32,
     "metadata": {},
     "output_type": "execute_result"
    }
   ],
   "source": [
    "df_m.head()"
   ]
  },
  {
   "cell_type": "markdown",
   "id": "47615e3d",
   "metadata": {},
   "source": [
    "## Merging R,F,M tables"
   ]
  },
  {
   "cell_type": "code",
   "execution_count": 33,
   "id": "42983059",
   "metadata": {},
   "outputs": [],
   "source": [
    "merged= pd.merge(df_r.reset_index(),df_f.reset_index(),on='CUSTOMERNAME')\n",
    "df_rfm = pd.merge(merged,df_m.reset_index(),on='CUSTOMERNAME')"
   ]
  },
  {
   "cell_type": "code",
   "execution_count": 34,
   "id": "847e5cea",
   "metadata": {},
   "outputs": [
    {
     "data": {
      "text/html": [
       "<div>\n",
       "<style scoped>\n",
       "    .dataframe tbody tr th:only-of-type {\n",
       "        vertical-align: middle;\n",
       "    }\n",
       "\n",
       "    .dataframe tbody tr th {\n",
       "        vertical-align: top;\n",
       "    }\n",
       "\n",
       "    .dataframe thead th {\n",
       "        text-align: right;\n",
       "    }\n",
       "</style>\n",
       "<table border=\"1\" class=\"dataframe\">\n",
       "  <thead>\n",
       "    <tr style=\"text-align: right;\">\n",
       "      <th></th>\n",
       "      <th>CUSTOMERNAME</th>\n",
       "      <th>DAYS_SINCE_LASTORDER</th>\n",
       "      <th>Max_Order_Date</th>\n",
       "      <th>Recency</th>\n",
       "      <th>Num_Transactions</th>\n",
       "      <th>Oldest_order_date</th>\n",
       "      <th>Num_Months_01_06_20</th>\n",
       "      <th>Transc_per_month</th>\n",
       "      <th>Frequency</th>\n",
       "      <th>SALES</th>\n",
       "      <th>Monetary</th>\n",
       "    </tr>\n",
       "  </thead>\n",
       "  <tbody>\n",
       "    <tr>\n",
       "      <th>0</th>\n",
       "      <td>AV Stores, Co.</td>\n",
       "      <td>197</td>\n",
       "      <td>2019-11-17</td>\n",
       "      <td>Medium</td>\n",
       "      <td>51</td>\n",
       "      <td>2018-03-18</td>\n",
       "      <td>26.481037</td>\n",
       "      <td>1</td>\n",
       "      <td>Medium</td>\n",
       "      <td>157807.81</td>\n",
       "      <td>High</td>\n",
       "    </tr>\n",
       "    <tr>\n",
       "      <th>1</th>\n",
       "      <td>Alpha Cognac</td>\n",
       "      <td>65</td>\n",
       "      <td>2020-03-28</td>\n",
       "      <td>High</td>\n",
       "      <td>20</td>\n",
       "      <td>2018-07-04</td>\n",
       "      <td>22.932709</td>\n",
       "      <td>0</td>\n",
       "      <td>Low</td>\n",
       "      <td>70488.44</td>\n",
       "      <td>Low</td>\n",
       "    </tr>\n",
       "    <tr>\n",
       "      <th>2</th>\n",
       "      <td>Amica Models &amp; Co.</td>\n",
       "      <td>266</td>\n",
       "      <td>2019-09-09</td>\n",
       "      <td>Low</td>\n",
       "      <td>26</td>\n",
       "      <td>2019-08-17</td>\n",
       "      <td>9.495062</td>\n",
       "      <td>2</td>\n",
       "      <td>High</td>\n",
       "      <td>94117.26</td>\n",
       "      <td>Medium</td>\n",
       "    </tr>\n",
       "    <tr>\n",
       "      <th>3</th>\n",
       "      <td>Anna's Decorations, Ltd</td>\n",
       "      <td>84</td>\n",
       "      <td>2020-03-09</td>\n",
       "      <td>High</td>\n",
       "      <td>46</td>\n",
       "      <td>2018-09-11</td>\n",
       "      <td>20.665722</td>\n",
       "      <td>2</td>\n",
       "      <td>High</td>\n",
       "      <td>153996.13</td>\n",
       "      <td>High</td>\n",
       "    </tr>\n",
       "    <tr>\n",
       "      <th>4</th>\n",
       "      <td>Atelier graphique</td>\n",
       "      <td>189</td>\n",
       "      <td>2019-11-25</td>\n",
       "      <td>Medium</td>\n",
       "      <td>7</td>\n",
       "      <td>2018-05-20</td>\n",
       "      <td>24.411179</td>\n",
       "      <td>0</td>\n",
       "      <td>Low</td>\n",
       "      <td>24179.96</td>\n",
       "      <td>Low</td>\n",
       "    </tr>\n",
       "  </tbody>\n",
       "</table>\n",
       "</div>"
      ],
      "text/plain": [
       "              CUSTOMERNAME  DAYS_SINCE_LASTORDER Max_Order_Date Recency  \\\n",
       "0           AV Stores, Co.                   197     2019-11-17  Medium   \n",
       "1             Alpha Cognac                    65     2020-03-28    High   \n",
       "2       Amica Models & Co.                   266     2019-09-09     Low   \n",
       "3  Anna's Decorations, Ltd                    84     2020-03-09    High   \n",
       "4        Atelier graphique                   189     2019-11-25  Medium   \n",
       "\n",
       "   Num_Transactions Oldest_order_date  Num_Months_01_06_20  Transc_per_month  \\\n",
       "0                51        2018-03-18            26.481037                 1   \n",
       "1                20        2018-07-04            22.932709                 0   \n",
       "2                26        2019-08-17             9.495062                 2   \n",
       "3                46        2018-09-11            20.665722                 2   \n",
       "4                 7        2018-05-20            24.411179                 0   \n",
       "\n",
       "  Frequency      SALES Monetary  \n",
       "0    Medium  157807.81     High  \n",
       "1       Low   70488.44      Low  \n",
       "2      High   94117.26   Medium  \n",
       "3      High  153996.13     High  \n",
       "4       Low   24179.96      Low  "
      ]
     },
     "execution_count": 34,
     "metadata": {},
     "output_type": "execute_result"
    }
   ],
   "source": [
    "df_rfm.head()"
   ]
  },
  {
   "cell_type": "code",
   "execution_count": 35,
   "id": "eb7d4d96",
   "metadata": {},
   "outputs": [],
   "source": [
    "df_rfm['rfm'] = df_rfm[['Recency','Frequency','Monetary']].apply(lambda x: '_'.join(x.values),axis=1)"
   ]
  },
  {
   "cell_type": "code",
   "execution_count": 36,
   "id": "a58be7c2",
   "metadata": {},
   "outputs": [
    {
     "data": {
      "text/html": [
       "<div>\n",
       "<style scoped>\n",
       "    .dataframe tbody tr th:only-of-type {\n",
       "        vertical-align: middle;\n",
       "    }\n",
       "\n",
       "    .dataframe tbody tr th {\n",
       "        vertical-align: top;\n",
       "    }\n",
       "\n",
       "    .dataframe thead th {\n",
       "        text-align: right;\n",
       "    }\n",
       "</style>\n",
       "<table border=\"1\" class=\"dataframe\">\n",
       "  <thead>\n",
       "    <tr style=\"text-align: right;\">\n",
       "      <th></th>\n",
       "      <th>CUSTOMERNAME</th>\n",
       "      <th>DAYS_SINCE_LASTORDER</th>\n",
       "      <th>Max_Order_Date</th>\n",
       "      <th>Recency</th>\n",
       "      <th>Num_Transactions</th>\n",
       "      <th>Oldest_order_date</th>\n",
       "      <th>Num_Months_01_06_20</th>\n",
       "      <th>Transc_per_month</th>\n",
       "      <th>Frequency</th>\n",
       "      <th>SALES</th>\n",
       "      <th>Monetary</th>\n",
       "      <th>rfm</th>\n",
       "    </tr>\n",
       "  </thead>\n",
       "  <tbody>\n",
       "    <tr>\n",
       "      <th>0</th>\n",
       "      <td>AV Stores, Co.</td>\n",
       "      <td>197</td>\n",
       "      <td>2019-11-17</td>\n",
       "      <td>Medium</td>\n",
       "      <td>51</td>\n",
       "      <td>2018-03-18</td>\n",
       "      <td>26.481037</td>\n",
       "      <td>1</td>\n",
       "      <td>Medium</td>\n",
       "      <td>157807.81</td>\n",
       "      <td>High</td>\n",
       "      <td>Medium_Medium_High</td>\n",
       "    </tr>\n",
       "    <tr>\n",
       "      <th>1</th>\n",
       "      <td>Alpha Cognac</td>\n",
       "      <td>65</td>\n",
       "      <td>2020-03-28</td>\n",
       "      <td>High</td>\n",
       "      <td>20</td>\n",
       "      <td>2018-07-04</td>\n",
       "      <td>22.932709</td>\n",
       "      <td>0</td>\n",
       "      <td>Low</td>\n",
       "      <td>70488.44</td>\n",
       "      <td>Low</td>\n",
       "      <td>High_Low_Low</td>\n",
       "    </tr>\n",
       "    <tr>\n",
       "      <th>2</th>\n",
       "      <td>Amica Models &amp; Co.</td>\n",
       "      <td>266</td>\n",
       "      <td>2019-09-09</td>\n",
       "      <td>Low</td>\n",
       "      <td>26</td>\n",
       "      <td>2019-08-17</td>\n",
       "      <td>9.495062</td>\n",
       "      <td>2</td>\n",
       "      <td>High</td>\n",
       "      <td>94117.26</td>\n",
       "      <td>Medium</td>\n",
       "      <td>Low_High_Medium</td>\n",
       "    </tr>\n",
       "    <tr>\n",
       "      <th>3</th>\n",
       "      <td>Anna's Decorations, Ltd</td>\n",
       "      <td>84</td>\n",
       "      <td>2020-03-09</td>\n",
       "      <td>High</td>\n",
       "      <td>46</td>\n",
       "      <td>2018-09-11</td>\n",
       "      <td>20.665722</td>\n",
       "      <td>2</td>\n",
       "      <td>High</td>\n",
       "      <td>153996.13</td>\n",
       "      <td>High</td>\n",
       "      <td>High_High_High</td>\n",
       "    </tr>\n",
       "    <tr>\n",
       "      <th>4</th>\n",
       "      <td>Atelier graphique</td>\n",
       "      <td>189</td>\n",
       "      <td>2019-11-25</td>\n",
       "      <td>Medium</td>\n",
       "      <td>7</td>\n",
       "      <td>2018-05-20</td>\n",
       "      <td>24.411179</td>\n",
       "      <td>0</td>\n",
       "      <td>Low</td>\n",
       "      <td>24179.96</td>\n",
       "      <td>Low</td>\n",
       "      <td>Medium_Low_Low</td>\n",
       "    </tr>\n",
       "    <tr>\n",
       "      <th>...</th>\n",
       "      <td>...</td>\n",
       "      <td>...</td>\n",
       "      <td>...</td>\n",
       "      <td>...</td>\n",
       "      <td>...</td>\n",
       "      <td>...</td>\n",
       "      <td>...</td>\n",
       "      <td>...</td>\n",
       "      <td>...</td>\n",
       "      <td>...</td>\n",
       "      <td>...</td>\n",
       "      <td>...</td>\n",
       "    </tr>\n",
       "    <tr>\n",
       "      <th>84</th>\n",
       "      <td>Vida Sport, Ltd</td>\n",
       "      <td>276</td>\n",
       "      <td>2019-08-30</td>\n",
       "      <td>Low</td>\n",
       "      <td>31</td>\n",
       "      <td>2019-02-22</td>\n",
       "      <td>15.277521</td>\n",
       "      <td>2</td>\n",
       "      <td>High</td>\n",
       "      <td>117713.56</td>\n",
       "      <td>High</td>\n",
       "      <td>Low_High_High</td>\n",
       "    </tr>\n",
       "    <tr>\n",
       "      <th>85</th>\n",
       "      <td>Vitachrome Inc.</td>\n",
       "      <td>209</td>\n",
       "      <td>2019-11-05</td>\n",
       "      <td>Medium</td>\n",
       "      <td>25</td>\n",
       "      <td>2018-01-10</td>\n",
       "      <td>28.682314</td>\n",
       "      <td>0</td>\n",
       "      <td>Low</td>\n",
       "      <td>88041.26</td>\n",
       "      <td>Medium</td>\n",
       "      <td>Medium_Low_Medium</td>\n",
       "    </tr>\n",
       "    <tr>\n",
       "      <th>86</th>\n",
       "      <td>Volvo Model Replicas, Co</td>\n",
       "      <td>195</td>\n",
       "      <td>2019-11-19</td>\n",
       "      <td>Medium</td>\n",
       "      <td>19</td>\n",
       "      <td>2018-03-24</td>\n",
       "      <td>26.283907</td>\n",
       "      <td>0</td>\n",
       "      <td>Low</td>\n",
       "      <td>75754.88</td>\n",
       "      <td>Low</td>\n",
       "      <td>Medium_Low_Low</td>\n",
       "    </tr>\n",
       "    <tr>\n",
       "      <th>87</th>\n",
       "      <td>West Coast Collectables Co.</td>\n",
       "      <td>489</td>\n",
       "      <td>2019-01-29</td>\n",
       "      <td>Low</td>\n",
       "      <td>13</td>\n",
       "      <td>2018-12-01</td>\n",
       "      <td>18.004476</td>\n",
       "      <td>0</td>\n",
       "      <td>Low</td>\n",
       "      <td>46084.64</td>\n",
       "      <td>Low</td>\n",
       "      <td>Low_Low_Low</td>\n",
       "    </tr>\n",
       "    <tr>\n",
       "      <th>88</th>\n",
       "      <td>giftsbymail.co.uk</td>\n",
       "      <td>213</td>\n",
       "      <td>2019-11-01</td>\n",
       "      <td>Low</td>\n",
       "      <td>26</td>\n",
       "      <td>2019-03-20</td>\n",
       "      <td>14.423294</td>\n",
       "      <td>1</td>\n",
       "      <td>Medium</td>\n",
       "      <td>78240.84</td>\n",
       "      <td>Medium</td>\n",
       "      <td>Low_Medium_Medium</td>\n",
       "    </tr>\n",
       "  </tbody>\n",
       "</table>\n",
       "<p>89 rows × 12 columns</p>\n",
       "</div>"
      ],
      "text/plain": [
       "                   CUSTOMERNAME  DAYS_SINCE_LASTORDER Max_Order_Date Recency  \\\n",
       "0                AV Stores, Co.                   197     2019-11-17  Medium   \n",
       "1                  Alpha Cognac                    65     2020-03-28    High   \n",
       "2            Amica Models & Co.                   266     2019-09-09     Low   \n",
       "3       Anna's Decorations, Ltd                    84     2020-03-09    High   \n",
       "4             Atelier graphique                   189     2019-11-25  Medium   \n",
       "..                          ...                   ...            ...     ...   \n",
       "84              Vida Sport, Ltd                   276     2019-08-30     Low   \n",
       "85              Vitachrome Inc.                   209     2019-11-05  Medium   \n",
       "86     Volvo Model Replicas, Co                   195     2019-11-19  Medium   \n",
       "87  West Coast Collectables Co.                   489     2019-01-29     Low   \n",
       "88            giftsbymail.co.uk                   213     2019-11-01     Low   \n",
       "\n",
       "    Num_Transactions Oldest_order_date  Num_Months_01_06_20  Transc_per_month  \\\n",
       "0                 51        2018-03-18            26.481037                 1   \n",
       "1                 20        2018-07-04            22.932709                 0   \n",
       "2                 26        2019-08-17             9.495062                 2   \n",
       "3                 46        2018-09-11            20.665722                 2   \n",
       "4                  7        2018-05-20            24.411179                 0   \n",
       "..               ...               ...                  ...               ...   \n",
       "84                31        2019-02-22            15.277521                 2   \n",
       "85                25        2018-01-10            28.682314                 0   \n",
       "86                19        2018-03-24            26.283907                 0   \n",
       "87                13        2018-12-01            18.004476                 0   \n",
       "88                26        2019-03-20            14.423294                 1   \n",
       "\n",
       "   Frequency      SALES Monetary                 rfm  \n",
       "0     Medium  157807.81     High  Medium_Medium_High  \n",
       "1        Low   70488.44      Low        High_Low_Low  \n",
       "2       High   94117.26   Medium     Low_High_Medium  \n",
       "3       High  153996.13     High      High_High_High  \n",
       "4        Low   24179.96      Low      Medium_Low_Low  \n",
       "..       ...        ...      ...                 ...  \n",
       "84      High  117713.56     High       Low_High_High  \n",
       "85       Low   88041.26   Medium   Medium_Low_Medium  \n",
       "86       Low   75754.88      Low      Medium_Low_Low  \n",
       "87       Low   46084.64      Low         Low_Low_Low  \n",
       "88    Medium   78240.84   Medium   Low_Medium_Medium  \n",
       "\n",
       "[89 rows x 12 columns]"
      ]
     },
     "execution_count": 36,
     "metadata": {},
     "output_type": "execute_result"
    }
   ],
   "source": [
    "df_rfm"
   ]
  },
  {
   "cell_type": "code",
   "execution_count": 37,
   "id": "6e3038d4",
   "metadata": {},
   "outputs": [
    {
     "data": {
      "image/png": "[encoded data removed]",
      "text/plain": [
       "<Figure size 864x720 with 1 Axes>"
      ]
     },
     "metadata": {
      "needs_background": "light"
     },
     "output_type": "display_data"
    }
   ],
   "source": [
    "plt.figure(figsize=[12,10])\n",
    "sns.countplot(y='rfm',data=df_rfm,orient='h');"
   ]
  },
  {
   "cell_type": "code",
   "execution_count": 38,
   "id": "489dd6eb",
   "metadata": {},
   "outputs": [],
   "source": [
    "### RUN THIS CELL TO EXPORT DATA TO EXCEL #####\n",
    "\n",
    "# #with pd.ExcelWriter('RFM_SALES.xlsx') as writer:\n",
    "#     df_rfm.to_excel(writer, sheet_name='python_RFM')\n",
    "#     df_rfm[['CUSTOMERNAME','Recency','Frequency','Monetary','rfm']].to_excel(writer, sheet_name='RFM')"
   ]
  },
  {
   "cell_type": "code",
   "execution_count": 39,
   "id": "eeed7443",
   "metadata": {},
   "outputs": [
    {
     "data": {
      "text/html": [
       "<div>\n",
       "<style scoped>\n",
       "    .dataframe tbody tr th:only-of-type {\n",
       "        vertical-align: middle;\n",
       "    }\n",
       "\n",
       "    .dataframe tbody tr th {\n",
       "        vertical-align: top;\n",
       "    }\n",
       "\n",
       "    .dataframe thead th {\n",
       "        text-align: right;\n",
       "    }\n",
       "</style>\n",
       "<table border=\"1\" class=\"dataframe\">\n",
       "  <thead>\n",
       "    <tr style=\"text-align: right;\">\n",
       "      <th></th>\n",
       "      <th>CUSTOMERNAME</th>\n",
       "      <th>Recency</th>\n",
       "      <th>Frequency</th>\n",
       "      <th>Monetary</th>\n",
       "      <th>rfm</th>\n",
       "    </tr>\n",
       "  </thead>\n",
       "  <tbody>\n",
       "    <tr>\n",
       "      <th>0</th>\n",
       "      <td>AV Stores, Co.</td>\n",
       "      <td>Medium</td>\n",
       "      <td>Medium</td>\n",
       "      <td>High</td>\n",
       "      <td>Medium_Medium_High</td>\n",
       "    </tr>\n",
       "    <tr>\n",
       "      <th>1</th>\n",
       "      <td>Alpha Cognac</td>\n",
       "      <td>High</td>\n",
       "      <td>Low</td>\n",
       "      <td>Low</td>\n",
       "      <td>High_Low_Low</td>\n",
       "    </tr>\n",
       "    <tr>\n",
       "      <th>2</th>\n",
       "      <td>Amica Models &amp; Co.</td>\n",
       "      <td>Low</td>\n",
       "      <td>High</td>\n",
       "      <td>Medium</td>\n",
       "      <td>Low_High_Medium</td>\n",
       "    </tr>\n",
       "    <tr>\n",
       "      <th>3</th>\n",
       "      <td>Anna's Decorations, Ltd</td>\n",
       "      <td>High</td>\n",
       "      <td>High</td>\n",
       "      <td>High</td>\n",
       "      <td>High_High_High</td>\n",
       "    </tr>\n",
       "    <tr>\n",
       "      <th>4</th>\n",
       "      <td>Atelier graphique</td>\n",
       "      <td>Medium</td>\n",
       "      <td>Low</td>\n",
       "      <td>Low</td>\n",
       "      <td>Medium_Low_Low</td>\n",
       "    </tr>\n",
       "  </tbody>\n",
       "</table>\n",
       "</div>"
      ],
      "text/plain": [
       "              CUSTOMERNAME Recency Frequency Monetary                 rfm\n",
       "0           AV Stores, Co.  Medium    Medium     High  Medium_Medium_High\n",
       "1             Alpha Cognac    High       Low      Low        High_Low_Low\n",
       "2       Amica Models & Co.     Low      High   Medium     Low_High_Medium\n",
       "3  Anna's Decorations, Ltd    High      High     High      High_High_High\n",
       "4        Atelier graphique  Medium       Low      Low      Medium_Low_Low"
      ]
     },
     "execution_count": 39,
     "metadata": {},
     "output_type": "execute_result"
    }
   ],
   "source": [
    "df_rfm[['CUSTOMERNAME','Recency','Frequency','Monetary','rfm']].head()"
   ]
  },
  {
   "cell_type": "markdown",
   "id": "f8239c48",
   "metadata": {},
   "source": [
    "### NOTE: \n",
    "\n",
    "For segmentation excel was used. For more information please refer to excel file (named as RFM_Sales.xlsx) attached with this notebook file."
   ]
  },
  {
   "cell_type": "markdown",
   "id": "8409f428",
   "metadata": {},
   "source": [
    "# Thank you!"
   ]
  }
 ],
 "metadata": {
  "kernelspec": {
   "display_name": "Python 3 (ipykernel)",
   "language": "python",
   "name": "python3"
  },
  "language_info": {
   "codemirror_mode": {
    "name": "ipython",
    "version": 3
   },
   "file_extension": ".py",
   "mimetype": "text/x-python",
   "name": "python",
   "nbconvert_exporter": "python",
   "pygments_lexer": "ipython3",
   "version": "3.11.5"
  }
 },
 "nbformat": 4,
 "nbformat_minor": 5
}
