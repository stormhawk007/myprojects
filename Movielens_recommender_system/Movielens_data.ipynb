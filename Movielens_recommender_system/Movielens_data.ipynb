{
 "cells": [
  {
   "cell_type": "markdown",
   "id": "9e3379fe-f70e-4448-ae9f-10e9a377de03",
   "metadata": {
    "tags": []
   },
   "source": [
    "<div style=\"width:100%\">\n",
    "    <img src='image.png' style=\"max-width:100%; height:auto;\">\n",
    "</div>"
   ]
  },
  {
   "cell_type": "markdown",
   "id": "0f0ce3fd",
   "metadata": {
    "tags": []
   },
   "source": [
    "<div style=\"background-color: lightblue; text-align: center; padding: 10px; position: relative; border-radius: 10px\">\n",
    "    <h1><b>Data Import</b></h1>\n",
    "</div>"
   ]
  },
  {
   "cell_type": "code",
   "execution_count": 1,
   "id": "378a5371",
   "metadata": {
    "tags": []
   },
   "outputs": [],
   "source": [
    "import os\n",
    "import pandas as pd\n",
    "import numpy as np\n",
    "import seaborn as sns\n",
    "import ipywidgets as widgets\n",
    "from IPython.display import display, HTML\n",
    "\n",
    "import matplotlib.pyplot as plt\n",
    "%matplotlib inline\n",
    "import plotly.express as px\n",
    "from datetime import datetime \n",
    "import re\n",
    "from sklearn.metrics.pairwise import cosine_similarity\n",
    "from sklearn.feature_extraction.text import TfidfVectorizer\n",
    "pd.set_option('display.max_columns',30)\n",
    "import random \n",
    "import warnings\n",
    "warnings.filterwarnings(\"ignore\")\n",
    "\n",
    "from scipy import sparse\n",
    "# !pip install scikit-surprise\n",
    "from surprise import Reader, Dataset, SVD\n",
    "from surprise.model_selection import cross_validate\n",
    "\n",
    "first_run =1\n",
    "\n",
    "sns.set_style('whitegrid')"
   ]
  },
  {
   "cell_type": "code",
   "execution_count": 2,
   "id": "a923ae62",
   "metadata": {
    "tags": []
   },
   "outputs": [],
   "source": [
    "movies = pd.read_csv('ml-latest-small/movies.csv')\n",
    "ratings = pd.read_csv('ml-latest-small/ratings.csv')\n",
    "tag = pd.read_csv('ml-latest-small/tags.csv')"
   ]
  },
  {
   "cell_type": "code",
   "execution_count": 3,
   "id": "ead72197-582f-4417-80a0-4a58c4f6e220",
   "metadata": {
    "tags": []
   },
   "outputs": [],
   "source": [
    "def basic_info(dfs):\n",
    "    for df in dfs:\n",
    "        print(df.shape,\"\\n\"+\"*\"*100)\n",
    "        print(df.info(),\"\\n\"+\"*\"*100)\n",
    "        print(df.columns,\"\\n\"+\"*\"*100)\n",
    "        print(df.sample(10),\"\\n\"+\"*\"*100)\n",
    "        print(df.describe(include='all'),\"\\n\"+\"*\"*100)\n",
    "        print(\"\\n\\n\"+\"#\"*100)\n",
    "    return"
   ]
  },
  {
   "cell_type": "code",
   "execution_count": 4,
   "id": "f31cb18b-9ba8-4523-9ac3-df595f81e85f",
   "metadata": {
    "tags": []
   },
   "outputs": [
    {
     "name": "stdout",
     "output_type": "stream",
     "text": [
      "(3683, 4) \n",
      "****************************************************************************************************\n",
      "<class 'pandas.core.frame.DataFrame'>\n",
      "RangeIndex: 3683 entries, 0 to 3682\n",
      "Data columns (total 4 columns):\n",
      " #   Column     Non-Null Count  Dtype \n",
      "---  ------     --------------  ----- \n",
      " 0   userId     3683 non-null   int64 \n",
      " 1   movieId    3683 non-null   int64 \n",
      " 2   tag        3683 non-null   object\n",
      " 3   timestamp  3683 non-null   int64 \n",
      "dtypes: int64(3), object(1)\n",
      "memory usage: 115.2+ KB\n",
      "None \n",
      "****************************************************************************************************\n",
      "Index(['userId', 'movieId', 'tag', 'timestamp'], dtype='object') \n",
      "****************************************************************************************************\n",
      "      userId  movieId                tag   timestamp\n",
      "1447     474     1423   In Netflix queue  1137202085\n",
      "2072     474     6104              spoof  1138039279\n",
      "1266     474     1030             Disney  1137374219\n",
      "1225     474      936           Cold War  1137521228\n",
      "2857     537    90439   big corporations  1424138651\n",
      "3368     599      293       Lolita theme  1498456188\n",
      "3421     599      296          cult film  1498456345\n",
      "3304     567   176371        atmospheric  1525283076\n",
      "813      424     2329  thought-provoking  1457843729\n",
      "1414     474     1345        high school  1137784649 \n",
      "****************************************************************************************************\n",
      "             userId        movieId               tag     timestamp\n",
      "count   3683.000000    3683.000000              3683  3.683000e+03\n",
      "unique          NaN            NaN              1589           NaN\n",
      "top             NaN            NaN  In Netflix queue           NaN\n",
      "freq            NaN            NaN               131           NaN\n",
      "mean     431.149335   27252.013576               NaN  1.320032e+09\n",
      "std      158.472553   43490.558803               NaN  1.721025e+08\n",
      "min        2.000000       1.000000               NaN  1.137179e+09\n",
      "25%      424.000000    1262.500000               NaN  1.137521e+09\n",
      "50%      474.000000    4454.000000               NaN  1.269833e+09\n",
      "75%      477.000000   39263.000000               NaN  1.498457e+09\n",
      "max      610.000000  193565.000000               NaN  1.537099e+09 \n",
      "****************************************************************************************************\n",
      "\n",
      "\n",
      "####################################################################################################\n"
     ]
    }
   ],
   "source": [
    "basic_info([tag])"
   ]
  },
  {
   "cell_type": "markdown",
   "id": "8ba55515-17d7-4504-95af-bab78abba88c",
   "metadata": {
    "tags": []
   },
   "source": [
    "<div style=\"background-color: lightblue; text-align: center; padding: 10px; position: relative; border-radius: 10px\">\n",
    "    <h1><b>Movies Dataset EDA</b></h1>\n",
    "</div>"
   ]
  },
  {
   "cell_type": "markdown",
   "id": "72022479-d2ac-4827-afd5-60bca3ebc4b1",
   "metadata": {
    "tags": []
   },
   "source": [
    "## Cleaning, Visuals and Feature Engineering"
   ]
  },
  {
   "cell_type": "code",
   "execution_count": 5,
   "id": "1ada1e01-e524-4609-af34-c0e684aba9ec",
   "metadata": {
    "tags": []
   },
   "outputs": [],
   "source": [
    "def clean_title(title):\n",
    "    '''A function to clean the all the non-charaters'''\n",
    "    title = re.sub(\"[^a-zA-Z0-9 ]\", \"\", title)\n",
    "    return title"
   ]
  },
  {
   "cell_type": "code",
   "execution_count": 6,
   "id": "472e7442-27f2-4040-a506-5e3ea8cfa385",
   "metadata": {
    "tags": []
   },
   "outputs": [],
   "source": [
    "def year_extract(title):\n",
    "    ''' A function to extract title year from the title column'''\n",
    "    title = title.split()\n",
    "    if bool(re.match(\"[0-9]\",title[-1])):\n",
    "        return title[-1]\n",
    "    else:\n",
    "        return None"
   ]
  },
  {
   "cell_type": "code",
   "execution_count": 7,
   "id": "7485ce71-5d34-4f9d-b158-e78a81cebf2c",
   "metadata": {
    "tags": []
   },
   "outputs": [],
   "source": [
    "movies['title'] = movies['title'].apply(clean_title)\n",
    "movies['release_year'] = movies['title'].apply(year_extract)\n"
   ]
  },
  {
   "cell_type": "code",
   "execution_count": 8,
   "id": "6037ef33-725d-4bc4-a734-0605b583850c",
   "metadata": {},
   "outputs": [
    {
     "data": {
      "text/plain": [
       "movieId          0\n",
       "title            0\n",
       "genres           0\n",
       "release_year    10\n",
       "dtype: int64"
      ]
     },
     "execution_count": 8,
     "metadata": {},
     "output_type": "execute_result"
    }
   ],
   "source": [
    "movies.isnull().sum()"
   ]
  },
  {
   "cell_type": "code",
   "execution_count": 9,
   "id": "0186cd5d-9ef9-4601-b489-1c3fdaea2ec8",
   "metadata": {},
   "outputs": [
    {
     "data": {
      "text/html": [
       "<div>\n",
       "<style scoped>\n",
       "    .dataframe tbody tr th:only-of-type {\n",
       "        vertical-align: middle;\n",
       "    }\n",
       "\n",
       "    .dataframe tbody tr th {\n",
       "        vertical-align: top;\n",
       "    }\n",
       "\n",
       "    .dataframe thead th {\n",
       "        text-align: right;\n",
       "    }\n",
       "</style>\n",
       "<table border=\"1\" class=\"dataframe\">\n",
       "  <thead>\n",
       "    <tr style=\"text-align: right;\">\n",
       "      <th></th>\n",
       "      <th>movieId</th>\n",
       "      <th>title</th>\n",
       "      <th>genres</th>\n",
       "      <th>release_year</th>\n",
       "    </tr>\n",
       "  </thead>\n",
       "  <tbody>\n",
       "    <tr>\n",
       "      <th>9031</th>\n",
       "      <td>140956</td>\n",
       "      <td>Ready Player One</td>\n",
       "      <td>Action|Sci-Fi|Thriller</td>\n",
       "      <td>None</td>\n",
       "    </tr>\n",
       "    <tr>\n",
       "      <th>9091</th>\n",
       "      <td>143410</td>\n",
       "      <td>Hyena Road</td>\n",
       "      <td>(no genres listed)</td>\n",
       "      <td>None</td>\n",
       "    </tr>\n",
       "    <tr>\n",
       "      <th>9138</th>\n",
       "      <td>147250</td>\n",
       "      <td>The Adventures of Sherlock Holmes and Doctor W...</td>\n",
       "      <td>(no genres listed)</td>\n",
       "      <td>None</td>\n",
       "    </tr>\n",
       "    <tr>\n",
       "      <th>9179</th>\n",
       "      <td>149334</td>\n",
       "      <td>Nocturnal Animals</td>\n",
       "      <td>Drama|Thriller</td>\n",
       "      <td>None</td>\n",
       "    </tr>\n",
       "    <tr>\n",
       "      <th>9259</th>\n",
       "      <td>156605</td>\n",
       "      <td>Paterson</td>\n",
       "      <td>(no genres listed)</td>\n",
       "      <td>None</td>\n",
       "    </tr>\n",
       "    <tr>\n",
       "      <th>9367</th>\n",
       "      <td>162414</td>\n",
       "      <td>Moonlight</td>\n",
       "      <td>Drama</td>\n",
       "      <td>None</td>\n",
       "    </tr>\n",
       "    <tr>\n",
       "      <th>9448</th>\n",
       "      <td>167570</td>\n",
       "      <td>The OA</td>\n",
       "      <td>(no genres listed)</td>\n",
       "      <td>None</td>\n",
       "    </tr>\n",
       "    <tr>\n",
       "      <th>9514</th>\n",
       "      <td>171495</td>\n",
       "      <td>Cosmos</td>\n",
       "      <td>(no genres listed)</td>\n",
       "      <td>None</td>\n",
       "    </tr>\n",
       "    <tr>\n",
       "      <th>9515</th>\n",
       "      <td>171631</td>\n",
       "      <td>Maria Bamford Old Baby</td>\n",
       "      <td>(no genres listed)</td>\n",
       "      <td>None</td>\n",
       "    </tr>\n",
       "    <tr>\n",
       "      <th>9611</th>\n",
       "      <td>176601</td>\n",
       "      <td>Black Mirror</td>\n",
       "      <td>(no genres listed)</td>\n",
       "      <td>None</td>\n",
       "    </tr>\n",
       "  </tbody>\n",
       "</table>\n",
       "</div>"
      ],
      "text/plain": [
       "      movieId                                              title  \\\n",
       "9031   140956                                   Ready Player One   \n",
       "9091   143410                                         Hyena Road   \n",
       "9138   147250  The Adventures of Sherlock Holmes and Doctor W...   \n",
       "9179   149334                                  Nocturnal Animals   \n",
       "9259   156605                                           Paterson   \n",
       "9367   162414                                          Moonlight   \n",
       "9448   167570                                             The OA   \n",
       "9514   171495                                             Cosmos   \n",
       "9515   171631                             Maria Bamford Old Baby   \n",
       "9611   176601                                       Black Mirror   \n",
       "\n",
       "                      genres release_year  \n",
       "9031  Action|Sci-Fi|Thriller         None  \n",
       "9091      (no genres listed)         None  \n",
       "9138      (no genres listed)         None  \n",
       "9179          Drama|Thriller         None  \n",
       "9259      (no genres listed)         None  \n",
       "9367                   Drama         None  \n",
       "9448      (no genres listed)         None  \n",
       "9514      (no genres listed)         None  \n",
       "9515      (no genres listed)         None  \n",
       "9611      (no genres listed)         None  "
      ]
     },
     "execution_count": 9,
     "metadata": {},
     "output_type": "execute_result"
    }
   ],
   "source": [
    "movies[movies['release_year'].isnull()]"
   ]
  },
  {
   "cell_type": "code",
   "execution_count": 10,
   "id": "2313f90c-cba3-4ddb-a3b2-9fd1a5a6386f",
   "metadata": {
    "tags": []
   },
   "outputs": [
    {
     "data": {
      "text/plain": [
       "movieId                         171631\n",
       "title           Maria Bamford Old Baby\n",
       "genres              (no genres listed)\n",
       "release_year                      None\n",
       "Name: 9515, dtype: object"
      ]
     },
     "execution_count": 10,
     "metadata": {},
     "output_type": "execute_result"
    }
   ],
   "source": [
    "movies.loc[9515,:]"
   ]
  },
  {
   "cell_type": "code",
   "execution_count": 11,
   "id": "f9470a43-dbe8-4ed9-bd5d-3d72c843b0c6",
   "metadata": {},
   "outputs": [],
   "source": [
    "if first_run==1: #For first run only\n",
    "    first_run+=1\n",
    "    movies.loc[9031,'release_year']='2018' #Ready Player One\n",
    "    movies.loc[9091,'release_year']= '2015' # Hyena Road\n",
    "    movies.loc[9138,'release_year']= '1980' #The Adventures of Sherlock Holmes and Dr. Watson\n",
    "    movies.loc[9179,'release_year']= '2016' #Nocturnal Animals\n",
    "    movies.loc[9259,'release_year']= '2016' #Paterson\n",
    "    movies.loc[9367,'release_year']= '2016' #Moonlight\n",
    "    movies.loc[9448,'release_year']= '2017' #The OA\n",
    "    movies.loc[9514,'release_year']= '2014' #Cosmos\n",
    "    movies.loc[9515,'release_year']= '2017' #Maria Bamford Old Baby\n",
    "    movies.loc[9518,'release_year']= '2006' #Death Note\n",
    "    movies.loc[9525,'release_year']= '2017' #Generation Iron 2\n",
    "    movies.loc[9611,'release_year']= '2011' #Black Mirror\n",
    "\n",
    "    \n",
    "    for i in [9031,9091,9138,9179,9259,9031,9448,9514,9515,9518,9525,9611]:\n",
    "        movies.loc[i,'title'] = str(movies.loc[i,'title'])+ ' ' + str(movies.loc[i,'release_year'])\n",
    "        \n",
    "    # movies['release_year'] = pd.to_numeric(movies['release_year'])"
   ]
  },
  {
   "cell_type": "code",
   "execution_count": 12,
   "id": "45fe4b30-b398-4041-859f-cb2232eca32d",
   "metadata": {
    "tags": []
   },
   "outputs": [
    {
     "name": "stdout",
     "output_type": "stream",
     "text": [
      "There are total 19 present in the data namely:\n",
      "\n",
      " ['Musical', 'Film-Noir', 'Crime', 'Adventure', 'Mystery', 'Children', 'Western', 'Documentary', 'Action', 'Sci-Fi', 'Thriller', 'Fantasy', '(no genres listed)', 'Drama', 'Horror', 'Comedy', 'Animation', 'IMAX', 'Romance', 'War']\n"
     ]
    }
   ],
   "source": [
    "# diff. genres present\n",
    "\n",
    "genres = list(set('|'.join(movies['genres']).split('|')))\n",
    "print(\"There are total\",len(genres)-1,\"present in the data namely:\\n\\n\",genres)"
   ]
  },
  {
   "cell_type": "code",
   "execution_count": 13,
   "id": "fb44ee7b-dc0e-42c1-a1e3-7ef06943cffb",
   "metadata": {
    "tags": []
   },
   "outputs": [
    {
     "name": "stdout",
     "output_type": "stream",
     "text": [
      "There are 34 movies where the genre information is absent.\n"
     ]
    }
   ],
   "source": [
    "print(\"There are\",len(movies[movies['genres']=='(no genres listed)']),\"movies where the genre information is absent.\")"
   ]
  },
  {
   "cell_type": "code",
   "execution_count": 14,
   "id": "ff8c044c-fd14-4e9b-9e87-a42e7c8f80b6",
   "metadata": {
    "tags": []
   },
   "outputs": [
    {
     "data": {
      "text/plain": [
       "movieId         9742\n",
       "title           9737\n",
       "genres           951\n",
       "release_year     107\n",
       "dtype: int64"
      ]
     },
     "execution_count": 14,
     "metadata": {},
     "output_type": "execute_result"
    }
   ],
   "source": [
    "movies.nunique() # Unique Values for each columns"
   ]
  },
  {
   "cell_type": "code",
   "execution_count": 15,
   "id": "013f03b0-9b1a-4c61-b164-7bbaa2b91167",
   "metadata": {
    "tags": []
   },
   "outputs": [
    {
     "data": {
      "image/png": "[encoded data removed]",
      "text/plain": [
       "<Figure size 640x480 with 1 Axes>"
      ]
     },
     "metadata": {},
     "output_type": "display_data"
    }
   ],
   "source": [
    "# year wise counts of movies\n",
    "movies['release_year'].astype('O').value_counts().plot();"
   ]
  },
  {
   "cell_type": "code",
   "execution_count": 16,
   "id": "c39724c2-3f94-45dd-af1a-dc8e2e0f1d7b",
   "metadata": {},
   "outputs": [],
   "source": [
    "# Creating a dictionary using the genres as keys\n",
    "genre_matrix = dict()\n",
    "for i in genres:\n",
    "    genre_matrix[i] = list()"
   ]
  },
  {
   "cell_type": "code",
   "execution_count": 17,
   "id": "10b1634d-4dc4-4e91-b212-81b6d0e749a4",
   "metadata": {},
   "outputs": [],
   "source": [
    "def genre_matrix_func(list_genre):\n",
    "    ''' A function to create the genre sparse matrix from movies genre column'''\n",
    "    \n",
    "    for i in genre_matrix.keys():\n",
    "        if i in list_genre:\n",
    "            genre_matrix[i].append(1)\n",
    "        else:\n",
    "            genre_matrix[i].append(0)\n",
    "    return \"row done\""
   ]
  },
  {
   "cell_type": "code",
   "execution_count": 18,
   "id": "0b1b4ce1-7eae-4150-96c5-965b93631caf",
   "metadata": {},
   "outputs": [
    {
     "data": {
      "text/html": [
       "<div>\n",
       "<style scoped>\n",
       "    .dataframe tbody tr th:only-of-type {\n",
       "        vertical-align: middle;\n",
       "    }\n",
       "\n",
       "    .dataframe tbody tr th {\n",
       "        vertical-align: top;\n",
       "    }\n",
       "\n",
       "    .dataframe thead th {\n",
       "        text-align: right;\n",
       "    }\n",
       "</style>\n",
       "<table border=\"1\" class=\"dataframe\">\n",
       "  <thead>\n",
       "    <tr style=\"text-align: right;\">\n",
       "      <th></th>\n",
       "      <th>movieId</th>\n",
       "      <th>title</th>\n",
       "      <th>release_year</th>\n",
       "      <th>Musical</th>\n",
       "      <th>Film_Noir</th>\n",
       "      <th>Crime</th>\n",
       "      <th>Adventure</th>\n",
       "      <th>Mystery</th>\n",
       "      <th>Children</th>\n",
       "      <th>Western</th>\n",
       "      <th>Documentary</th>\n",
       "      <th>Action</th>\n",
       "      <th>Sci_Fi</th>\n",
       "      <th>Thriller</th>\n",
       "      <th>Fantasy</th>\n",
       "      <th>NA</th>\n",
       "      <th>Drama</th>\n",
       "      <th>Horror</th>\n",
       "      <th>Comedy</th>\n",
       "      <th>Animation</th>\n",
       "      <th>IMAX</th>\n",
       "      <th>Romance</th>\n",
       "      <th>War</th>\n",
       "    </tr>\n",
       "  </thead>\n",
       "  <tbody>\n",
       "    <tr>\n",
       "      <th>0</th>\n",
       "      <td>1</td>\n",
       "      <td>Toy Story 1995</td>\n",
       "      <td>1995</td>\n",
       "      <td>0</td>\n",
       "      <td>0</td>\n",
       "      <td>0</td>\n",
       "      <td>1</td>\n",
       "      <td>0</td>\n",
       "      <td>1</td>\n",
       "      <td>0</td>\n",
       "      <td>0</td>\n",
       "      <td>0</td>\n",
       "      <td>0</td>\n",
       "      <td>0</td>\n",
       "      <td>1</td>\n",
       "      <td>0</td>\n",
       "      <td>0</td>\n",
       "      <td>0</td>\n",
       "      <td>1</td>\n",
       "      <td>1</td>\n",
       "      <td>0</td>\n",
       "      <td>0</td>\n",
       "      <td>0</td>\n",
       "    </tr>\n",
       "    <tr>\n",
       "      <th>1</th>\n",
       "      <td>2</td>\n",
       "      <td>Jumanji 1995</td>\n",
       "      <td>1995</td>\n",
       "      <td>0</td>\n",
       "      <td>0</td>\n",
       "      <td>0</td>\n",
       "      <td>1</td>\n",
       "      <td>0</td>\n",
       "      <td>1</td>\n",
       "      <td>0</td>\n",
       "      <td>0</td>\n",
       "      <td>0</td>\n",
       "      <td>0</td>\n",
       "      <td>0</td>\n",
       "      <td>1</td>\n",
       "      <td>0</td>\n",
       "      <td>0</td>\n",
       "      <td>0</td>\n",
       "      <td>0</td>\n",
       "      <td>0</td>\n",
       "      <td>0</td>\n",
       "      <td>0</td>\n",
       "      <td>0</td>\n",
       "    </tr>\n",
       "    <tr>\n",
       "      <th>2</th>\n",
       "      <td>3</td>\n",
       "      <td>Grumpier Old Men 1995</td>\n",
       "      <td>1995</td>\n",
       "      <td>0</td>\n",
       "      <td>0</td>\n",
       "      <td>0</td>\n",
       "      <td>0</td>\n",
       "      <td>0</td>\n",
       "      <td>0</td>\n",
       "      <td>0</td>\n",
       "      <td>0</td>\n",
       "      <td>0</td>\n",
       "      <td>0</td>\n",
       "      <td>0</td>\n",
       "      <td>0</td>\n",
       "      <td>0</td>\n",
       "      <td>0</td>\n",
       "      <td>0</td>\n",
       "      <td>1</td>\n",
       "      <td>0</td>\n",
       "      <td>0</td>\n",
       "      <td>1</td>\n",
       "      <td>0</td>\n",
       "    </tr>\n",
       "    <tr>\n",
       "      <th>3</th>\n",
       "      <td>4</td>\n",
       "      <td>Waiting to Exhale 1995</td>\n",
       "      <td>1995</td>\n",
       "      <td>0</td>\n",
       "      <td>0</td>\n",
       "      <td>0</td>\n",
       "      <td>0</td>\n",
       "      <td>0</td>\n",
       "      <td>0</td>\n",
       "      <td>0</td>\n",
       "      <td>0</td>\n",
       "      <td>0</td>\n",
       "      <td>0</td>\n",
       "      <td>0</td>\n",
       "      <td>0</td>\n",
       "      <td>0</td>\n",
       "      <td>1</td>\n",
       "      <td>0</td>\n",
       "      <td>1</td>\n",
       "      <td>0</td>\n",
       "      <td>0</td>\n",
       "      <td>1</td>\n",
       "      <td>0</td>\n",
       "    </tr>\n",
       "    <tr>\n",
       "      <th>4</th>\n",
       "      <td>5</td>\n",
       "      <td>Father of the Bride Part II 1995</td>\n",
       "      <td>1995</td>\n",
       "      <td>0</td>\n",
       "      <td>0</td>\n",
       "      <td>0</td>\n",
       "      <td>0</td>\n",
       "      <td>0</td>\n",
       "      <td>0</td>\n",
       "      <td>0</td>\n",
       "      <td>0</td>\n",
       "      <td>0</td>\n",
       "      <td>0</td>\n",
       "      <td>0</td>\n",
       "      <td>0</td>\n",
       "      <td>0</td>\n",
       "      <td>0</td>\n",
       "      <td>0</td>\n",
       "      <td>1</td>\n",
       "      <td>0</td>\n",
       "      <td>0</td>\n",
       "      <td>0</td>\n",
       "      <td>0</td>\n",
       "    </tr>\n",
       "  </tbody>\n",
       "</table>\n",
       "</div>"
      ],
      "text/plain": [
       "   movieId                             title release_year  Musical  Film_Noir  \\\n",
       "0        1                    Toy Story 1995         1995        0          0   \n",
       "1        2                      Jumanji 1995         1995        0          0   \n",
       "2        3             Grumpier Old Men 1995         1995        0          0   \n",
       "3        4            Waiting to Exhale 1995         1995        0          0   \n",
       "4        5  Father of the Bride Part II 1995         1995        0          0   \n",
       "\n",
       "   Crime  Adventure  Mystery  Children  Western  Documentary  Action  Sci_Fi  \\\n",
       "0      0          1        0         1        0            0       0       0   \n",
       "1      0          1        0         1        0            0       0       0   \n",
       "2      0          0        0         0        0            0       0       0   \n",
       "3      0          0        0         0        0            0       0       0   \n",
       "4      0          0        0         0        0            0       0       0   \n",
       "\n",
       "   Thriller  Fantasy  NA  Drama  Horror  Comedy  Animation  IMAX  Romance  War  \n",
       "0         0        1   0      0       0       1          1     0        0    0  \n",
       "1         0        1   0      0       0       0          0     0        0    0  \n",
       "2         0        0   0      0       0       1          0     0        1    0  \n",
       "3         0        0   0      1       0       1          0     0        1    0  \n",
       "4         0        0   0      0       0       1          0     0        0    0  "
      ]
     },
     "execution_count": 18,
     "metadata": {},
     "output_type": "execute_result"
    }
   ],
   "source": [
    "movies['genres'].apply(genre_matrix_func) # applying the above function on data\n",
    "\n",
    "genre_matrix_df = pd.DataFrame(genre_matrix) # Creating the genre matrix dataframe\n",
    "\n",
    "movies = pd.concat([movies,genre_matrix_df], axis=1) # Concatenating the matrix with original datafrome\n",
    "\n",
    "movies.drop('genres',axis=1,inplace=True)\n",
    "movies.rename({'(no genres listed)' : 'NA'},axis=1,inplace=True)\n",
    "movies.columns = '|'.join(movies.columns).replace(' ','_').replace('-',\"_\").split('|')\n",
    "movies.head()"
   ]
  },
  {
   "cell_type": "code",
   "execution_count": 19,
   "id": "09129a0b-65a4-4afe-80af-c51cfcaca0e6",
   "metadata": {},
   "outputs": [],
   "source": [
    "genres_cols = ['NA', 'Comedy', 'Musical', 'Horror',\n",
    "       'Thriller', 'Western', 'Children', 'Action', 'Fantasy', 'Mystery',\n",
    "       'Sci_Fi', 'Animation', 'War', 'Adventure', 'Film_Noir', 'Crime',\n",
    "       'Documentary', 'Romance', 'Drama', 'IMAX']"
   ]
  },
  {
   "cell_type": "code",
   "execution_count": 20,
   "id": "bdfb3de3-08db-4872-b70d-8d9f7769104e",
   "metadata": {},
   "outputs": [
    {
     "data": {
      "image/png": "[encoded data removed]",
      "text/plain": [
       "<Figure size 640x480 with 1 Axes>"
      ]
     },
     "metadata": {},
     "output_type": "display_data"
    }
   ],
   "source": [
    "movies[genres_cols].sum().sort_values().plot(kind='barh'); # genrewise movies distribution"
   ]
  },
  {
   "cell_type": "markdown",
   "id": "f1bcce95-2b8a-4084-a1c2-7dd29e1ce214",
   "metadata": {},
   "source": [
    "## Vectorization and Finding Similar movie titles "
   ]
  },
  {
   "cell_type": "code",
   "execution_count": 21,
   "id": "beb3b500-dcb2-4e2c-b14b-98d5027e4252",
   "metadata": {
    "tags": []
   },
   "outputs": [],
   "source": [
    "tf_idf_vecs = TfidfVectorizer(ngram_range=(1,4))\n",
    "tf_idf_result = tf_idf_vecs.fit_transform(movies['title'])\n",
    "\n",
    "tf_idf_result = sparse.csr_matrix(np.concatenate((tf_idf_result.toarray(),np.array(genre_matrix_df.values)),axis=1))\n",
    "# tf_idf_result = (np.concatenate((tf_idf_result.toarray(),np.array(genre_matrix_df.values)),axis=1))\n"
   ]
  },
  {
   "cell_type": "code",
   "execution_count": 22,
   "id": "4a3a6f54-be86-4d00-acaf-7b79a7a9bfaa",
   "metadata": {
    "tags": []
   },
   "outputs": [],
   "source": [
    "def find_matching_names_vec(title):\n",
    "    \n",
    "    ''' This functions searches the matching titles in the tfidf result's sparse matrix'''\n",
    "    \n",
    "    result_vec = []\n",
    "    indices = []\n",
    "    for i,j in enumerate(movies['title']):\n",
    "        if title.lower() in j.lower():\n",
    "            indices.append(i)\n",
    "            result_vec.append(tf_idf_result[i,:].toarray()[0])\n",
    "    return result_vec,indices"
   ]
  },
  {
   "cell_type": "code",
   "execution_count": 23,
   "id": "67b6e03a-8f0b-4dd6-b364-9943d58f79f3",
   "metadata": {
    "tags": []
   },
   "outputs": [],
   "source": [
    "def search_similar_titles(title):\n",
    "    \n",
    "    ''' This function will calulate the similarity between the query vector & tfidf result and finds the most similar movies from the data'''\n",
    "    \n",
    "    query_vec = np.array(find_matching_names_vec(title)[0])\n",
    "    indices = np.array(find_matching_names_vec(title)[1])\n",
    "    if len(query_vec)==1:\n",
    "        similarity = cosine_similarity(query_vec, tf_idf_result).flatten()\n",
    "        indices = np.argpartition(similarity, -11)[-11:-1]\n",
    "        results = movies.loc[indices,'title'].iloc[::-1].values\n",
    "        return pd.DataFrame(results,columns=['movies'])\n",
    "    else:\n",
    "        print(\"found multiple matches, Enter one of following:\")\n",
    "        return movies.loc[indices,'title'].values"
   ]
  },
  {
   "cell_type": "markdown",
   "id": "31be471e-5107-43c2-bf22-cae902f15d37",
   "metadata": {},
   "source": [
    "\n",
    "\n",
    "<div style=\"background-color: orange; text-align: center; padding: 10px; position: relative; border-radius: 10px\">\n",
    "    <h2><b>Widget for Similar Genre Movies Finding</b></h2>\n",
    "</div>"
   ]
  },
  {
   "cell_type": "code",
   "execution_count": 271,
   "id": "07b2bd3f-d85a-421c-81ad-155d6be1a273",
   "metadata": {
    "tags": []
   },
   "outputs": [
    {
     "data": {
      "application/vnd.jupyter.widget-view+json": {
       "model_id": "4774216059a6444d9e71db6d79e6443e",
       "version_major": 2,
       "version_minor": 0
      },
      "text/plain": [
       "Text(value='Toy Story 1995', description='<h3>Movie Title:</h3>', style=DescriptionStyle(description_width='10…"
      ]
     },
     "metadata": {},
     "output_type": "display_data"
    },
    {
     "data": {
      "application/vnd.jupyter.widget-view+json": {
       "model_id": "8b919667817d47bba1ae625ec0138f73",
       "version_major": 2,
       "version_minor": 0
      },
      "text/plain": [
       "Output()"
      ]
     },
     "metadata": {},
     "output_type": "display_data"
    }
   ],
   "source": [
    "# Widget Creation \n",
    "movie_input = widgets.Text(\n",
    "    value='Toy Story 1995',\n",
    "    description='<h3>Movie Title:</h3>',\n",
    "    disabled=False,\n",
    "    style={'description_width': '100px'}\n",
    ")\n",
    "movie_list = widgets.Output()\n",
    "\n",
    "def on_type(data):\n",
    "    with movie_list:\n",
    "        movie_list.clear_output()\n",
    "        title = data[\"new\"]\n",
    "        if len(title) > 5:\n",
    "            display(search_similar_titles(title))\n",
    "\n",
    "movie_input.observe(on_type, names='value')\n",
    "\n",
    "\n",
    "display(movie_input, movie_list)"
   ]
  },
  {
   "cell_type": "markdown",
   "id": "ed3ed6c3-b888-4b37-a056-62d959a2d309",
   "metadata": {
    "tags": []
   },
   "source": [
    "<div style=\"background-color: lightblue; text-align: center; padding: 10px; position: relative; border-radius: 10px\">\n",
    "    <h1><b>Ratings Dataset EDA</b></h1>\n",
    "</div>"
   ]
  },
  {
   "cell_type": "code",
   "execution_count": 25,
   "id": "3612da42-b2da-45b8-8c00-09c940d3b5a7",
   "metadata": {
    "tags": []
   },
   "outputs": [
    {
     "data": {
      "text/plain": [
       "userId         610\n",
       "movieId       9724\n",
       "rating          10\n",
       "timestamp    85043\n",
       "dtype: int64"
      ]
     },
     "execution_count": 25,
     "metadata": {},
     "output_type": "execute_result"
    }
   ],
   "source": [
    "# number of unique users who have given ratings\n",
    "ratings.nunique()"
   ]
  },
  {
   "cell_type": "code",
   "execution_count": 26,
   "id": "7c944cec-38ad-4749-813f-cd849c8596a5",
   "metadata": {
    "tags": []
   },
   "outputs": [
    {
     "data": {
      "text/plain": [
       "(100836, 4)"
      ]
     },
     "execution_count": 26,
     "metadata": {},
     "output_type": "execute_result"
    }
   ],
   "source": [
    "ratings.shape"
   ]
  },
  {
   "cell_type": "code",
   "execution_count": 27,
   "id": "017ac1a4-3695-4a98-9d1f-04202c922b69",
   "metadata": {
    "tags": []
   },
   "outputs": [],
   "source": [
    "ratings['timestamp_cleaned']= ratings['timestamp'].apply(datetime.fromtimestamp)\n",
    "\n",
    "# Day of Week\n",
    "ratings['DOW'] = ratings['timestamp_cleaned'].dt.day_name()"
   ]
  },
  {
   "cell_type": "code",
   "execution_count": 28,
   "id": "8585173a-b818-4cf4-8080-ce112eefafa2",
   "metadata": {
    "tags": []
   },
   "outputs": [
    {
     "data": {
      "text/html": [
       "<div>\n",
       "<style scoped>\n",
       "    .dataframe tbody tr th:only-of-type {\n",
       "        vertical-align: middle;\n",
       "    }\n",
       "\n",
       "    .dataframe tbody tr th {\n",
       "        vertical-align: top;\n",
       "    }\n",
       "\n",
       "    .dataframe thead th {\n",
       "        text-align: right;\n",
       "    }\n",
       "</style>\n",
       "<table border=\"1\" class=\"dataframe\">\n",
       "  <thead>\n",
       "    <tr style=\"text-align: right;\">\n",
       "      <th></th>\n",
       "      <th>userId</th>\n",
       "      <th>movieId</th>\n",
       "      <th>rating</th>\n",
       "      <th>timestamp</th>\n",
       "      <th>timestamp_cleaned</th>\n",
       "      <th>DOW</th>\n",
       "    </tr>\n",
       "  </thead>\n",
       "  <tbody>\n",
       "    <tr>\n",
       "      <th>0</th>\n",
       "      <td>1</td>\n",
       "      <td>1</td>\n",
       "      <td>4.0</td>\n",
       "      <td>964982703</td>\n",
       "      <td>2000-07-31 00:15:03</td>\n",
       "      <td>Monday</td>\n",
       "    </tr>\n",
       "    <tr>\n",
       "      <th>1</th>\n",
       "      <td>1</td>\n",
       "      <td>3</td>\n",
       "      <td>4.0</td>\n",
       "      <td>964981247</td>\n",
       "      <td>2000-07-30 23:50:47</td>\n",
       "      <td>Sunday</td>\n",
       "    </tr>\n",
       "    <tr>\n",
       "      <th>2</th>\n",
       "      <td>1</td>\n",
       "      <td>6</td>\n",
       "      <td>4.0</td>\n",
       "      <td>964982224</td>\n",
       "      <td>2000-07-31 00:07:04</td>\n",
       "      <td>Monday</td>\n",
       "    </tr>\n",
       "    <tr>\n",
       "      <th>3</th>\n",
       "      <td>1</td>\n",
       "      <td>47</td>\n",
       "      <td>5.0</td>\n",
       "      <td>964983815</td>\n",
       "      <td>2000-07-31 00:33:35</td>\n",
       "      <td>Monday</td>\n",
       "    </tr>\n",
       "    <tr>\n",
       "      <th>4</th>\n",
       "      <td>1</td>\n",
       "      <td>50</td>\n",
       "      <td>5.0</td>\n",
       "      <td>964982931</td>\n",
       "      <td>2000-07-31 00:18:51</td>\n",
       "      <td>Monday</td>\n",
       "    </tr>\n",
       "  </tbody>\n",
       "</table>\n",
       "</div>"
      ],
      "text/plain": [
       "   userId  movieId  rating  timestamp   timestamp_cleaned     DOW\n",
       "0       1        1     4.0  964982703 2000-07-31 00:15:03  Monday\n",
       "1       1        3     4.0  964981247 2000-07-30 23:50:47  Sunday\n",
       "2       1        6     4.0  964982224 2000-07-31 00:07:04  Monday\n",
       "3       1       47     5.0  964983815 2000-07-31 00:33:35  Monday\n",
       "4       1       50     5.0  964982931 2000-07-31 00:18:51  Monday"
      ]
     },
     "execution_count": 28,
     "metadata": {},
     "output_type": "execute_result"
    }
   ],
   "source": [
    "ratings.head()"
   ]
  },
  {
   "cell_type": "code",
   "execution_count": 29,
   "id": "b3d3080b-7c57-42fd-9c2d-5ead2e1f0802",
   "metadata": {},
   "outputs": [
    {
     "data": {
      "image/png": "[encoded data removed]",
      "text/plain": [
       "<Figure size 640x480 with 1 Axes>"
      ]
     },
     "metadata": {},
     "output_type": "display_data"
    }
   ],
   "source": [
    "sns.countplot(data=ratings,x='rating');# note that most of the people have rated the movies between 3 to 5"
   ]
  },
  {
   "cell_type": "code",
   "execution_count": 30,
   "id": "cb351e9d-2965-43e3-a405-9b4edaf8cf94",
   "metadata": {
    "tags": []
   },
   "outputs": [
    {
     "data": {
      "image/png": "[encoded data removed]",
      "text/plain": [
       "<Figure size 1500x500 with 1 Axes>"
      ]
     },
     "metadata": {},
     "output_type": "display_data"
    }
   ],
   "source": [
    "plt.figure(figsize=[15,5])\n",
    "ratings.resample('m',on='timestamp_cleaned')['rating'].count().plot();\n",
    "\n",
    "plt.ylabel(\"No. of ratings per month\")\n",
    "plt.xlabel(\"Month\")\n",
    "plt.show()"
   ]
  },
  {
   "cell_type": "markdown",
   "id": "6456ec62-9903-4ec3-9e26-49c65063d3a1",
   "metadata": {
    "tags": []
   },
   "source": [
    "## Users X Ratings"
   ]
  },
  {
   "cell_type": "code",
   "execution_count": 31,
   "id": "f6032cab-628c-4809-8a5a-6a0bfd251f27",
   "metadata": {
    "tags": []
   },
   "outputs": [
    {
     "data": {
      "image/png": "[encoded data removed]",
      "text/plain": [
       "<Figure size 640x480 with 1 Axes>"
      ]
     },
     "metadata": {},
     "output_type": "display_data"
    }
   ],
   "source": [
    "# Top 15 users ordered by number of ratings (who have rated more number of movies)\n",
    "no_movies_rated_per_user = ratings.groupby(['userId'])['rating'].count()\n",
    "no_movies_rated_per_user.sort_values(ascending=False)[:15].plot(kind='bar');"
   ]
  },
  {
   "cell_type": "code",
   "execution_count": 32,
   "id": "247db6f4-e5ba-4355-9bac-12e154a439b8",
   "metadata": {
    "tags": []
   },
   "outputs": [
    {
     "data": {
      "image/png": "[encoded data removed]",
      "text/plain": [
       "<Figure size 960x480 with 2 Axes>"
      ]
     },
     "metadata": {},
     "output_type": "display_data"
    }
   ],
   "source": [
    "plt.figure(figsize=plt.figaspect(.5))\n",
    "plt.subplot(121)\n",
    "sns.kdeplot(no_movies_rated_per_user,fill=True)\n",
    "plt.xlabel(\"No. of ratings by user\")\n",
    "plt.title(\"PDF\")\n",
    "\n",
    "plt.subplot(122)\n",
    "sns.kdeplot(no_movies_rated_per_user,cumulative=True,fill=True)\n",
    "plt.xlabel(\"No. of ratings by user\")\n",
    "plt.title(\"CDF\");"
   ]
  },
  {
   "cell_type": "code",
   "execution_count": 33,
   "id": "e0b4d911-0d86-4079-9418-b9d450221bda",
   "metadata": {
    "tags": []
   },
   "outputs": [
    {
     "data": {
      "text/plain": [
       "count     610.000000\n",
       "mean      165.304918\n",
       "std       269.480584\n",
       "min        20.000000\n",
       "10%        24.000000\n",
       "25%        35.000000\n",
       "50%        70.500000\n",
       "75%       168.000000\n",
       "90%       400.300000\n",
       "95%       610.750000\n",
       "max      2698.000000\n",
       "Name: rating, dtype: float64"
      ]
     },
     "execution_count": 33,
     "metadata": {},
     "output_type": "execute_result"
    }
   ],
   "source": [
    "no_movies_rated_per_user.describe(percentiles=[.10,.25,.50,.75,.90,.95]) # Note the 50% percentile is 70 movies which is quite a lot from each user"
   ]
  },
  {
   "cell_type": "code",
   "execution_count": 34,
   "id": "56a2b658-9134-4de2-b340-6ce35bf9d91a",
   "metadata": {
    "tags": []
   },
   "outputs": [
    {
     "data": {
      "text/plain": [
       "31"
      ]
     },
     "execution_count": 34,
     "metadata": {},
     "output_type": "execute_result"
    }
   ],
   "source": [
    "# Total number of users who have rated more that .95 percentile (i.e. 610) movies\n",
    "no_movies_rated_per_user[no_movies_rated_per_user>np.percentile(no_movies_rated_per_user,95)].count()"
   ]
  },
  {
   "cell_type": "markdown",
   "id": "74ab3ee8-319e-45a0-a1c8-8c994b3f7421",
   "metadata": {},
   "source": [
    "## Movies X Ratings"
   ]
  },
  {
   "cell_type": "code",
   "execution_count": 35,
   "id": "a9a4e914-39be-4817-a68b-1a943576e54b",
   "metadata": {
    "tags": []
   },
   "outputs": [],
   "source": [
    "no_ratings_per_movie = ratings.groupby(['movieId'])['rating'].count()"
   ]
  },
  {
   "cell_type": "code",
   "execution_count": 36,
   "id": "b82f98b4-78fc-41ad-860a-b8ead16262ac",
   "metadata": {
    "tags": []
   },
   "outputs": [
    {
     "data": {
      "text/plain": [
       "0                                          Toy Story 1995\n",
       "46                                Usual Suspects The 1995\n",
       "97                                        Braveheart 1995\n",
       "224                 Star Wars Episode IV  A New Hope 1977\n",
       "257                                     Pulp Fiction 1994\n",
       "277                         Shawshank Redemption The 1994\n",
       "314                                     Forrest Gump 1994\n",
       "418                                    Jurassic Park 1993\n",
       "461                                  Schindlers List 1993\n",
       "507                        Terminator 2 Judgment Day 1991\n",
       "510                         Silence of the Lambs The 1991\n",
       "898     Star Wars Episode V  The Empire Strikes Back 1980\n",
       "1939                                      Matrix The 1999\n",
       "2145                                 American Beauty 1999\n",
       "2226                                      Fight Club 1999\n",
       "Name: title, dtype: object"
      ]
     },
     "execution_count": 36,
     "metadata": {},
     "output_type": "execute_result"
    }
   ],
   "source": [
    "# Top 15 movies which have been rated most\n",
    "movies[movies['movieId'].isin(no_ratings_per_movie.sort_values(ascending=False)[:15].index)]['title']"
   ]
  },
  {
   "cell_type": "code",
   "execution_count": 37,
   "id": "9eb29bdf-b0a6-41af-8315-3fc8c57d7292",
   "metadata": {
    "tags": []
   },
   "outputs": [
    {
     "data": {
      "image/png": "[encoded data removed]",
      "text/plain": [
       "<Figure size 640x480 with 1 Axes>"
      ]
     },
     "metadata": {},
     "output_type": "display_data"
    }
   ],
   "source": [
    "plt.plot(no_ratings_per_movie.sort_values(ascending=False).values)\n",
    "plt.xlabel('movieId')\n",
    "plt.xticks([])\n",
    "plt.ylabel('No of users who have rated the movie');"
   ]
  },
  {
   "cell_type": "code",
   "execution_count": 38,
   "id": "e5aa2572-4d0a-4103-9e32-0eeec3fc7540",
   "metadata": {
    "tags": []
   },
   "outputs": [
    {
     "data": {
      "text/plain": [
       "count    9724.000000\n",
       "mean       10.369807\n",
       "std        22.401005\n",
       "min         1.000000\n",
       "10%         1.000000\n",
       "25%         1.000000\n",
       "50%         3.000000\n",
       "75%         9.000000\n",
       "90%        27.000000\n",
       "95%        47.000000\n",
       "max       329.000000\n",
       "Name: rating, dtype: float64"
      ]
     },
     "execution_count": 38,
     "metadata": {},
     "output_type": "execute_result"
    }
   ],
   "source": [
    "# Note the 50% percentile is at 3 which means more than 50% of movies have been rated more than 3 times\n",
    "no_ratings_per_movie.describe(percentiles=[.10,.25,.50,.75,.90,.95]) "
   ]
  },
  {
   "cell_type": "code",
   "execution_count": 39,
   "id": "fe122300-562c-4909-a8aa-af188cdbef63",
   "metadata": {
    "tags": []
   },
   "outputs": [
    {
     "data": {
      "text/plain": [
       "473"
      ]
     },
     "execution_count": 39,
     "metadata": {},
     "output_type": "execute_result"
    }
   ],
   "source": [
    "# Total number movies who have been rated more that .95 percentile (i.e. 47) times\n",
    "no_ratings_per_movie[no_ratings_per_movie>np.percentile(no_ratings_per_movie,95)].count()"
   ]
  },
  {
   "cell_type": "markdown",
   "id": "24cd0652-3297-45d9-9416-88d912afc9a3",
   "metadata": {},
   "source": [
    "## Ratings X Day of Week Interactions?"
   ]
  },
  {
   "cell_type": "code",
   "execution_count": 40,
   "id": "31a34516-b2e5-42cb-90a1-1bc8033fdbdd",
   "metadata": {
    "tags": []
   },
   "outputs": [
    {
     "data": {
      "image/png": "[encoded data removed]",
      "text/plain": [
       "<Figure size 960x480 with 2 Axes>"
      ]
     },
     "metadata": {},
     "output_type": "display_data"
    }
   ],
   "source": [
    "dow_label_order = ['Monday','Tuesday','Wednesday','Thursday','Friday','Saturday','Sunday']\n",
    "\n",
    "plt.figure(figsize=plt.figaspect(.5))\n",
    "plt.subplot(121)\n",
    "sns.boxplot(data=ratings,x='rating',y='DOW',order=dow_label_order,showmeans=True);\n",
    "\n",
    "plt.subplot(122)\n",
    "sns.countplot(data=ratings,y='DOW',order=dow_label_order);\n",
    "plt.yticks([])\n",
    "plt.ylabel('')\n",
    "plt.tight_layout()"
   ]
  },
  {
   "cell_type": "markdown",
   "id": "f29cff52-5a0e-40a2-b963-35aa86e76f90",
   "metadata": {},
   "source": [
    "Though the number of observations is different for each day, the mean of ratings for each days is the same. Hence, it will most probably not be a good predictor when it comes to predict the rating."
   ]
  },
  {
   "cell_type": "markdown",
   "id": "81bef4fa-59c9-4b0c-b153-10e0e9589c53",
   "metadata": {
    "tags": []
   },
   "source": [
    "## Ratings vs Time of Day"
   ]
  },
  {
   "cell_type": "code",
   "execution_count": 41,
   "id": "880b9467-6aec-4ddb-9f92-30587c24a800",
   "metadata": {
    "tags": []
   },
   "outputs": [],
   "source": [
    "def get_time_of_day(timestamp):\n",
    "    hour = timestamp.hour\n",
    "    if 6 <= hour < 12:\n",
    "        return 'morning'\n",
    "    elif 12 <= hour < 17:\n",
    "        return 'noon'\n",
    "    elif 17 <= hour < 20:\n",
    "        return 'evening'\n",
    "    else:\n",
    "        return 'night'"
   ]
  },
  {
   "cell_type": "code",
   "execution_count": 42,
   "id": "8930f82c-6504-4db8-bb8a-433c17aa2af9",
   "metadata": {
    "tags": []
   },
   "outputs": [],
   "source": [
    "ratings['time_of_day'] = ratings['timestamp_cleaned'].apply(get_time_of_day)"
   ]
  },
  {
   "cell_type": "code",
   "execution_count": 43,
   "id": "f4e414f2-0baf-4316-96a3-5195eb1dac49",
   "metadata": {
    "tags": []
   },
   "outputs": [
    {
     "data": {
      "image/png": "[encoded data removed]",
      "text/plain": [
       "<Figure size 960x480 with 2 Axes>"
      ]
     },
     "metadata": {},
     "output_type": "display_data"
    }
   ],
   "source": [
    "plt.figure(figsize=plt.figaspect(.5))\n",
    "plt.subplot(121)\n",
    "sns.countplot(data = ratings, x = 'time_of_day')\n",
    "\n",
    "plt.subplot(122)\n",
    "sns.boxplot(data=ratings,y='rating',x='time_of_day',showmeans=True)\n",
    "plt.tight_layout();"
   ]
  },
  {
   "cell_type": "markdown",
   "id": "1b453ad5-1646-468d-817d-3156a1fe734b",
   "metadata": {},
   "source": [
    "Though the number of observations is different for each time_of_day, the mean of ratings for each time_of_day is the same. Hence, it will most probably not be a good predictor when it comes to predict the rating."
   ]
  },
  {
   "cell_type": "markdown",
   "id": "e11f5003-59ab-47a5-8bce-f1016fec257b",
   "metadata": {},
   "source": [
    "## Creating train and test dataset"
   ]
  },
  {
   "cell_type": "code",
   "execution_count": 44,
   "id": "bd445074-b965-4d20-ab37-7320ae2e054e",
   "metadata": {
    "tags": []
   },
   "outputs": [],
   "source": [
    "ratings_sorted = ratings.sort_values(by='timestamp_cleaned',ascending=True).drop(['DOW','time_of_day','timestamp'],axis=1).reset_index(drop=True)\n",
    "train_df = ratings_sorted.loc[:int(0.80*ratings_sorted.shape[0]),:]\n",
    "test_df = ratings_sorted.loc[int(0.80*ratings_sorted.shape[0]):,:]"
   ]
  },
  {
   "cell_type": "code",
   "execution_count": 45,
   "id": "20de05d3-6e0a-4da2-927d-64c11735475d",
   "metadata": {
    "tags": []
   },
   "outputs": [],
   "source": [
    "def sparse_matrix_generation(df,df_name):\n",
    "    if os.path.isfile(f'{df_name}_sparse_matrix.npz'):\n",
    "        print(\"It is present in your pwd, getting it from disk....\")\n",
    "        # just get it from the disk instead of computing it\n",
    "        gen_sparse_matrix = sparse.load_npz(f'{df_name}_sparse_matrix.npz')\n",
    "        print(\"DONE..\\n\")\n",
    "    else: \n",
    "        print(\"We are creating sparse_matrix from the dataframe..\")\n",
    "        # creating sparse_matrix and store it for after usage.\n",
    "        # csr_matrix(data_values, (row_index, col_index), shape_of_matrix)\n",
    "        # It should be in such a way that, MATRIX[row, col] = data\n",
    "        gen_sparse_matrix = sparse.csr_matrix((df['rating'].values, (df['userId'].values,\n",
    "                                                   df['movieId'].values)),)\n",
    "\n",
    "        print('Done. It\\'s shape is : (user, movie) : ',gen_sparse_matrix.shape)\n",
    "        print('Saving it into disk for furthur usage..')\n",
    "        # save it into disk\n",
    "        sparse.save_npz(f\"{df_name}_sparse_matrix.npz\", gen_sparse_matrix)\n",
    "        print('Done..\\n')\n",
    "    \n",
    "    return gen_sparse_matrix"
   ]
  },
  {
   "cell_type": "code",
   "execution_count": 46,
   "id": "d87c8edf-74b6-4b60-948c-4fcec01242c9",
   "metadata": {
    "tags": []
   },
   "outputs": [
    {
     "name": "stdout",
     "output_type": "stream",
     "text": [
      "It is present in your pwd, getting it from disk....\n",
      "DONE..\n",
      "\n",
      "Sparsity of Matrix: 99.91477404488327\n"
     ]
    }
   ],
   "source": [
    "# TRAIN Sparse Matrix\n",
    "\n",
    "train_sparse_matrix = sparse_matrix_generation(train_df,'train')\n",
    "us,mv = train_sparse_matrix.shape\n",
    "elements = train_sparse_matrix.count_nonzero()\n",
    "print(\"Sparsity of Matrix:\",(1-(elements/(us*mv)))*100)"
   ]
  },
  {
   "cell_type": "code",
   "execution_count": 47,
   "id": "d61bc339-84dc-4693-9f32-c6e09c041c74",
   "metadata": {
    "tags": []
   },
   "outputs": [
    {
     "name": "stdout",
     "output_type": "stream",
     "text": [
      "It is present in your pwd, getting it from disk....\n",
      "DONE..\n",
      "\n",
      "Sparsity of Matrix: 99.98295119916014\n"
     ]
    }
   ],
   "source": [
    "# TEST Sparse Matrix\n",
    "\n",
    "test_sparse_matrix = sparse_matrix_generation(test_df,'test')\n",
    "us,mv = test_sparse_matrix.shape\n",
    "elements = test_sparse_matrix.count_nonzero()\n",
    "print(\"Sparsity of Matrix:\",(1-(elements/(us*mv)))*100)"
   ]
  },
  {
   "cell_type": "markdown",
   "id": "27292f79-2e60-4c2e-9943-2193c4c163e1",
   "metadata": {},
   "source": [
    "## Cold Start Problem"
   ]
  },
  {
   "cell_type": "code",
   "execution_count": 48,
   "id": "ce2061b2-69ff-42b5-8ade-804404f7ec14",
   "metadata": {},
   "outputs": [],
   "source": [
    "# Users which are present in both train and test datasets\n",
    "common_users = test_df[test_df['userId'].isin(train_df['userId'].unique())]['userId'].nunique()\n",
    "common_movies = test_df[test_df['movieId'].isin(train_df['movieId'].unique())]['movieId'].nunique()"
   ]
  },
  {
   "cell_type": "code",
   "execution_count": 49,
   "id": "c057ac7b-c707-4a28-b4c3-f7f42617b315",
   "metadata": {
    "tags": []
   },
   "outputs": [
    {
     "name": "stdout",
     "output_type": "stream",
     "text": [
      "Number of new customers in test set: 88\n",
      "% of new customers in test set: 14.43 %\n"
     ]
    }
   ],
   "source": [
    "# new customers in test set\n",
    "print(\"Number of new customers in test set:\",test_df['userId'].nunique() - common_users)\n",
    "print(\"% of new customers in test set:\",np.round((test_df['userId'].nunique() - common_users)*100/ratings['userId'].nunique(),2),'%')"
   ]
  },
  {
   "cell_type": "code",
   "execution_count": 50,
   "id": "bd4eff1e-401b-41b6-8479-79d9d878594a",
   "metadata": {
    "tags": []
   },
   "outputs": [
    {
     "name": "stdout",
     "output_type": "stream",
     "text": [
      "Number of new customers in test set: 1857\n",
      "% of new customers in test set: 19.1 %\n"
     ]
    }
   ],
   "source": [
    "# new movies in test set\n",
    "print(\"Number of new customers in test set:\",test_df['movieId'].nunique() - common_movies)\n",
    "print(\"% of new customers in test set:\",np.round((test_df['movieId'].nunique() - common_movies)*100/ratings['movieId'].nunique(),2),'%')"
   ]
  },
  {
   "cell_type": "markdown",
   "id": "1cc830b9-6145-48e1-b550-038289d7d0a4",
   "metadata": {},
   "source": [
    "## User-User-Similarity-Matrix from User-Movie-Sparse-matrix"
   ]
  },
  {
   "cell_type": "code",
   "execution_count": 51,
   "id": "318f2c19-47f9-461a-9838-6579c1cfc132",
   "metadata": {
    "tags": []
   },
   "outputs": [
    {
     "name": "stdout",
     "output_type": "stream",
     "text": [
      "It is there, Let's get it.\n",
      "Done ..\n",
      "\n",
      "It's a (610, 610) dimensional matrix\n"
     ]
    }
   ],
   "source": [
    "if not os.path.isfile('u_u_sim_sparse.npz'):\n",
    "    print(\"It seems that the file is not present. Computing movie_movie similarity\")\n",
    "    u_u_sim_sparse = cosine_similarity(X=train_sparse_matrix, dense_output=False)\n",
    "    # storing this sparse matrix in disk before using it. For future purposes.\n",
    "    print(\"Saving it to disk without the need of re-computing it again.. \")\n",
    "    sparse.save_npz(\"u_u_sim_sparse.npz\", u_u_sim_sparse)\n",
    "    print(\"Done..\\n\")\n",
    "else:\n",
    "    print(\"It is there, Let's get it.\")\n",
    "    u_u_sim_sparse = sparse.load_npz(\"u_u_sim_sparse.npz\")\n",
    "    print(\"Done ..\\n\")\n",
    "\n",
    "print(\"It's a\",u_u_sim_sparse.shape,\"dimensional matrix\")"
   ]
  },
  {
   "cell_type": "markdown",
   "id": "98ea663a-d9ac-4e02-9d48-1705100d2f60",
   "metadata": {},
   "source": [
    "## Movie-Movie-Similarity-Matrix from User-Movie-Sparse-matrix"
   ]
  },
  {
   "cell_type": "code",
   "execution_count": 52,
   "id": "4f524f8a-a4bc-4323-a4fa-76ea842a0ad0",
   "metadata": {
    "tags": []
   },
   "outputs": [
    {
     "name": "stdout",
     "output_type": "stream",
     "text": [
      "It is there, Let's get it.\n",
      "Done ..\n",
      "\n",
      "It's a (155169, 155169) dimensional matrix\n"
     ]
    }
   ],
   "source": [
    "if not os.path.isfile('m_m_sim_sparse.npz'):\n",
    "    print(\"It seems that the file is not present. Computing movie_movie similarity\")\n",
    "    m_m_sim_sparse = cosine_similarity(X=train_sparse_matrix.T, dense_output=False)\n",
    "    # storing this sparse matrix in disk before using it. For future purposes.\n",
    "    print(\"Saving it to disk without the need of re-computing it again.. \")\n",
    "    sparse.save_npz(\"m_m_sim_sparse.npz\", m_m_sim_sparse)\n",
    "    print(\"Done..\\n\")\n",
    "else:\n",
    "    print(\"It is there, Let's get it.\")\n",
    "    m_m_sim_sparse = sparse.load_npz(\"m_m_sim_sparse.npz\")\n",
    "    print(\"Done ..\\n\")\n",
    "\n",
    "print(\"It's a\",m_m_sim_sparse.shape,\"dimensional matrix\")"
   ]
  },
  {
   "cell_type": "code",
   "execution_count": 53,
   "id": "63a06423-8b85-46f4-ae0f-48a85fcde738",
   "metadata": {},
   "outputs": [
    {
     "data": {
      "text/plain": [
       "155168"
      ]
     },
     "execution_count": 53,
     "metadata": {},
     "output_type": "execute_result"
    }
   ],
   "source": [
    "train_df['movieId'].max()"
   ]
  },
  {
   "cell_type": "code",
   "execution_count": 54,
   "id": "fc40b2e4-e3da-4976-9d46-00ba66ee0048",
   "metadata": {},
   "outputs": [],
   "source": [
    "def movie_finder(movie_name):\n",
    "    matches = movies[movies['title'].str.contains(movie_name,flags=re.IGNORECASE)]\n",
    "    \n",
    "    if len(matches)>1:\n",
    "        print(\"Found following matches:\\n\")\n",
    "        print( matches[matches['movieId']<155168][['movieId','title']],'\\n') # Since we have used only train sparse matrix to create the m_m_sparse_matrix\n",
    "        print(\"Enter selection of the movieId below\")\n",
    "        \n",
    "        movieID = int(input(\"MovieID:\"))\n",
    "\n",
    "        if movieID not in matches['movieId'].values:\n",
    "            return \"Try entering a correct ID from selection\"\n",
    "        \n",
    "        similar_movies_indices = np.argpartition(m_m_sim_sparse[movieID].toarray().ravel(),-10)[-10:]\n",
    "\n",
    "    else:\n",
    "        movieID = matches['movieId']\n",
    "        similar_movies_indices = np.argpartition(m_m_sim_sparse[movieID].toarray().ravel(),-10)[-10:]\n",
    "        \n",
    "        \n",
    "    return movies[movies['movieId'].isin(similar_movies_indices)][['movieId','title']]"
   ]
  },
  {
   "cell_type": "code",
   "execution_count": 55,
   "id": "d0e4168b-62c1-47aa-b21a-76e69c10fe6d",
   "metadata": {},
   "outputs": [
    {
     "data": {
      "text/html": [
       "<div>\n",
       "<style scoped>\n",
       "    .dataframe tbody tr th:only-of-type {\n",
       "        vertical-align: middle;\n",
       "    }\n",
       "\n",
       "    .dataframe tbody tr th {\n",
       "        vertical-align: top;\n",
       "    }\n",
       "\n",
       "    .dataframe thead th {\n",
       "        text-align: right;\n",
       "    }\n",
       "</style>\n",
       "<table border=\"1\" class=\"dataframe\">\n",
       "  <thead>\n",
       "    <tr style=\"text-align: right;\">\n",
       "      <th></th>\n",
       "      <th>movieId</th>\n",
       "      <th>title</th>\n",
       "    </tr>\n",
       "  </thead>\n",
       "  <tbody>\n",
       "    <tr>\n",
       "      <th>97</th>\n",
       "      <td>110</td>\n",
       "      <td>Braveheart 1995</td>\n",
       "    </tr>\n",
       "    <tr>\n",
       "      <th>275</th>\n",
       "      <td>316</td>\n",
       "      <td>Stargate 1994</td>\n",
       "    </tr>\n",
       "    <tr>\n",
       "      <th>302</th>\n",
       "      <td>344</td>\n",
       "      <td>Ace Ventura Pet Detective 1994</td>\n",
       "    </tr>\n",
       "    <tr>\n",
       "      <th>322</th>\n",
       "      <td>364</td>\n",
       "      <td>Lion King The 1994</td>\n",
       "    </tr>\n",
       "    <tr>\n",
       "      <th>325</th>\n",
       "      <td>367</td>\n",
       "      <td>Mask The 1994</td>\n",
       "    </tr>\n",
       "    <tr>\n",
       "      <th>337</th>\n",
       "      <td>380</td>\n",
       "      <td>True Lies 1994</td>\n",
       "    </tr>\n",
       "    <tr>\n",
       "      <th>418</th>\n",
       "      <td>480</td>\n",
       "      <td>Jurassic Park 1993</td>\n",
       "    </tr>\n",
       "    <tr>\n",
       "      <th>436</th>\n",
       "      <td>500</td>\n",
       "      <td>Mrs Doubtfire 1993</td>\n",
       "    </tr>\n",
       "    <tr>\n",
       "      <th>506</th>\n",
       "      <td>588</td>\n",
       "      <td>Aladdin 1992</td>\n",
       "    </tr>\n",
       "    <tr>\n",
       "      <th>509</th>\n",
       "      <td>592</td>\n",
       "      <td>Batman 1989</td>\n",
       "    </tr>\n",
       "  </tbody>\n",
       "</table>\n",
       "</div>"
      ],
      "text/plain": [
       "     movieId                           title\n",
       "97       110                 Braveheart 1995\n",
       "275      316                   Stargate 1994\n",
       "302      344  Ace Ventura Pet Detective 1994\n",
       "322      364              Lion King The 1994\n",
       "325      367                   Mask The 1994\n",
       "337      380                  True Lies 1994\n",
       "418      480              Jurassic Park 1993\n",
       "436      500              Mrs Doubtfire 1993\n",
       "506      588                    Aladdin 1992\n",
       "509      592                     Batman 1989"
      ]
     },
     "execution_count": 55,
     "metadata": {},
     "output_type": "execute_result"
    }
   ],
   "source": [
    "movie_finder(\"Mask The 1994\")"
   ]
  },
  {
   "cell_type": "markdown",
   "id": "bb350fbc-6976-478b-8a09-d9b04a0acc70",
   "metadata": {},
   "source": [
    "<div style=\"background-color: lightblue; text-align: center; padding: 10px; position: relative; border-radius: 10px\">\n",
    "    <h1><b>Machine Learning Models</b></h1>\n",
    "</div>"
   ]
  },
  {
   "cell_type": "markdown",
   "id": "a6fc185e-f2e0-40b3-95e6-4b6ece7a431f",
   "metadata": {},
   "source": [
    "## Getting the important averages"
   ]
  },
  {
   "cell_type": "code",
   "execution_count": 56,
   "id": "fcaa5535-fb6c-4fda-ab34-e5f2f071a566",
   "metadata": {
    "tags": []
   },
   "outputs": [],
   "source": [
    "def get_average_ratings(sparse_matrix, of_users):\n",
    "    '''get the user averages in dictionary (key: userId/movieId, value: avg rating)'''\n",
    "    \n",
    "    # average ratings of user/axes\n",
    "    ax = 1 if of_users else 0 # 1 - User axes,0 - Movie axes\n",
    "\n",
    "    # \".A1\" is for converting Column_Matrix to 1-D numpy array \n",
    "    sum_of_ratings = sparse_matrix.sum(axis=ax).A1\n",
    "    # Boolean matrix of ratings ( whether a user rated that movie or not)\n",
    "    is_rated = sparse_matrix!=0\n",
    "    # no of ratings that each user OR movie..\n",
    "    no_of_ratings = is_rated.sum(axis=ax).A1\n",
    "    \n",
    "    # max_user  and max_movie ids in sparse matrix \n",
    "    u,m = sparse_matrix.shape\n",
    "    # creae a dictonary of users and their average ratigns..\n",
    "    average_ratings = { i : sum_of_ratings[i]/no_of_ratings[i]\n",
    "                                 for i in range(u if of_users else m) \n",
    "                                    if no_of_ratings[i] !=0}\n",
    "\n",
    "    # return that dictionary of average ratings\n",
    "    return average_ratings"
   ]
  },
  {
   "cell_type": "code",
   "execution_count": 57,
   "id": "4b996d99-dda2-4872-a566-e796716b8999",
   "metadata": {
    "tags": []
   },
   "outputs": [
    {
     "name": "stdout",
     "output_type": "stream",
     "text": [
      "{'global': 3.5084976880834025}\n",
      "\n",
      "Average rating of user 10 : 3.2785714285714285\n",
      "\n",
      "Average rating of movie 15 : 3.125\n"
     ]
    }
   ],
   "source": [
    "# GLOBAL RATING AVG.\n",
    "\n",
    "train_averages = dict()\n",
    "# get the global average of ratings in our train set.\n",
    "train_global_average = train_sparse_matrix.sum()/train_sparse_matrix.count_nonzero()\n",
    "train_averages['global'] = train_global_average\n",
    "print(train_averages)\n",
    "\n",
    "\n",
    "# AVG. RATING PER USER \n",
    "\n",
    "train_averages['user'] = get_average_ratings(train_sparse_matrix, of_users=True)\n",
    "print('\\nAverage rating of user 10 :',train_averages['user'][10])\n",
    "\n",
    "\n",
    "# AVG. RATING PER MOVIE\n",
    "\n",
    "train_averages['movie'] =  get_average_ratings(train_sparse_matrix, of_users=False)\n",
    "print('\\nAverage rating of movie 15 :',train_averages['movie'][15])\n",
    "\n"
   ]
  },
  {
   "cell_type": "markdown",
   "id": "a36e0ee6-1616-4b44-a4eb-4777f690f279",
   "metadata": {},
   "source": [
    "## Featurizing train dataset"
   ]
  },
  {
   "cell_type": "code",
   "execution_count": 58,
   "id": "25dbe066-581b-44d7-b964-a18d1bf11bbb",
   "metadata": {},
   "outputs": [],
   "source": [
    "train_users,train_movies,train_ratings = train_df[['userId','movieId','rating']].T.values"
   ]
  },
  {
   "cell_type": "code",
   "execution_count": 59,
   "id": "02cf0847-577b-466e-a771-4b0953eecacc",
   "metadata": {},
   "outputs": [
    {
     "name": "stdout",
     "output_type": "stream",
     "text": [
      "File already exists you don't have to prepare again...\n",
      "0:00:00.000999\n"
     ]
    }
   ],
   "source": [
    "start = datetime.now()\n",
    "if os.path.isfile('./reg_train.csv'):\n",
    "    print(\"File already exists you don't have to prepare again...\" )\n",
    "else:\n",
    "    print('preparing {} tuples for the dataset..\\n'.format(len(train_ratings)))\n",
    "    with open('./reg_train.csv', mode='w') as reg_data_file:\n",
    "        count = 0\n",
    "        for (user, movie, rating)  in zip(train_users,train_movies,train_ratings):\n",
    "            st = datetime.now()\n",
    "        #     print(user, movie)    \n",
    "        \n",
    "            user,movie = int(user),int(movie)\n",
    "            #--------------------- Ratings of \"movie\" by similar users of \"user\" ---------------------\n",
    "            # compute the similar Users of the \"user\"        \n",
    "            user_sim = cosine_similarity(train_sparse_matrix[user], train_sparse_matrix).ravel()\n",
    "            top_sim_users = user_sim.argsort()[::-1][1:] # we are ignoring 'The User' from its similar users.\n",
    "            # get the ratings of most similar users for this movie\n",
    "            top_ratings = train_sparse_matrix[top_sim_users, movie].toarray().ravel()\n",
    "            # we will make it's length \"5\" by adding movie averages to .\n",
    "            top_sim_users_ratings = list(top_ratings[top_ratings != 0][:5])\n",
    "            top_sim_users_ratings.extend([train_averages['movie'][movie]]*(5 - len(top_sim_users_ratings)))\n",
    "        #     print(top_sim_users_ratings, end=\" \")    \n",
    "\n",
    "\n",
    "            #--------------------- Ratings by \"user\"  to similar movies of \"movie\" ---------------------\n",
    "            # compute the similar movies of the \"movie\"        \n",
    "            movie_sim = cosine_similarity(train_sparse_matrix[:,movie].T, train_sparse_matrix.T).ravel()\n",
    "            top_sim_movies = movie_sim.argsort()[::-1][1:] # we are ignoring 'The User' from its similar users.\n",
    "            # get the ratings of most similar movie rated by this user..\n",
    "            top_ratings = train_sparse_matrix[user, top_sim_movies].toarray().ravel()\n",
    "            # we will make it's length \"5\" by adding user averages to.\n",
    "            top_sim_movies_ratings = list(top_ratings[top_ratings != 0][:5])\n",
    "            top_sim_movies_ratings.extend([train_averages['user'][user]]*(5-len(top_sim_movies_ratings))) \n",
    "        #     print(top_sim_movies_ratings, end=\" : -- \")\n",
    "\n",
    "            #-----------------prepare the row to be stores in a file-----------------#\n",
    "            row = list()\n",
    "            row.append(user)\n",
    "            row.append(movie)\n",
    "            # Now add the other features to this data...\n",
    "            row.append(train_averages['global']) # first feature\n",
    "            # next 5 features are similar_users \"movie\" ratings\n",
    "            row.extend(top_sim_users_ratings)\n",
    "            # next 5 features are \"user\" ratings for similar_movies\n",
    "            row.extend(top_sim_movies_ratings)\n",
    "            # Avg_user rating\n",
    "            row.append(train_averages['user'][user])\n",
    "            # Avg_movie rating\n",
    "            row.append(train_averages['movie'][movie])\n",
    "\n",
    "            # finally, The actual Rating of this user-movie pair...\n",
    "            row.append(rating)\n",
    "            count = count + 1\n",
    "\n",
    "            # add rows to the file opened..\n",
    "            reg_data_file.write(','.join(map(str, row)))\n",
    "            reg_data_file.write('\\n')        \n",
    "            if (count)%10000 == 0:\n",
    "                # print(','.join(map(str, row)))\n",
    "                print(\"Done for {} rows----- {}\".format(count,datetime.now() - start))\n",
    "\n",
    "\n",
    "print(datetime.now() - start)"
   ]
  },
  {
   "cell_type": "markdown",
   "id": "a7603719-7b94-4547-a2a9-6957da1b6ece",
   "metadata": {},
   "source": [
    "__Reading from the file to make a Train_dataframe__"
   ]
  },
  {
   "cell_type": "code",
   "execution_count": 60,
   "id": "b5929100-e751-4873-b164-08b2dcfa23b9",
   "metadata": {},
   "outputs": [
    {
     "data": {
      "text/html": [
       "<div>\n",
       "<style scoped>\n",
       "    .dataframe tbody tr th:only-of-type {\n",
       "        vertical-align: middle;\n",
       "    }\n",
       "\n",
       "    .dataframe tbody tr th {\n",
       "        vertical-align: top;\n",
       "    }\n",
       "\n",
       "    .dataframe thead th {\n",
       "        text-align: right;\n",
       "    }\n",
       "</style>\n",
       "<table border=\"1\" class=\"dataframe\">\n",
       "  <thead>\n",
       "    <tr style=\"text-align: right;\">\n",
       "      <th></th>\n",
       "      <th>user</th>\n",
       "      <th>movie</th>\n",
       "      <th>GAvg</th>\n",
       "      <th>sur1</th>\n",
       "      <th>sur2</th>\n",
       "      <th>sur3</th>\n",
       "      <th>sur4</th>\n",
       "      <th>sur5</th>\n",
       "      <th>smr1</th>\n",
       "      <th>smr2</th>\n",
       "      <th>smr3</th>\n",
       "      <th>smr4</th>\n",
       "      <th>smr5</th>\n",
       "      <th>UAvg</th>\n",
       "      <th>MAvg</th>\n",
       "      <th>rating</th>\n",
       "    </tr>\n",
       "  </thead>\n",
       "  <tbody>\n",
       "    <tr>\n",
       "      <th>0</th>\n",
       "      <td>429</td>\n",
       "      <td>595</td>\n",
       "      <td>3.508498</td>\n",
       "      <td>5.0</td>\n",
       "      <td>2.0</td>\n",
       "      <td>5.0</td>\n",
       "      <td>3.0</td>\n",
       "      <td>3.0</td>\n",
       "      <td>5.0</td>\n",
       "      <td>5.0</td>\n",
       "      <td>5.0</td>\n",
       "      <td>5.0</td>\n",
       "      <td>5.0</td>\n",
       "      <td>3.982759</td>\n",
       "      <td>3.779851</td>\n",
       "      <td>5.0</td>\n",
       "    </tr>\n",
       "    <tr>\n",
       "      <th>1</th>\n",
       "      <td>429</td>\n",
       "      <td>588</td>\n",
       "      <td>3.508498</td>\n",
       "      <td>4.0</td>\n",
       "      <td>5.0</td>\n",
       "      <td>4.0</td>\n",
       "      <td>2.0</td>\n",
       "      <td>4.0</td>\n",
       "      <td>5.0</td>\n",
       "      <td>5.0</td>\n",
       "      <td>5.0</td>\n",
       "      <td>4.0</td>\n",
       "      <td>5.0</td>\n",
       "      <td>3.982759</td>\n",
       "      <td>3.776398</td>\n",
       "      <td>5.0</td>\n",
       "    </tr>\n",
       "    <tr>\n",
       "      <th>2</th>\n",
       "      <td>429</td>\n",
       "      <td>590</td>\n",
       "      <td>3.508498</td>\n",
       "      <td>5.0</td>\n",
       "      <td>5.0</td>\n",
       "      <td>3.0</td>\n",
       "      <td>2.0</td>\n",
       "      <td>3.0</td>\n",
       "      <td>5.0</td>\n",
       "      <td>5.0</td>\n",
       "      <td>5.0</td>\n",
       "      <td>3.0</td>\n",
       "      <td>5.0</td>\n",
       "      <td>3.982759</td>\n",
       "      <td>3.826087</td>\n",
       "      <td>5.0</td>\n",
       "    </tr>\n",
       "    <tr>\n",
       "      <th>3</th>\n",
       "      <td>429</td>\n",
       "      <td>592</td>\n",
       "      <td>3.508498</td>\n",
       "      <td>3.0</td>\n",
       "      <td>4.0</td>\n",
       "      <td>3.0</td>\n",
       "      <td>3.0</td>\n",
       "      <td>3.0</td>\n",
       "      <td>5.0</td>\n",
       "      <td>5.0</td>\n",
       "      <td>5.0</td>\n",
       "      <td>3.0</td>\n",
       "      <td>5.0</td>\n",
       "      <td>3.982759</td>\n",
       "      <td>3.420000</td>\n",
       "      <td>5.0</td>\n",
       "    </tr>\n",
       "    <tr>\n",
       "      <th>4</th>\n",
       "      <td>429</td>\n",
       "      <td>432</td>\n",
       "      <td>3.508498</td>\n",
       "      <td>3.0</td>\n",
       "      <td>2.0</td>\n",
       "      <td>3.0</td>\n",
       "      <td>3.0</td>\n",
       "      <td>4.0</td>\n",
       "      <td>5.0</td>\n",
       "      <td>4.0</td>\n",
       "      <td>5.0</td>\n",
       "      <td>3.0</td>\n",
       "      <td>3.0</td>\n",
       "      <td>3.982759</td>\n",
       "      <td>2.666667</td>\n",
       "      <td>3.0</td>\n",
       "    </tr>\n",
       "  </tbody>\n",
       "</table>\n",
       "</div>"
      ],
      "text/plain": [
       "   user  movie      GAvg  sur1  sur2  sur3  sur4  sur5  smr1  smr2  smr3  \\\n",
       "0   429    595  3.508498   5.0   2.0   5.0   3.0   3.0   5.0   5.0   5.0   \n",
       "1   429    588  3.508498   4.0   5.0   4.0   2.0   4.0   5.0   5.0   5.0   \n",
       "2   429    590  3.508498   5.0   5.0   3.0   2.0   3.0   5.0   5.0   5.0   \n",
       "3   429    592  3.508498   3.0   4.0   3.0   3.0   3.0   5.0   5.0   5.0   \n",
       "4   429    432  3.508498   3.0   2.0   3.0   3.0   4.0   5.0   4.0   5.0   \n",
       "\n",
       "   smr4  smr5      UAvg      MAvg  rating  \n",
       "0   5.0   5.0  3.982759  3.779851     5.0  \n",
       "1   4.0   5.0  3.982759  3.776398     5.0  \n",
       "2   3.0   5.0  3.982759  3.826087     5.0  \n",
       "3   3.0   5.0  3.982759  3.420000     5.0  \n",
       "4   3.0   3.0  3.982759  2.666667     3.0  "
      ]
     },
     "execution_count": 60,
     "metadata": {},
     "output_type": "execute_result"
    }
   ],
   "source": [
    "reg_train = pd.read_csv('./reg_train.csv', names = ['user', 'movie', 'GAvg', 'sur1', 'sur2', 'sur3', 'sur4', 'sur5','smr1', 'smr2', 'smr3', 'smr4', 'smr5', 'UAvg', 'MAvg', 'rating'], header=None)\n",
    "reg_train.head()"
   ]
  },
  {
   "cell_type": "markdown",
   "id": "e3c5eabe-7556-49e8-bdb9-c12faed5c21d",
   "metadata": {},
   "source": [
    "-----------------------\n",
    "__HERE__: \n",
    "\n",
    "- __GAvg__ : Average rating of all the ratings \n",
    "\n",
    "\n",
    "- __Similar users rating of this movie__: sur1, sur2, sur3, sur4, sur5 ( top 5 similar users who rated that movie.. )\n",
    "    \n",
    "\n",
    "- __Similar movies rated by this user__: smr1, smr2, smr3, smr4, smr5 ( top 5 similar movies rated by this movie.. )\n",
    "\n",
    "\n",
    "- __UAvg__ : User's Average rating\n",
    "\n",
    "\n",
    "- __MAvg__ : Average rating of this movie\n",
    "\n",
    "\n",
    "- __rating__ : Rating of this movie by this user.\n",
    "\n",
    "-----------------------"
   ]
  },
  {
   "cell_type": "markdown",
   "id": "f2633223-31ba-4439-b827-186fca4bb430",
   "metadata": {},
   "source": [
    "## Featurizing test dataset"
   ]
  },
  {
   "cell_type": "code",
   "execution_count": 61,
   "id": "685e8bdb-0aaf-4e68-9b96-96374d00663b",
   "metadata": {},
   "outputs": [],
   "source": [
    "test_users,test_movies,test_ratings = test_df[['userId','movieId','rating']].T.values"
   ]
  },
  {
   "cell_type": "code",
   "execution_count": 62,
   "id": "e15d28de-9096-4dfa-905a-426c137cb3c4",
   "metadata": {},
   "outputs": [
    {
     "name": "stdout",
     "output_type": "stream",
     "text": [
      "It is already created...\n"
     ]
    }
   ],
   "source": [
    "start = datetime.now()\n",
    "\n",
    "if os.path.isfile('./reg_test.csv'):\n",
    "    print(\"It is already created...\")\n",
    "else:\n",
    "\n",
    "    print('preparing {} tuples for the dataset..\\n'.format(len(test_ratings)))\n",
    "    with open('./reg_test.csv', mode='w') as reg_data_file:\n",
    "        count = 0 \n",
    "        for (user, movie, rating)  in zip(test_users, test_movies, test_ratings):\n",
    "            st = datetime.now()\n",
    "            user,movie = int(user),int(movie)\n",
    "        #--------------------- Ratings of \"movie\" by similar users of \"user\" ---------------------\n",
    "            #print(user, movie)\n",
    "            try:\n",
    "                # compute the similar Users of the \"user\"        \n",
    "                user_sim = cosine_similarity(train_sparse_matrix[user], train_sparse_matrix).ravel()\n",
    "                top_sim_users = user_sim.argsort()[::-1][1:] # we are ignoring 'The User' from its similar users.\n",
    "                # get the ratings of most similar users for this movie\n",
    "                top_ratings = train_sparse_matrix[top_sim_users, movie].toarray().ravel()\n",
    "                # we will make it's length \"5\" by adding movie averages to .\n",
    "                top_sim_users_ratings = list(top_ratings[top_ratings != 0][:5])\n",
    "                top_sim_users_ratings.extend([train_averages['movie'][movie]]*(5 - len(top_sim_users_ratings)))\n",
    "                # print(top_sim_users_ratings, end=\"--\")\n",
    "\n",
    "            except (IndexError, KeyError):\n",
    "                # It is a new User or new Movie or there are no ratings for given user for top similar movies...\n",
    "                ########## Cold STart Problem ##########\n",
    "                top_sim_users_ratings.extend([train_averages['global']]*(5 - len(top_sim_users_ratings)))\n",
    "                #print(top_sim_users_ratings)\n",
    "            except:\n",
    "                print(user, movie)\n",
    "                # we just want KeyErrors to be resolved. Not every Exception...\n",
    "                raise\n",
    "\n",
    "\n",
    "\n",
    "            #--------------------- Ratings by \"user\"  to similar movies of \"movie\" ---------------------\n",
    "            try:\n",
    "                # compute the similar movies of the \"movie\"        \n",
    "                movie_sim = cosine_similarity(train_sparse_matrix[:,movie].T, train_sparse_matrix.T).ravel()\n",
    "                top_sim_movies = movie_sim.argsort()[::-1][1:] # we are ignoring 'The User' from its similar users.\n",
    "                # get the ratings of most similar movie rated by this user..\n",
    "                top_ratings = train_sparse_matrix[user, top_sim_movies].toarray().ravel()\n",
    "                # we will make it's length \"5\" by adding user averages to.\n",
    "                top_sim_movies_ratings = list(top_ratings[top_ratings != 0][:5])\n",
    "                top_sim_movies_ratings.extend([train_averages['user'][user]]*(5-len(top_sim_movies_ratings))) \n",
    "                #print(top_sim_movies_ratings)\n",
    "            except (IndexError, KeyError):\n",
    "                #print(top_sim_movies_ratings, end=\" : -- \")\n",
    "                top_sim_movies_ratings.extend([train_averages['global']]*(5-len(top_sim_movies_ratings)))\n",
    "                #print(top_sim_movies_ratings)\n",
    "            except :\n",
    "                raise\n",
    "\n",
    "            #-----------------prepare the row to be stores in a file-----------------#\n",
    "            row = list()\n",
    "            # add usser and movie name first\n",
    "            row.append(user)\n",
    "            row.append(movie)\n",
    "            row.append(train_averages['global']) # first feature\n",
    "            #print(row)\n",
    "            # next 5 features are similar_users \"movie\" ratings\n",
    "            row.extend(top_sim_users_ratings)\n",
    "            #print(row)\n",
    "            # next 5 features are \"user\" ratings for similar_movies\n",
    "            row.extend(top_sim_movies_ratings)\n",
    "            #print(row)\n",
    "            # Avg_user rating\n",
    "            try:\n",
    "                row.append(train_averages['user'][user])\n",
    "            except KeyError:\n",
    "                row.append(train_averages['global'])\n",
    "            except:\n",
    "                raise\n",
    "            #print(row)\n",
    "            # Avg_movie rating\n",
    "            try:\n",
    "                row.append(train_averages['movie'][movie])\n",
    "            except KeyError:\n",
    "                row.append(train_averages['global'])\n",
    "            except:\n",
    "                raise\n",
    "            #print(row)\n",
    "            # finalley, The actual Rating of this user-movie pair...\n",
    "            row.append(rating)\n",
    "            #print(row)\n",
    "            count = count + 1\n",
    "\n",
    "            # add rows to the file opened..\n",
    "            reg_data_file.write(','.join(map(str, row)))\n",
    "            #print(','.join(map(str, row)))\n",
    "            reg_data_file.write('\\n')        \n",
    "            if (count)%10000 == 0:\n",
    "                #print(','.join(map(str, row)))\n",
    "                print(\"Done for {} rows----- {}\".format(count, datetime.now() - start))\n",
    "    print(\"\",datetime.now() - start)  "
   ]
  },
  {
   "cell_type": "markdown",
   "id": "545f9ee1-5892-4573-a847-1fac6399cdbf",
   "metadata": {},
   "source": [
    "__Reading from the file to make a test dataframe__"
   ]
  },
  {
   "cell_type": "code",
   "execution_count": 63,
   "id": "fe4f3151-42e7-4732-a702-c587bfae48ea",
   "metadata": {},
   "outputs": [
    {
     "data": {
      "text/html": [
       "<div>\n",
       "<style scoped>\n",
       "    .dataframe tbody tr th:only-of-type {\n",
       "        vertical-align: middle;\n",
       "    }\n",
       "\n",
       "    .dataframe tbody tr th {\n",
       "        vertical-align: top;\n",
       "    }\n",
       "\n",
       "    .dataframe thead th {\n",
       "        text-align: right;\n",
       "    }\n",
       "</style>\n",
       "<table border=\"1\" class=\"dataframe\">\n",
       "  <thead>\n",
       "    <tr style=\"text-align: right;\">\n",
       "      <th></th>\n",
       "      <th>user</th>\n",
       "      <th>movie</th>\n",
       "      <th>GAvg</th>\n",
       "      <th>sur1</th>\n",
       "      <th>sur2</th>\n",
       "      <th>sur3</th>\n",
       "      <th>sur4</th>\n",
       "      <th>sur5</th>\n",
       "      <th>smr1</th>\n",
       "      <th>smr2</th>\n",
       "      <th>smr3</th>\n",
       "      <th>smr4</th>\n",
       "      <th>smr5</th>\n",
       "      <th>UAvg</th>\n",
       "      <th>MAvg</th>\n",
       "      <th>rating</th>\n",
       "    </tr>\n",
       "  </thead>\n",
       "  <tbody>\n",
       "    <tr>\n",
       "      <th>0</th>\n",
       "      <td>495</td>\n",
       "      <td>72998</td>\n",
       "      <td>3.508498</td>\n",
       "      <td>5.0</td>\n",
       "      <td>5.0</td>\n",
       "      <td>1.0</td>\n",
       "      <td>4.0</td>\n",
       "      <td>3.0</td>\n",
       "      <td>5.0</td>\n",
       "      <td>5.0</td>\n",
       "      <td>5.0</td>\n",
       "      <td>5.0</td>\n",
       "      <td>5.0</td>\n",
       "      <td>4.466667</td>\n",
       "      <td>3.712963</td>\n",
       "      <td>5.0</td>\n",
       "    </tr>\n",
       "    <tr>\n",
       "      <th>1</th>\n",
       "      <td>495</td>\n",
       "      <td>2762</td>\n",
       "      <td>3.508498</td>\n",
       "      <td>4.0</td>\n",
       "      <td>3.5</td>\n",
       "      <td>4.5</td>\n",
       "      <td>4.5</td>\n",
       "      <td>4.0</td>\n",
       "      <td>5.0</td>\n",
       "      <td>5.0</td>\n",
       "      <td>4.0</td>\n",
       "      <td>5.0</td>\n",
       "      <td>4.5</td>\n",
       "      <td>4.466667</td>\n",
       "      <td>3.887417</td>\n",
       "      <td>4.5</td>\n",
       "    </tr>\n",
       "    <tr>\n",
       "      <th>2</th>\n",
       "      <td>495</td>\n",
       "      <td>4993</td>\n",
       "      <td>3.508498</td>\n",
       "      <td>5.0</td>\n",
       "      <td>4.0</td>\n",
       "      <td>5.0</td>\n",
       "      <td>4.5</td>\n",
       "      <td>3.5</td>\n",
       "      <td>5.0</td>\n",
       "      <td>5.0</td>\n",
       "      <td>5.0</td>\n",
       "      <td>5.0</td>\n",
       "      <td>5.0</td>\n",
       "      <td>4.466667</td>\n",
       "      <td>4.128289</td>\n",
       "      <td>0.5</td>\n",
       "    </tr>\n",
       "    <tr>\n",
       "      <th>3</th>\n",
       "      <td>495</td>\n",
       "      <td>89492</td>\n",
       "      <td>3.508498</td>\n",
       "      <td>4.0</td>\n",
       "      <td>4.0</td>\n",
       "      <td>4.0</td>\n",
       "      <td>3.0</td>\n",
       "      <td>4.0</td>\n",
       "      <td>5.0</td>\n",
       "      <td>5.0</td>\n",
       "      <td>5.0</td>\n",
       "      <td>5.0</td>\n",
       "      <td>5.0</td>\n",
       "      <td>4.466667</td>\n",
       "      <td>3.694444</td>\n",
       "      <td>5.0</td>\n",
       "    </tr>\n",
       "  </tbody>\n",
       "</table>\n",
       "</div>"
      ],
      "text/plain": [
       "   user  movie      GAvg  sur1  sur2  sur3  sur4  sur5  smr1  smr2  smr3  \\\n",
       "0   495  72998  3.508498   5.0   5.0   1.0   4.0   3.0   5.0   5.0   5.0   \n",
       "1   495   2762  3.508498   4.0   3.5   4.5   4.5   4.0   5.0   5.0   4.0   \n",
       "2   495   4993  3.508498   5.0   4.0   5.0   4.5   3.5   5.0   5.0   5.0   \n",
       "3   495  89492  3.508498   4.0   4.0   4.0   3.0   4.0   5.0   5.0   5.0   \n",
       "\n",
       "   smr4  smr5      UAvg      MAvg  rating  \n",
       "0   5.0   5.0  4.466667  3.712963     5.0  \n",
       "1   5.0   4.5  4.466667  3.887417     4.5  \n",
       "2   5.0   5.0  4.466667  4.128289     0.5  \n",
       "3   5.0   5.0  4.466667  3.694444     5.0  "
      ]
     },
     "execution_count": 63,
     "metadata": {},
     "output_type": "execute_result"
    }
   ],
   "source": [
    "reg_test_df = pd.read_csv('./reg_test.csv', names = ['user', 'movie', 'GAvg', 'sur1', 'sur2', 'sur3', 'sur4', 'sur5',\n",
    "                                                          'smr1', 'smr2', 'smr3', 'smr4', 'smr5',\n",
    "                                                          'UAvg', 'MAvg', 'rating'], header=None)\n",
    "reg_test_df.head(4)"
   ]
  },
  {
   "cell_type": "markdown",
   "id": "4d37c30b-8612-4daf-adf8-eda7aa03db52",
   "metadata": {},
   "source": [
    "## Transforming data for Surprise models"
   ]
  },
  {
   "cell_type": "markdown",
   "id": "b2391b75-7d1e-43b7-b873-6fcf02cead58",
   "metadata": {},
   "source": [
    "- Since, We can't give raw data (movie, user, rating) to train the model in Surprise library.\n",
    "- They have to be in a different format for TRAIN and TEST data, which will be useful for training the models like SVD, KNNBaseLine only..etcin Surprise.\n"
   ]
  },
  {
   "cell_type": "code",
   "execution_count": 64,
   "id": "c3d48786-f90a-4df2-ab85-cf5b4e88ca9b",
   "metadata": {},
   "outputs": [],
   "source": [
    "# It is to specify how to read the dataframe.\n",
    "# for our dataframe, we don't have to specify anything extra..\n",
    "reader = Reader(rating_scale=(1.0,5.0))\n",
    "\n",
    "# create the traindata from the dataframe...\n",
    "train_data = Dataset.load_from_df(train_df[['userId','movieId','rating']], reader)\n",
    "\n",
    "# build the trainset from traindata.., It is of dataset format from surprise library..\n",
    "trainset = train_data.build_full_trainset() "
   ]
  },
  {
   "cell_type": "code",
   "execution_count": 65,
   "id": "e9cfff5d-525b-4500-934b-96b680e2f04b",
   "metadata": {},
   "outputs": [
    {
     "data": {
      "text/plain": [
       "[(495, 72998, 5.0), (495, 2762, 4.5), (495, 4993, 0.5)]"
      ]
     },
     "execution_count": 65,
     "metadata": {},
     "output_type": "execute_result"
    }
   ],
   "source": [
    "testset = list(zip(test_df.userId.values, test_df.movieId.values,test_df.rating.values))\n",
    "testset[:3]"
   ]
  },
  {
   "cell_type": "markdown",
   "id": "f6939a46-02a5-4d2e-a3a0-7c0679e5d0af",
   "metadata": {},
   "source": [
    "## Applying ML models"
   ]
  },
  {
   "cell_type": "markdown",
   "id": "28e4c42c-291f-402e-a6cd-f72a39bf1753",
   "metadata": {},
   "source": [
    "-  Global dictionary that stores rmse and mape for all the models.\n",
    "    It stores the metrics in a dictionary of dictionaries\n",
    "\n",
    "    > __keys__ : model names(string)\n",
    "    \n",
    "    > __value__: dict(__key__ : metric, __value__ : value ) "
   ]
  },
  {
   "cell_type": "code",
   "execution_count": 66,
   "id": "c2b70394-f0fc-4056-ab0a-0994d21729d3",
   "metadata": {},
   "outputs": [
    {
     "data": {
      "text/plain": [
       "({}, {})"
      ]
     },
     "execution_count": 66,
     "metadata": {},
     "output_type": "execute_result"
    }
   ],
   "source": [
    "models_evaluation_train = dict()\n",
    "models_evaluation_test = dict()\n",
    "\n",
    "models_evaluation_train, models_evaluation_test"
   ]
  },
  {
   "cell_type": "markdown",
   "id": "12364db7-d2b0-4608-b568-bc9dad850c6d",
   "metadata": {},
   "source": [
    "__Utility functions for running regression models__"
   ]
  },
  {
   "cell_type": "code",
   "execution_count": 67,
   "id": "c849ef19-5797-40d6-9ce8-8e5cc9396252",
   "metadata": {},
   "outputs": [],
   "source": [
    "# to get rmse and mape given actual and predicted ratings..\n",
    "def get_error_metrics(y_true, y_pred):\n",
    "    rmse = np.sqrt(np.mean([ (y_true[i] - y_pred[i])**2 for i in range(len(y_pred)) ]))\n",
    "    mape = np.mean(np.abs( (y_true - y_pred)/y_true )) * 100\n",
    "    return rmse, mape\n",
    "\n",
    "###################################################################\n",
    "###################################################################\n",
    "def run_xgboost(algo,  x_train, y_train, x_test, y_test, verbose=True):\n",
    "    \"\"\"\n",
    "    It will return train_results and test_results\n",
    "    \"\"\"\n",
    "    \n",
    "    # dictionaries for storing train and test results\n",
    "    train_results = dict()\n",
    "    test_results = dict()\n",
    "    \n",
    "    \n",
    "    # fit the model\n",
    "    print('Training the model..')\n",
    "    start =datetime.now()\n",
    "    algo.fit(x_train, y_train, eval_metric = 'rmse')\n",
    "    print('Done. Time taken : {}\\n'.format(datetime.now()-start))\n",
    "    print('Done \\n')\n",
    "\n",
    "    # from the trained model, get the predictions....\n",
    "    print('Evaluating the model with TRAIN data...')\n",
    "    start =datetime.now()\n",
    "    y_train_pred = algo.predict(x_train)\n",
    "    # get the rmse and mape of train data...\n",
    "    rmse_train, mape_train = get_error_metrics(y_train.values, y_train_pred)\n",
    "    \n",
    "    # store the results in train_results dictionary..\n",
    "    train_results = {'rmse': rmse_train,\n",
    "                    'mape' : mape_train,\n",
    "                    'predictions' : y_train_pred}\n",
    "        \n",
    "    if verbose:\n",
    "        print('\\nTRAIN DATA')\n",
    "        print('-'*30)\n",
    "        print('RMSE : ', rmse_train)\n",
    "        print('MAPE : ', mape_train)\n",
    "    \n",
    "    #######################################\n",
    "    # get the test data predictions and compute rmse and mape\n",
    "    print('Evaluating Test data')\n",
    "    y_test_pred = algo.predict(x_test) \n",
    "    rmse_test, mape_test = get_error_metrics(y_true=y_test.values, y_pred=y_test_pred)\n",
    "    # store them in our test results dictionary.\n",
    "    test_results = {'rmse': rmse_test,\n",
    "                    'mape' : mape_test,\n",
    "                    'predictions':y_test_pred}\n",
    "    if verbose:\n",
    "        print('\\nTEST DATA')\n",
    "        print('-'*30)\n",
    "        print('RMSE : ', rmse_test)\n",
    "        print('MAPE : ', mape_test)\n",
    "        \n",
    "    # return these train and test results...\n",
    "    return train_results, test_results"
   ]
  },
  {
   "cell_type": "markdown",
   "id": "aca89e3b-a553-4ca4-9f9a-dcffdf0f913b",
   "metadata": {},
   "source": [
    "__Utility functions for Surprise modes__"
   ]
  },
  {
   "cell_type": "code",
   "execution_count": 68,
   "id": "62abbb0f-27f5-4ee6-ae3b-5a55fd6fc291",
   "metadata": {},
   "outputs": [],
   "source": [
    "# it is just to makesure that all of our algorithms should produce same results\n",
    "# everytime they run...\n",
    "\n",
    "my_seed = 15\n",
    "random.seed(my_seed)\n",
    "np.random.seed(my_seed)\n",
    "\n",
    "##########################################################\n",
    "# get  (actual_list , predicted_list) ratings given list \n",
    "# of predictions (prediction is a class in Surprise).    \n",
    "##########################################################\n",
    "def get_ratings(predictions):\n",
    "    actual = np.array([pred.r_ui for pred in predictions])\n",
    "    pred = np.array([pred.est for pred in predictions])\n",
    "    \n",
    "    return actual, pred\n",
    "\n",
    "################################################################\n",
    "# get ''rmse'' and ''mape'' , given list of prediction objecs \n",
    "################################################################\n",
    "def get_errors(predictions, print_them=False):\n",
    "\n",
    "    actual, pred = get_ratings(predictions)\n",
    "    rmse = np.sqrt(np.mean((pred - actual)**2))\n",
    "    mape = np.mean(np.abs(pred - actual)/actual)\n",
    "\n",
    "    return rmse, mape*100\n",
    "\n",
    "##################################################################################\n",
    "# It will return predicted ratings, rmse and mape of both train and test data   #\n",
    "##################################################################################\n",
    "def run_surprise(algo, trainset, testset, verbose=True): \n",
    "    '''\n",
    "        return train_dict, test_dict\n",
    "    \n",
    "        It returns two dictionaries, one for train and the other is for test\n",
    "        Each of them have 3 key-value pairs, which specify ''rmse'', ''mape'', and ''predicted ratings''.\n",
    "    '''\n",
    "    start = datetime.now()\n",
    "    # dictionaries that stores metrics for train and test..\n",
    "    train = dict()\n",
    "    test = dict()\n",
    "    \n",
    "    # train the algorithm with the trainset\n",
    "    st = datetime.now()\n",
    "    print('Training the model...')\n",
    "    algo.fit(trainset)\n",
    "    print('Done. time taken : {} \\n'.format(datetime.now()-st))\n",
    "    \n",
    "    # ---------------- Evaluating train data--------------------#\n",
    "    st = datetime.now()\n",
    "    print('Evaluating the model with train data..')\n",
    "    # get the train predictions (list of prediction class inside Surprise)\n",
    "    train_preds = algo.test(trainset.build_testset())\n",
    "    # get predicted ratings from the train predictions..\n",
    "    train_actual_ratings, train_pred_ratings = get_ratings(train_preds)\n",
    "    # get ''rmse'' and ''mape'' from the train predictions.\n",
    "    train_rmse, train_mape = get_errors(train_preds)\n",
    "    print('time taken : {}'.format(datetime.now()-st))\n",
    "    \n",
    "    if verbose:\n",
    "        print('-'*15)\n",
    "        print('Train Data')\n",
    "        print('-'*15)\n",
    "        print(\"RMSE : {}\\n\\nMAPE : {}\\n\".format(train_rmse, train_mape))\n",
    "    \n",
    "    #store them in the train dictionary\n",
    "    if verbose:\n",
    "        print('adding train results in the dictionary..')\n",
    "    train['rmse'] = train_rmse\n",
    "    train['mape'] = train_mape\n",
    "    train['predictions'] = train_pred_ratings\n",
    "    \n",
    "    #------------ Evaluating Test data---------------#\n",
    "    st = datetime.now()\n",
    "    print('\\nEvaluating for test data...')\n",
    "    # get the predictions( list of prediction classes) of test data\n",
    "    test_preds = algo.test(testset)\n",
    "    # get the predicted ratings from the list of predictions\n",
    "    test_actual_ratings, test_pred_ratings = get_ratings(test_preds)\n",
    "    # get error metrics from the predicted and actual ratings\n",
    "    test_rmse, test_mape = get_errors(test_preds)\n",
    "    print('time taken : {}'.format(datetime.now()-st))\n",
    "    \n",
    "    if verbose:\n",
    "        print('-'*15)\n",
    "        print('Test Data')\n",
    "        print('-'*15)\n",
    "        print(\"RMSE : {}\\n\\nMAPE : {}\\n\".format(test_rmse, test_mape))\n",
    "    # store them in test dictionary\n",
    "    if verbose:\n",
    "        print('storing the test results in test dictionary...')\n",
    "    test['rmse'] = test_rmse\n",
    "    test['mape'] = test_mape\n",
    "    test['predictions'] = test_pred_ratings\n",
    "    \n",
    "    print('\\n'+'-'*45)\n",
    "    print('Total time taken to run this algorithm :', datetime.now() - start)\n",
    "    \n",
    "    # return two dictionaries train and test\n",
    "    return train, test"
   ]
  },
  {
   "cell_type": "markdown",
   "id": "cbc7a81f-5829-4371-8c97-6d8375d5d515",
   "metadata": {
    "tags": []
   },
   "source": [
    "### Hyperparameter tuning of XGB models"
   ]
  },
  {
   "cell_type": "code",
   "execution_count": 69,
   "id": "73d53a33-21c9-447e-a930-f5a04ed1450a",
   "metadata": {
    "tags": []
   },
   "outputs": [],
   "source": [
    "from sklearn.model_selection import RandomizedSearchCV\n",
    "from sklearn.metrics import make_scorer\n",
    "def rmse_score(y_true, y_pred):\n",
    "    \"\"\"\n",
    "    Calculate Root Mean Squared Error (RMSE).\n",
    "    \"\"\"\n",
    "    return mean_squared_error(y_true, y_pred, squared=False)\n",
    "\n",
    "def xgb_hyperparameter_tuning(X_train, y_train, params_grid, cv=5, eval_metric = 'rmse'):\n",
    "    \"\"\"\n",
    "    Perform hyperparameter tuning for XGBoost model using GridSearchCV.\n",
    "\n",
    "    Parameters:\n",
    "    - X_train: Features of the training data.\n",
    "    - y_train: Target variable of the training data.\n",
    "    - params_grid: Dictionary specifying the hyperparameter grid to search.\n",
    "    - cv: Number of cross-validation folds. Default is 5.\n",
    "    - scoring: Scoring metric for GridSearchCV. Default is 'accuracy'.\n",
    "\n",
    "    Returns:\n",
    "    - best_estimator: Best trained XGBoost model.\n",
    "    - best_params: Best hyperparameters found during tuning.\n",
    "    \"\"\"\n",
    "\n",
    "    # Initialize XGBoost classifier\n",
    "    xgb_clf = xgb.XGBRegressor()\n",
    "\n",
    "    # Initialize GridSearchCV with the provided parameter grid\n",
    "    random_search = RandomizedSearchCV(estimator=xgb_clf, param_distributions=params_grid, cv=cv, scoring=make_scorer(rmse_score, greater_is_better=False,n_jobs=-1))\n",
    "\n",
    "    # Perform grid search\n",
    "    random_search.fit(X_train, y_train)\n",
    "\n",
    "    # Extract the best estimator and best parameters\n",
    "    best_estimator = random_search.best_estimator_\n",
    "    best_params = random_search.best_params_\n",
    "\n",
    "    return best_estimator, best_params"
   ]
  },
  {
   "cell_type": "markdown",
   "id": "aa2800ae-08aa-47ee-827d-2c93ffaea70f",
   "metadata": {},
   "source": [
    "### XGBoost with Initial 13 features"
   ]
  },
  {
   "cell_type": "code",
   "execution_count": 70,
   "id": "93bbf109-51e2-4c8d-b56c-8afeac96f729",
   "metadata": {},
   "outputs": [],
   "source": [
    "import xgboost as xgb"
   ]
  },
  {
   "cell_type": "code",
   "execution_count": 71,
   "id": "834f9f68-8901-47a6-a678-e6121a392675",
   "metadata": {},
   "outputs": [
    {
     "name": "stdout",
     "output_type": "stream",
     "text": [
      "Training the model..\n",
      "Done. Time taken : 0:00:00.742949\n",
      "\n",
      "Done \n",
      "\n",
      "Evaluating the model with TRAIN data...\n",
      "\n",
      "TRAIN DATA\n",
      "------------------------------\n",
      "RMSE :  0.6850474201647262\n",
      "MAPE :  20.82564817406343\n",
      "Evaluating Test data\n",
      "\n",
      "TEST DATA\n",
      "------------------------------\n",
      "RMSE :  1.0558161428009392\n",
      "MAPE :  39.24337507528977\n"
     ]
    },
    {
     "data": {
      "image/png": "[encoded data removed]",
      "text/plain": [
       "<Figure size 640x480 with 1 Axes>"
      ]
     },
     "metadata": {},
     "output_type": "display_data"
    }
   ],
   "source": [
    "# prepare Train data\n",
    "x_train = reg_train.drop(['user','movie','rating'], axis=1)\n",
    "y_train = reg_train['rating']\n",
    "\n",
    "# Prepare Test data\n",
    "x_test = reg_test_df.drop(['user','movie','rating'], axis=1)\n",
    "y_test = reg_test_df['rating']\n",
    "\n",
    "# initialize Our first XGBoost model...\n",
    "first_xgb = xgb.XGBRegressor(n_jobs=-1, random_state=15, n_estimators=100)\n",
    "train_results, test_results = run_xgboost(first_xgb, x_train, y_train, x_test, y_test)\n",
    "\n",
    "# store the results in models_evaluations dictionaries\n",
    "models_evaluation_train['first_algo'] = train_results\n",
    "models_evaluation_test['first_algo'] = test_results\n",
    "\n",
    "xgb.plot_importance(first_xgb)\n",
    "plt.show()"
   ]
  },
  {
   "cell_type": "markdown",
   "id": "995d174c-b704-419e-a6a3-158a822fe207",
   "metadata": {},
   "source": [
    "### Surprise Baseline Model"
   ]
  },
  {
   "cell_type": "code",
   "execution_count": 72,
   "id": "c0283082-983f-461b-a5a7-03235fd7229f",
   "metadata": {},
   "outputs": [],
   "source": [
    "from surprise import BaselineOnly"
   ]
  },
  {
   "cell_type": "markdown",
   "id": "c81740af-8b34-4226-b065-3d3b4cafca7d",
   "metadata": {},
   "source": [
    "__Predicted_rating : ( baseline prediction )__\n",
    "http://surprise.readthedocs.io/en/stable/basic_algorithms.html#surprise.prediction_algorithms.baseline_only.BaselineOnly \n",
    " >$   \\large {\\hat{r}_{ui} = b_{ui} =\\mu + b_u + b_i} $\n",
    "\n",
    "\n",
    "- $\\pmb \\mu $ : Average of all trainings in training data.\n",
    "- $\\pmb b_u$ : User bias\n",
    "- $\\pmb b_i$ : Item bias (movie biases) "
   ]
  },
  {
   "cell_type": "markdown",
   "id": "bf8f7d41-efbd-436b-bc66-cd7d83d386f7",
   "metadata": {},
   "source": [
    "__Optimization function ( Least Squares Problem )__\n",
    "http://surprise.readthedocs.io/en/stable/prediction_algorithms.html#baselines-estimates-configuration \n",
    "\n",
    "> $ \\large \\sum_{r_{ui} \\in R_{train}} \\left(r_{ui} - (\\mu + b_u + b_i)\\right)^2 +\n",
    "\\lambda \\left(b_u^2 + b_i^2 \\right).\\text {        [mimimize } {b_u, b_i]}$ "
   ]
  },
  {
   "cell_type": "code",
   "execution_count": 73,
   "id": "93b797d5-163f-416f-8b0f-b9e511ac61e5",
   "metadata": {},
   "outputs": [
    {
     "name": "stdout",
     "output_type": "stream",
     "text": [
      "Training the model...\n",
      "Estimating biases using sgd...\n",
      "Done. time taken : 0:00:00.118528 \n",
      "\n",
      "Evaluating the model with train data..\n",
      "time taken : 0:00:00.289522\n",
      "---------------\n",
      "Train Data\n",
      "---------------\n",
      "RMSE : 0.8775786911679883\n",
      "\n",
      "MAPE : 30.454573244661404\n",
      "\n",
      "adding train results in the dictionary..\n",
      "\n",
      "Evaluating for test data...\n",
      "time taken : 0:00:00.068315\n",
      "---------------\n",
      "Test Data\n",
      "---------------\n",
      "RMSE : 1.0243005039853545\n",
      "\n",
      "MAPE : 40.20855003829862\n",
      "\n",
      "storing the test results in test dictionary...\n",
      "\n",
      "---------------------------------------------\n",
      "Total time taken to run this algorithm : 0:00:00.477869\n"
     ]
    }
   ],
   "source": [
    "# options are to specify.., how to compute those user and item biases\n",
    "bsl_options = {'method': 'sgd',\n",
    "               'learning_rate': .001\n",
    "               }\n",
    "bsl_algo = BaselineOnly(bsl_options=bsl_options)\n",
    "\n",
    "# run this algorithm.., It will return the train and test results..\n",
    "bsl_train_results, bsl_test_results = run_surprise(bsl_algo, trainset, testset, verbose=True)\n",
    "\n",
    "# Just store these error metrics in our models_evaluation datastructure\n",
    "models_evaluation_train['bsl_algo'] = bsl_train_results \n",
    "models_evaluation_test['bsl_algo'] = bsl_test_results"
   ]
  },
  {
   "cell_type": "markdown",
   "id": "a7251d6d-0a27-450a-8467-21051c6fc07c",
   "metadata": {},
   "source": [
    "### Surprise KNNBaseline predictor"
   ]
  },
  {
   "cell_type": "code",
   "execution_count": 74,
   "id": "ac752d2e-a5d5-4135-bc13-956d1a5f594e",
   "metadata": {},
   "outputs": [],
   "source": [
    "from surprise import KNNBaseline"
   ]
  },
  {
   "cell_type": "markdown",
   "id": "458b91b8-0752-46cc-8b84-06e91a334a89",
   "metadata": {},
   "source": [
    "- KNN BASELINE\n",
    "http://surprise.readthedocs.io/en/stable/knn_inspired.html#surprise.prediction_algorithms.knns.KNNBaseline \n",
    "    \n",
    "- PEARSON_BASELINE SIMILARITY\n",
    "http://surprise.readthedocs.io/en/stable/similarities.html#surprise.similarities.pearson_baseline \n",
    "\n",
    "- SHRINKAGE\n",
    "<br>_2.2 Neighborhood Models_ in http://courses.ischool.berkeley.edu/i290-dm/s11/SECURE/a1-koren.pdf \n",
    "\n",
    "\n",
    "- __predicted Rating__ : ___(based on User-User similarity)___\n",
    "\n",
    "\\begin{align} \\hat{r}_{ui} = b_{ui} + \\frac{ \\sum\\limits_{v \\in N^k_i(u)}\n",
    "\\text{sim}(u, v) \\cdot (r_{vi} - b_{vi})} {\\sum\\limits_{v \\in\n",
    "N^k_i(u)} \\text{sim}(u, v)} \\end{align}\n",
    "\n",
    "- $\\pmb{b_{ui}}$ -  _Baseline prediction_ of (user,movie) rating\n",
    "\n",
    "- $ \\pmb {N_i^k (u)}$ - Set of __K similar__ users (neighbours) of __user (u)__ who rated __movie(i)__  \n",
    "\n",
    "- _sim (u, v)_ - __Similarity__ between users __u and v__  \n",
    "    - Generally, it will be cosine similarity or Pearson correlation coefficient. \n",
    "    - But we use __shrunk Pearson-baseline correlation coefficient__, which is based on the pearsonBaseline similarity ( we take base line predictions instead of mean rating of user/item)\n",
    "    \n"
   ]
  },
  {
   "cell_type": "markdown",
   "id": "8340a896-e0f1-4ed1-95d8-c5c7c252cc02",
   "metadata": {},
   "source": [
    "- __Predicted rating__: ___(based on Item-Item similarity)___\n",
    "<br>\n",
    "\n",
    " \\begin{align} \\hat{r}_{ui} = b_{ui} + \\frac{ \\sum\\limits_{j \\in N^k_u(i)}\\text{sim}(i, j) \\cdot (r_{uj} - b_{uj})} {\\sum\\limits_{j \\in N^k_u(j)} \\text{sim}(i, j)} \\end{align}\n",
    "\n",
    "_Notations follows same as above (user-user based predicted rating)_"
   ]
  },
  {
   "cell_type": "markdown",
   "id": "8f0ffb1d-6b14-4cf8-8a37-c7b9fe87058b",
   "metadata": {},
   "source": [
    "#### Surprise KNNBaseline with user user similarities"
   ]
  },
  {
   "cell_type": "code",
   "execution_count": 75,
   "id": "2948222e-2a78-4c8a-8a5b-38d9c1458901",
   "metadata": {},
   "outputs": [
    {
     "name": "stdout",
     "output_type": "stream",
     "text": [
      "Training the model...\n",
      "Estimating biases using sgd...\n",
      "Computing the pearson_baseline similarity matrix...\n",
      "Done computing similarity matrix.\n",
      "Done. time taken : 0:00:00.290215 \n",
      "\n",
      "Evaluating the model with train data..\n",
      "time taken : 0:00:03.330499\n",
      "---------------\n",
      "Train Data\n",
      "---------------\n",
      "RMSE : 0.3951643796917806\n",
      "\n",
      "MAPE : 11.691316963163043\n",
      "\n",
      "adding train results in the dictionary..\n",
      "\n",
      "Evaluating for test data...\n",
      "time taken : 0:00:00.190344\n",
      "---------------\n",
      "Test Data\n",
      "---------------\n",
      "RMSE : 1.0169764581401328\n",
      "\n",
      "MAPE : 39.72756795257239\n",
      "\n",
      "storing the test results in test dictionary...\n",
      "\n",
      "---------------------------------------------\n",
      "Total time taken to run this algorithm : 0:00:03.811058\n"
     ]
    }
   ],
   "source": [
    "# we specify, how to compute similarities and what to consider with sim_options to our algorithm\n",
    "sim_options = {'user_based' : True,\n",
    "               'name': 'pearson_baseline',\n",
    "               'shrinkage': 10,\n",
    "               'min_support': 1\n",
    "              } \n",
    "# we keep other parameters like regularization parameter and learning_rate as default values.\n",
    "bsl_options = {'method': 'sgd'} \n",
    "\n",
    "knn_bsl_u = KNNBaseline(k=20, sim_options = sim_options, bsl_options = bsl_options)\n",
    "knn_bsl_u_train_results, knn_bsl_u_test_results = run_surprise(knn_bsl_u, trainset, testset, verbose=True)\n",
    "\n",
    "# Just store these error metrics in our models_evaluation datastructure\n",
    "models_evaluation_train['knn_bsl_u'] = knn_bsl_u_train_results \n",
    "models_evaluation_test['knn_bsl_u'] = knn_bsl_u_test_results"
   ]
  },
  {
   "cell_type": "markdown",
   "id": "382f2b11-a09e-4185-b843-e5557498e382",
   "metadata": {},
   "source": [
    "#### Surprise KNNBaseline with movie movie similarities"
   ]
  },
  {
   "cell_type": "code",
   "execution_count": 76,
   "id": "a7b182ca-8f55-4ca7-8035-3af57ed87896",
   "metadata": {},
   "outputs": [
    {
     "name": "stdout",
     "output_type": "stream",
     "text": [
      "Training the model...\n",
      "Estimating biases using sgd...\n",
      "Computing the pearson_baseline similarity matrix...\n",
      "Done computing similarity matrix.\n",
      "Done. time taken : 0:00:03.315056 \n",
      "\n",
      "Evaluating the model with train data..\n",
      "time taken : 0:00:14.086039\n",
      "---------------\n",
      "Train Data\n",
      "---------------\n",
      "RMSE : 0.3251522121040674\n",
      "\n",
      "MAPE : 9.584317551359922\n",
      "\n",
      "adding train results in the dictionary..\n",
      "\n",
      "Evaluating for test data...\n",
      "time taken : 0:00:00.350849\n",
      "---------------\n",
      "Test Data\n",
      "---------------\n",
      "RMSE : 1.0156721891005795\n",
      "\n",
      "MAPE : 39.773592408563566\n",
      "\n",
      "storing the test results in test dictionary...\n",
      "\n",
      "---------------------------------------------\n",
      "Total time taken to run this algorithm : 0:00:17.751944\n"
     ]
    }
   ],
   "source": [
    "# we specify , how to compute similarities and what to consider with sim_options to our algorithm\n",
    "\n",
    "# 'user_based' : Fals => this considers the similarities of movies instead of users\n",
    "\n",
    "sim_options = {'user_based' : False,\n",
    "               'name': 'pearson_baseline',\n",
    "               'shrinkage': 100,\n",
    "               'min_support': 2\n",
    "              } \n",
    "# we keep other parameters like regularization parameter and learning_rate as default values.\n",
    "bsl_options = {'method': 'sgd'}\n",
    "\n",
    "\n",
    "knn_bsl_m = KNNBaseline(k=40, sim_options = sim_options, bsl_options = bsl_options)\n",
    "\n",
    "knn_bsl_m_train_results, knn_bsl_m_test_results = run_surprise(knn_bsl_m, trainset, testset, verbose=True)\n",
    "\n",
    "# Just store these error metrics in our models_evaluation datastructure\n",
    "models_evaluation_train['knn_bsl_m'] = knn_bsl_m_train_results \n",
    "models_evaluation_test['knn_bsl_m'] = knn_bsl_m_test_results"
   ]
  },
  {
   "cell_type": "markdown",
   "id": "23629451-8cb7-4de6-88c1-8f04ec94e97d",
   "metadata": {},
   "source": [
    "### SVD Matrix Factorization User Movie intractions"
   ]
  },
  {
   "cell_type": "code",
   "execution_count": 77,
   "id": "b4b32547-9b82-4610-8b54-5534ee845821",
   "metadata": {},
   "outputs": [],
   "source": [
    "from surprise import SVD"
   ]
  },
  {
   "cell_type": "markdown",
   "id": "26bf6f41-87ad-4d12-a51d-88ed378f731e",
   "metadata": {},
   "source": [
    "__Predicted Rating :__\n",
    "\n",
    "- $ \\large  \\hat r_{ui} = \\mu + b_u + b_i + q_i^Tp_u $\n",
    " \n",
    "- $\\pmb q_i$ - Representation of item(movie) in latent factor space\n",
    "\n",
    "- $\\pmb p_u$ - Representation of user in new latent factor space\n",
    "        \n"
   ]
  },
  {
   "cell_type": "markdown",
   "id": "e704fc34-9fb5-4888-94a1-556371d72737",
   "metadata": {},
   "source": [
    "__Optimization problem with user item interactions and regularization (to avoid overfitting)__\n",
    "- $\\large \\sum_{r_{ui} \\in R_{train}} \\left(r_{ui} - \\hat{r}_{ui} \\right)^2 +\n",
    "\\lambda\\left(b_i^2 + b_u^2 + ||q_i||^2 + ||p_u||^2\\right) $"
   ]
  },
  {
   "cell_type": "code",
   "execution_count": 78,
   "id": "873cd3b4-7c59-46b7-b9a8-298906c186c1",
   "metadata": {},
   "outputs": [
    {
     "name": "stdout",
     "output_type": "stream",
     "text": [
      "Training the model...\n",
      "Processing epoch 0\n",
      "Processing epoch 1\n",
      "Processing epoch 2\n",
      "Processing epoch 3\n",
      "Processing epoch 4\n",
      "Processing epoch 5\n",
      "Processing epoch 6\n",
      "Processing epoch 7\n",
      "Processing epoch 8\n",
      "Processing epoch 9\n",
      "Processing epoch 10\n",
      "Processing epoch 11\n",
      "Processing epoch 12\n",
      "Processing epoch 13\n",
      "Processing epoch 14\n",
      "Processing epoch 15\n",
      "Processing epoch 16\n",
      "Processing epoch 17\n",
      "Processing epoch 18\n",
      "Processing epoch 19\n",
      "Done. time taken : 0:00:00.368124 \n",
      "\n",
      "Evaluating the model with train data..\n",
      "time taken : 0:00:00.350048\n",
      "---------------\n",
      "Train Data\n",
      "---------------\n",
      "RMSE : 0.6425277541917895\n",
      "\n",
      "MAPE : 21.355403527437648\n",
      "\n",
      "adding train results in the dictionary..\n",
      "\n",
      "Evaluating for test data...\n",
      "time taken : 0:00:00.066197\n",
      "---------------\n",
      "Test Data\n",
      "---------------\n",
      "RMSE : 1.0143397346127099\n",
      "\n",
      "MAPE : 39.70910979880776\n",
      "\n",
      "storing the test results in test dictionary...\n",
      "\n",
      "---------------------------------------------\n",
      "Total time taken to run this algorithm : 0:00:00.784369\n"
     ]
    }
   ],
   "source": [
    "# initiallize the model\n",
    "svd = SVD(n_factors=100, biased=True, random_state=15, verbose=True)\n",
    "svd_train_results, svd_test_results = run_surprise(svd, trainset, testset, verbose=True)\n",
    "\n",
    "# Just store these error metrics in our models_evaluation datastructure\n",
    "models_evaluation_train['svd'] = svd_train_results \n",
    "models_evaluation_test['svd'] = svd_test_results"
   ]
  },
  {
   "cell_type": "markdown",
   "id": "302e42c2-ef9b-4ece-a3ac-3f1dbcfed6f3",
   "metadata": {},
   "source": [
    "### SVD Matrix Factorization with implicit feedback from user (user rated movies)"
   ]
  },
  {
   "cell_type": "code",
   "execution_count": 79,
   "id": "8e5966a9-50a7-4716-87c8-5f29fa0fa74d",
   "metadata": {},
   "outputs": [],
   "source": [
    "from surprise import SVDpp"
   ]
  },
  {
   "cell_type": "markdown",
   "id": "08ea3800-59c0-4b3e-9816-8171cedf311c",
   "metadata": {},
   "source": [
    "__Predicted Rating :__\n",
    "    - <br>\n",
    "- $ \\large \\hat{r}_{ui} = \\mu + b_u + b_i + q_i^T\\left(p_u +\n",
    "    |I_u|^{-\\frac{1}{2}} \\sum_{j \\in I_u}y_j\\right) $ \n",
    "    \n",
    "- $ \\pmb{I_u}$ --- the set of all items rated by user u\n",
    "\n",
    "- $\\pmb{y_j}$ --- Our new set of item factors that capture implicit ratings.   \n",
    "\n",
    "__Optimization problem with user item interactions and regularization (to avoid overfitting)__\n",
    "     \n",
    "- $ \\large \\sum_{r_{ui} \\in R_{train}} \\left(r_{ui} - \\hat{r}_{ui} \\right)^2 +\n",
    "\\lambda\\left(b_i^2 + b_u^2 + ||q_i||^2 + ||p_u||^2 + ||y_j||^2\\right) $ \n"
   ]
  },
  {
   "cell_type": "code",
   "execution_count": 80,
   "id": "86b4a51f-35a3-4838-84d4-e4fc1545b47c",
   "metadata": {},
   "outputs": [
    {
     "name": "stdout",
     "output_type": "stream",
     "text": [
      "Training the model...\n",
      " processing epoch 0\n",
      " processing epoch 1\n",
      " processing epoch 2\n",
      " processing epoch 3\n",
      " processing epoch 4\n",
      " processing epoch 5\n",
      " processing epoch 6\n",
      " processing epoch 7\n",
      " processing epoch 8\n",
      " processing epoch 9\n",
      " processing epoch 10\n",
      " processing epoch 11\n",
      " processing epoch 12\n",
      " processing epoch 13\n",
      " processing epoch 14\n",
      " processing epoch 15\n",
      " processing epoch 16\n",
      " processing epoch 17\n",
      " processing epoch 18\n",
      " processing epoch 19\n",
      "Done. time taken : 0:03:33.815523 \n",
      "\n",
      "Evaluating the model with train data..\n",
      "time taken : 0:00:20.753967\n",
      "---------------\n",
      "Train Data\n",
      "---------------\n",
      "RMSE : 0.4680545608406275\n",
      "\n",
      "MAPE : 14.806118909320338\n",
      "\n",
      "adding train results in the dictionary..\n",
      "\n",
      "Evaluating for test data...\n",
      "time taken : 0:00:00.406120\n",
      "---------------\n",
      "Test Data\n",
      "---------------\n",
      "RMSE : 1.0142587691439953\n",
      "\n",
      "MAPE : 39.63322618001881\n",
      "\n",
      "storing the test results in test dictionary...\n",
      "\n",
      "---------------------------------------------\n",
      "Total time taken to run this algorithm : 0:03:54.975610\n"
     ]
    }
   ],
   "source": [
    "# initiallize the model\n",
    "svdpp = SVDpp(n_factors=120, random_state=15, verbose=True)\n",
    "svdpp_train_results, svdpp_test_results = run_surprise(svdpp, trainset, testset, verbose=True)\n",
    "\n",
    "# Just store these error metrics in our models_evaluation datastructure\n",
    "models_evaluation_train['svdpp'] = svdpp_train_results \n",
    "models_evaluation_test['svdpp'] = svdpp_test_results"
   ]
  },
  {
   "cell_type": "markdown",
   "id": "25272694-27dc-4630-8471-0743ca9107af",
   "metadata": {},
   "source": [
    "### XgBoost with 13 features + Surprise Baseline + Surprise KNNbaseline + MF Techniques"
   ]
  },
  {
   "cell_type": "markdown",
   "id": "bcae01db-c76d-4505-bb6e-491b7217be61",
   "metadata": {},
   "source": [
    "__Preparing Train data__"
   ]
  },
  {
   "cell_type": "code",
   "execution_count": 81,
   "id": "07a9703f-731d-4928-8fd7-5817aa101957",
   "metadata": {},
   "outputs": [
    {
     "data": {
      "text/html": [
       "<div>\n",
       "<style scoped>\n",
       "    .dataframe tbody tr th:only-of-type {\n",
       "        vertical-align: middle;\n",
       "    }\n",
       "\n",
       "    .dataframe tbody tr th {\n",
       "        vertical-align: top;\n",
       "    }\n",
       "\n",
       "    .dataframe thead th {\n",
       "        text-align: right;\n",
       "    }\n",
       "</style>\n",
       "<table border=\"1\" class=\"dataframe\">\n",
       "  <thead>\n",
       "    <tr style=\"text-align: right;\">\n",
       "      <th></th>\n",
       "      <th>user</th>\n",
       "      <th>movie</th>\n",
       "      <th>GAvg</th>\n",
       "      <th>sur1</th>\n",
       "      <th>sur2</th>\n",
       "      <th>sur3</th>\n",
       "      <th>sur4</th>\n",
       "      <th>sur5</th>\n",
       "      <th>smr1</th>\n",
       "      <th>smr2</th>\n",
       "      <th>smr3</th>\n",
       "      <th>smr4</th>\n",
       "      <th>smr5</th>\n",
       "      <th>UAvg</th>\n",
       "      <th>MAvg</th>\n",
       "      <th>rating</th>\n",
       "      <th>bslpr</th>\n",
       "      <th>knn_bsl_u</th>\n",
       "      <th>knn_bsl_m</th>\n",
       "      <th>svd</th>\n",
       "      <th>svdpp</th>\n",
       "    </tr>\n",
       "  </thead>\n",
       "  <tbody>\n",
       "    <tr>\n",
       "      <th>0</th>\n",
       "      <td>429</td>\n",
       "      <td>595</td>\n",
       "      <td>3.508498</td>\n",
       "      <td>5.0</td>\n",
       "      <td>2.0</td>\n",
       "      <td>5.0</td>\n",
       "      <td>3.0</td>\n",
       "      <td>3.0</td>\n",
       "      <td>5.0</td>\n",
       "      <td>5.0</td>\n",
       "      <td>5.0</td>\n",
       "      <td>5.0</td>\n",
       "      <td>5.0</td>\n",
       "      <td>3.982759</td>\n",
       "      <td>3.779851</td>\n",
       "      <td>5.0</td>\n",
       "      <td>4.105069</td>\n",
       "      <td>4.806941</td>\n",
       "      <td>4.846703</td>\n",
       "      <td>4.573875</td>\n",
       "      <td>4.773115</td>\n",
       "    </tr>\n",
       "    <tr>\n",
       "      <th>1</th>\n",
       "      <td>429</td>\n",
       "      <td>588</td>\n",
       "      <td>3.508498</td>\n",
       "      <td>4.0</td>\n",
       "      <td>5.0</td>\n",
       "      <td>4.0</td>\n",
       "      <td>2.0</td>\n",
       "      <td>4.0</td>\n",
       "      <td>5.0</td>\n",
       "      <td>5.0</td>\n",
       "      <td>5.0</td>\n",
       "      <td>4.0</td>\n",
       "      <td>5.0</td>\n",
       "      <td>3.982759</td>\n",
       "      <td>3.776398</td>\n",
       "      <td>5.0</td>\n",
       "      <td>4.116153</td>\n",
       "      <td>4.605823</td>\n",
       "      <td>4.929342</td>\n",
       "      <td>4.400657</td>\n",
       "      <td>4.552991</td>\n",
       "    </tr>\n",
       "  </tbody>\n",
       "</table>\n",
       "</div>"
      ],
      "text/plain": [
       "   user  movie      GAvg  sur1  sur2  sur3  sur4  sur5  smr1  smr2  smr3  \\\n",
       "0   429    595  3.508498   5.0   2.0   5.0   3.0   3.0   5.0   5.0   5.0   \n",
       "1   429    588  3.508498   4.0   5.0   4.0   2.0   4.0   5.0   5.0   5.0   \n",
       "\n",
       "   smr4  smr5      UAvg      MAvg  rating     bslpr  knn_bsl_u  knn_bsl_m  \\\n",
       "0   5.0   5.0  3.982759  3.779851     5.0  4.105069   4.806941   4.846703   \n",
       "1   4.0   5.0  3.982759  3.776398     5.0  4.116153   4.605823   4.929342   \n",
       "\n",
       "        svd     svdpp  \n",
       "0  4.573875  4.773115  \n",
       "1  4.400657  4.552991  "
      ]
     },
     "execution_count": 81,
     "metadata": {},
     "output_type": "execute_result"
    }
   ],
   "source": [
    "# add the predicted values from both knns to this dataframe\n",
    "reg_train['bslpr'] = models_evaluation_train['bsl_algo']['predictions']\n",
    "reg_train['knn_bsl_u'] = models_evaluation_train['knn_bsl_u']['predictions']\n",
    "reg_train['knn_bsl_m'] = models_evaluation_train['knn_bsl_m']['predictions']\n",
    "reg_train['svd'] = models_evaluation_train['svd']['predictions']\n",
    "reg_train['svdpp'] = models_evaluation_train['svdpp']['predictions']\n",
    "\n",
    "\n",
    "reg_train.head(2) "
   ]
  },
  {
   "cell_type": "code",
   "execution_count": 82,
   "id": "a1adc84a-a1d5-4629-bfed-00d79114bd4c",
   "metadata": {},
   "outputs": [
    {
     "data": {
      "text/html": [
       "<div>\n",
       "<style scoped>\n",
       "    .dataframe tbody tr th:only-of-type {\n",
       "        vertical-align: middle;\n",
       "    }\n",
       "\n",
       "    .dataframe tbody tr th {\n",
       "        vertical-align: top;\n",
       "    }\n",
       "\n",
       "    .dataframe thead th {\n",
       "        text-align: right;\n",
       "    }\n",
       "</style>\n",
       "<table border=\"1\" class=\"dataframe\">\n",
       "  <thead>\n",
       "    <tr style=\"text-align: right;\">\n",
       "      <th></th>\n",
       "      <th>user</th>\n",
       "      <th>movie</th>\n",
       "      <th>GAvg</th>\n",
       "      <th>sur1</th>\n",
       "      <th>sur2</th>\n",
       "      <th>sur3</th>\n",
       "      <th>sur4</th>\n",
       "      <th>sur5</th>\n",
       "      <th>smr1</th>\n",
       "      <th>smr2</th>\n",
       "      <th>smr3</th>\n",
       "      <th>smr4</th>\n",
       "      <th>smr5</th>\n",
       "      <th>UAvg</th>\n",
       "      <th>MAvg</th>\n",
       "      <th>rating</th>\n",
       "      <th>bslpr</th>\n",
       "      <th>knn_bsl_u</th>\n",
       "      <th>knn_bsl_m</th>\n",
       "      <th>svd</th>\n",
       "      <th>svdpp</th>\n",
       "    </tr>\n",
       "  </thead>\n",
       "  <tbody>\n",
       "    <tr>\n",
       "      <th>0</th>\n",
       "      <td>495</td>\n",
       "      <td>72998</td>\n",
       "      <td>3.508498</td>\n",
       "      <td>5.0</td>\n",
       "      <td>5.0</td>\n",
       "      <td>1.0</td>\n",
       "      <td>4.0</td>\n",
       "      <td>3.0</td>\n",
       "      <td>5.0</td>\n",
       "      <td>5.0</td>\n",
       "      <td>5.0</td>\n",
       "      <td>5.0</td>\n",
       "      <td>5.0</td>\n",
       "      <td>4.466667</td>\n",
       "      <td>3.712963</td>\n",
       "      <td>5.0</td>\n",
       "      <td>4.004035</td>\n",
       "      <td>4.992033</td>\n",
       "      <td>4.902771</td>\n",
       "      <td>4.578276</td>\n",
       "      <td>4.839619</td>\n",
       "    </tr>\n",
       "    <tr>\n",
       "      <th>1</th>\n",
       "      <td>495</td>\n",
       "      <td>2762</td>\n",
       "      <td>3.508498</td>\n",
       "      <td>4.0</td>\n",
       "      <td>3.5</td>\n",
       "      <td>4.5</td>\n",
       "      <td>4.5</td>\n",
       "      <td>4.0</td>\n",
       "      <td>5.0</td>\n",
       "      <td>5.0</td>\n",
       "      <td>4.0</td>\n",
       "      <td>5.0</td>\n",
       "      <td>4.5</td>\n",
       "      <td>4.466667</td>\n",
       "      <td>3.887417</td>\n",
       "      <td>4.5</td>\n",
       "      <td>4.205590</td>\n",
       "      <td>4.460026</td>\n",
       "      <td>4.421323</td>\n",
       "      <td>4.638795</td>\n",
       "      <td>4.453357</td>\n",
       "    </tr>\n",
       "  </tbody>\n",
       "</table>\n",
       "</div>"
      ],
      "text/plain": [
       "   user  movie      GAvg  sur1  sur2  sur3  sur4  sur5  smr1  smr2  smr3  \\\n",
       "0   495  72998  3.508498   5.0   5.0   1.0   4.0   3.0   5.0   5.0   5.0   \n",
       "1   495   2762  3.508498   4.0   3.5   4.5   4.5   4.0   5.0   5.0   4.0   \n",
       "\n",
       "   smr4  smr5      UAvg      MAvg  rating     bslpr  knn_bsl_u  knn_bsl_m  \\\n",
       "0   5.0   5.0  4.466667  3.712963     5.0  4.004035   4.992033   4.902771   \n",
       "1   5.0   4.5  4.466667  3.887417     4.5  4.205590   4.460026   4.421323   \n",
       "\n",
       "        svd     svdpp  \n",
       "0  4.578276  4.839619  \n",
       "1  4.638795  4.453357  "
      ]
     },
     "execution_count": 82,
     "metadata": {},
     "output_type": "execute_result"
    }
   ],
   "source": [
    "# add the predicted values from both knns to this dataframe\n",
    "reg_test_df['bslpr'] = models_evaluation_test['bsl_algo']['predictions']\n",
    "reg_test_df['knn_bsl_u'] = models_evaluation_test['knn_bsl_u']['predictions']\n",
    "reg_test_df['knn_bsl_m'] = models_evaluation_test['knn_bsl_m']['predictions']\n",
    "reg_test_df['svd'] = models_evaluation_test['svd']['predictions']\n",
    "reg_test_df['svdpp'] = models_evaluation_test['svdpp']['predictions']\n",
    "\n",
    "\n",
    "reg_test_df.head(2) "
   ]
  },
  {
   "cell_type": "code",
   "execution_count": 83,
   "id": "f30d36de-a20d-4ef6-b9b1-994fb7fab754",
   "metadata": {
    "tags": []
   },
   "outputs": [
    {
     "name": "stdout",
     "output_type": "stream",
     "text": [
      "Training the model..\n",
      "Done. Time taken : 0:00:02.449379\n",
      "\n",
      "Done \n",
      "\n",
      "Evaluating the model with TRAIN data...\n",
      "\n",
      "TRAIN DATA\n",
      "------------------------------\n",
      "RMSE :  0.6822591707733902\n",
      "MAPE :  20.904088508623566\n",
      "Evaluating Test data\n",
      "\n",
      "TEST DATA\n",
      "------------------------------\n",
      "RMSE :  1.040607545907021\n",
      "MAPE :  39.29997524836969\n"
     ]
    },
    {
     "data": {
      "image/png": "[encoded data removed]",
      "text/plain": [
       "<Figure size 640x480 with 1 Axes>"
      ]
     },
     "metadata": {},
     "output_type": "display_data"
    }
   ],
   "source": [
    "# prepare x_train and y_train\n",
    "x_train = reg_train.drop(['user', 'movie', 'rating',], axis=1)\n",
    "y_train = reg_train['rating']\n",
    "\n",
    "# prepare test data\n",
    "x_test = reg_test_df.drop(['user', 'movie', 'rating'], axis=1)\n",
    "y_test = reg_test_df['rating']\n",
    "\n",
    "\n",
    "\n",
    "xgb_final = xgb.XGBRegressor(n_jobs=-1, random_state=15)\n",
    "train_results, test_results = run_xgboost(xgb_final, x_train, y_train, x_test, y_test)\n",
    "\n",
    "# store the results in models_evaluations dictionaries\n",
    "models_evaluation_train['xgb_final'] = train_results\n",
    "models_evaluation_test['xgb_final'] = test_results\n",
    "\n",
    "\n",
    "xgb.plot_importance(xgb_final)\n",
    "plt.show()"
   ]
  },
  {
   "cell_type": "code",
   "execution_count": 84,
   "id": "9b975ccf-c888-474d-a5a1-5e71ab292561",
   "metadata": {
    "tags": []
   },
   "outputs": [
    {
     "name": "stdout",
     "output_type": "stream",
     "text": [
      "Training the model..\n",
      "Done. Time taken : 0:00:08.393193\n",
      "\n",
      "Done \n",
      "\n",
      "Evaluating the model with TRAIN data...\n",
      "\n",
      "TRAIN DATA\n",
      "------------------------------\n",
      "RMSE :  0.6414831876300052\n",
      "MAPE :  19.414450515971875\n",
      "Evaluating Test data\n",
      "\n",
      "TEST DATA\n",
      "------------------------------\n",
      "RMSE :  1.0363351872831497\n",
      "MAPE :  38.86334607694032\n"
     ]
    },
    {
     "data": {
      "image/png": "[encoded data removed]",
      "text/plain": [
       "<Figure size 640x480 with 1 Axes>"
      ]
     },
     "metadata": {},
     "output_type": "display_data"
    }
   ],
   "source": [
    "# Hyperparamter tuning & then predict and store the results in models_evaluations dictionaries\n",
    "params_grid = {\n",
    "    'max_depth': [3, 5, 7,9],\n",
    "    'learning_rate': [0.1, 0.01, 0.001],\n",
    "    'n_estimators': [100, 300,500,1000],\n",
    "    'gamma': [0, 0.1, 0.2],\n",
    "    'subsample': [0.8, 0.9, 1.0],\n",
    "    'colsample_bytree': [0.8, 0.9, 1.0]\n",
    "}\n",
    "\n",
    "xgb_final_params = {'subsample': [1.0],\n",
    " 'n_estimators': [300],\n",
    " 'max_depth': [7],\n",
    " 'learning_rate': [0.1],\n",
    " 'gamma': [0.2],\n",
    " 'colsample_bytree': [0.9]}\n",
    "\n",
    "xgb_final_tuned,xgb_final_params = xgb_hyperparameter_tuning(x_train,y_train,xgb_final_params) # <<--------------- Replace with param grid to run Random Search again\n",
    "train_results, test_results = run_xgboost(xgb_final_tuned, x_train, y_train, x_test, y_test)\n",
    "\n",
    "# store the results in models_evaluations dictionaries\n",
    "models_evaluation_train['xgb_final_tuned'] = train_results\n",
    "models_evaluation_test['xgb_final_tuned'] = test_results\n",
    "\n",
    "\n",
    "xgb.plot_importance(xgb_final)\n",
    "plt.show()"
   ]
  },
  {
   "cell_type": "markdown",
   "id": "c9222310-08fc-4460-8d79-9b0214a5a322",
   "metadata": {},
   "source": [
    "## XgBoost with Surprise Baseline + Surprise KNNbaseline + MF Techniques"
   ]
  },
  {
   "cell_type": "code",
   "execution_count": 85,
   "id": "d96effe2-0152-4ce0-bf1a-e5d8ad413bdc",
   "metadata": {},
   "outputs": [
    {
     "name": "stdout",
     "output_type": "stream",
     "text": [
      "Training the model..\n",
      "Done. Time taken : 0:00:02.180199\n",
      "\n",
      "Done \n",
      "\n",
      "Evaluating the model with TRAIN data...\n",
      "\n",
      "TRAIN DATA\n",
      "------------------------------\n",
      "RMSE :  0.9714374921626167\n",
      "MAPE :  34.37802746525494\n",
      "Evaluating Test data\n",
      "\n",
      "TEST DATA\n",
      "------------------------------\n",
      "RMSE :  1.072952256023652\n",
      "MAPE :  41.721408705936675\n"
     ]
    },
    {
     "data": {
      "image/png": "[encoded data removed]",
      "text/plain": [
       "<Figure size 640x480 with 1 Axes>"
      ]
     },
     "metadata": {},
     "output_type": "display_data"
    }
   ],
   "source": [
    "# prepare train data\n",
    "x_train = reg_train[['bslpr','knn_bsl_u', 'knn_bsl_m', 'svd', 'svdpp']]\n",
    "y_train = reg_train['rating']\n",
    "\n",
    "# test data\n",
    "x_test = reg_test_df[['bslpr','knn_bsl_u', 'knn_bsl_m', 'svd', 'svdpp']]\n",
    "y_test = reg_test_df['rating']\n",
    "\n",
    "\n",
    "xgb_all_models = xgb.XGBRegressor(n_jobs=-1, random_state=15)\n",
    "train_results, test_results = run_xgboost(xgb_all_models, x_train, y_train, x_test, y_test)\n",
    "\n",
    "# store the results in models_evaluations dictionaries\n",
    "models_evaluation_train['xgb_all_models'] = train_results\n",
    "models_evaluation_test['xgb_all_models'] = test_results\n",
    "\n",
    "xgb.plot_importance(xgb_all_models)\n",
    "plt.show()"
   ]
  },
  {
   "cell_type": "code",
   "execution_count": 86,
   "id": "02a652e8-4da6-4008-9f2d-25fa127f0652",
   "metadata": {},
   "outputs": [
    {
     "name": "stdout",
     "output_type": "stream",
     "text": [
      "Training the model..\n",
      "Done. Time taken : 0:00:08.836804\n",
      "\n",
      "Done \n",
      "\n",
      "Evaluating the model with TRAIN data...\n",
      "\n",
      "TRAIN DATA\n",
      "------------------------------\n",
      "RMSE :  0.9715499531513121\n",
      "MAPE :  34.51442650632464\n",
      "Evaluating Test data\n",
      "\n",
      "TEST DATA\n",
      "------------------------------\n",
      "RMSE :  1.0714723995980922\n",
      "MAPE :  41.69228084909909\n"
     ]
    },
    {
     "data": {
      "image/png": "[encoded data removed]",
      "text/plain": [
       "<Figure size 640x480 with 1 Axes>"
      ]
     },
     "metadata": {},
     "output_type": "display_data"
    }
   ],
   "source": [
    "# Hyperparamter tuning & then predict and store the results in models_evaluations dictionaries\n",
    "\n",
    "xgb_all_models_params = {'subsample': [0.9],\n",
    "         'n_estimators': [500],\n",
    "         'max_depth': [5],\n",
    "         'learning_rate': [0.1],\n",
    "         'gamma': [0],\n",
    "         'colsample_bytree': [0.8]}\n",
    "\n",
    "xgb_all_models_tuned,xgb_all_models_params = xgb_hyperparameter_tuning(x_train,y_train,xgb_all_models_params) # <<--------------- Replace with param grid to run Random Search again\n",
    "train_results, test_results = run_xgboost(xgb_all_models_tuned, x_train, y_train, x_test, y_test)\n",
    "\n",
    "# store the results in models_evaluations dictionaries\n",
    "models_evaluation_train['xgb_all_models_tuned'] = train_results\n",
    "models_evaluation_test['xgb_all_models_tuned'] = test_results\n",
    "\n",
    "\n",
    "xgb.plot_importance(xgb_all_models_tuned)\n",
    "plt.show()"
   ]
  },
  {
   "cell_type": "markdown",
   "id": "c9b1252a-5784-45a9-922e-b91ca001dd1c",
   "metadata": {},
   "source": [
    "## Comparision between all models"
   ]
  },
  {
   "cell_type": "code",
   "execution_count": 87,
   "id": "0f86fdd6-30f0-4888-a49a-f1a8080c2041",
   "metadata": {},
   "outputs": [
    {
     "data": {
      "text/plain": [
       "svdpp                   1.0142587691439953\n",
       "svd                     1.0143397346127099\n",
       "knn_bsl_m               1.0156721891005795\n",
       "knn_bsl_u               1.0169764581401328\n",
       "bsl_algo                1.0243005039853545\n",
       "xgb_final_tuned         1.0363351872831497\n",
       "xgb_final                1.040607545907021\n",
       "first_algo              1.0558161428009392\n",
       "xgb_all_models_tuned    1.0714723995980922\n",
       "xgb_all_models           1.072952256023652\n",
       "Name: rmse, dtype: object"
      ]
     },
     "execution_count": 87,
     "metadata": {},
     "output_type": "execute_result"
    }
   ],
   "source": [
    "# Saving our TEST_RESULTS into a dataframe so that you don't have to run it again\n",
    "pd.DataFrame(models_evaluation_test).to_csv('./final_results.csv')\n",
    "models = pd.read_csv('./final_results.csv', index_col=0)\n",
    "models.loc['rmse'].sort_values()"
   ]
  },
  {
   "cell_type": "markdown",
   "id": "45f35dd5-3e31-4631-97aa-0eb34758bbcf",
   "metadata": {},
   "source": [
    "<div style=\"background-color: lightblue; text-align: center; padding: 10px; position: relative; border-radius: 10px\">\n",
    "    <h1><b>SVDPP Model Interpretations & Validation</b></h1>\n",
    "</div>"
   ]
  },
  {
   "cell_type": "markdown",
   "id": "48d4cdb8-1878-4046-8604-b8a0dacaf736",
   "metadata": {
    "tags": []
   },
   "source": [
    "**Let's say we want to check for user `576` based on our model what will be the rating of different movies present in the data and what can we recommend based on users past view**"
   ]
  },
  {
   "cell_type": "code",
   "execution_count": 233,
   "id": "6d5bb99b-26c7-46ad-b1c2-ea22091d51e6",
   "metadata": {},
   "outputs": [],
   "source": [
    "# movies rated by the user 298\n",
    "val_user = 576"
   ]
  },
  {
   "cell_type": "code",
   "execution_count": 254,
   "id": "0e4beafb-5963-445b-8765-42f6dad70b65",
   "metadata": {},
   "outputs": [],
   "source": [
    "def recommendation_based_on_past_ratings(val_user):\n",
    "    try : \n",
    "        # Creating an array for all movies present in the data\n",
    "        unique_movies = ratings['movieId'].unique()\n",
    "\n",
    "        rating_val_user = dict()\n",
    "        rating_val_user['movieId']=list()\n",
    "        rating_val_user['predicted_rating'] = list()\n",
    "\n",
    "        for i in unique_movies:\n",
    "            rating_val_user['movieId'].append(i)\n",
    "            rating_val_user['predicted_rating'].append(svdpp.predict(val_user,i).est)\n",
    "\n",
    "        # users predicted ratings dataframe for all movies \n",
    "        prediction_val_user = pd.DataFrame(rating_val_user)\n",
    "\n",
    "        watched_movies_data= pd.merge(ratings,movies,how='inner',on='movieId')\n",
    "\n",
    "        watched_movies_data = watched_movies_data[watched_movies_data['userId']==val_user][['movieId','rating']]\n",
    "\n",
    "        num_watched_movies_val_user = len(watched_movies_data)\n",
    "\n",
    "        final_val_user_df = pd.merge(watched_movies_data,prediction_val_user,how='outer',on='movieId')            # Picking the watched movieId and rating from watched_movieS_data\n",
    "        final_val_user_df = pd.merge(final_val_user_df,movies,how='outer',on='movieId')                           # picking the titles and release year of all movies from the movies data \n",
    "        final_val_user_df = final_val_user_df[['movieId', 'title', 'release_year','rating', 'predicted_rating']]  # changing the order of the columns \n",
    "        final_val_user_df['error'] = final_val_user_df['rating'] - final_val_user_df['predicted_rating']\n",
    "\n",
    "        recommendations = final_val_user_df[final_val_user_df['rating'].isna()].sort_values(by='predicted_rating',ascending=False).head(10)[['movieId','title','release_year','predicted_rating']]\n",
    "\n",
    "        # display(final_val_user_df.head(num_watched_movies_val_user))\n",
    "\n",
    "        ## Final 10 recommendations based on SVDPP model \n",
    "\n",
    "    return recommendations\n",
    "    "
   ]
  },
  {
   "cell_type": "markdown",
   "id": "0dee0194-4fa6-4203-b976-f7e267f3741f",
   "metadata": {},
   "source": [
    "<div style=\"background-color: orange; text-align: center; padding: 10px; position: relative; border-radius: 10px\">\n",
    "    <h2><b>User Movie Recommendation Widget</b></h2>\n",
    "</div>"
   ]
  },
  {
   "cell_type": "code",
   "execution_count": 269,
   "id": "10ec8522-6b3b-4403-a6ae-5d3678dcbea9",
   "metadata": {},
   "outputs": [
    {
     "data": {
      "application/vnd.jupyter.widget-view+json": {
       "model_id": "80acddbfeec14acc9541b72354edb356",
       "version_major": 2,
       "version_minor": 0
      },
      "text/plain": [
       "Text(value='582', description=\"<h3>Enter user's ID here:</h3>\", style=DescriptionStyle(description_width='150p…"
      ]
     },
     "metadata": {},
     "output_type": "display_data"
    },
    {
     "data": {
      "application/vnd.jupyter.widget-view+json": {
       "model_id": "4cf75bb06f86475daaff967652fab2cc",
       "version_major": 2,
       "version_minor": 0
      },
      "text/plain": [
       "Output()"
      ]
     },
     "metadata": {},
     "output_type": "display_data"
    }
   ],
   "source": [
    "# Widget Creation \n",
    "userid_input = widgets.Text(\n",
    "    value='582',\n",
    "    description=\"<h3>Enter user's ID here:</h3>\",\n",
    "    disabled=False,\n",
    "    style={'description_width': '150px'} \n",
    ")\n",
    "\n",
    "recommeded_movie_list = widgets.Output()\n",
    "\n",
    "def on_type(data):\n",
    "    try:\n",
    "        user = int(data[\"new\"])\n",
    "        with recommeded_movie_list:\n",
    "            recommeded_movie_list.clear_output()\n",
    "            if user > 0:\n",
    "                display(recommendation_based_on_past_ratings(user))\n",
    "    except:\n",
    "        with recommeded_movie_list:\n",
    "            recommeded_movie_list.clear_output()\n",
    "            print(\"Enter a valid User ID\")\n",
    "\n",
    "userid_input.observe(on_type, names='value')\n",
    "\n",
    "\n",
    "display(userid_input,recommeded_movie_list)"
   ]
  }
 ],
 "metadata": {
  "kernelspec": {
   "display_name": "Python 3 (ipykernel)",
   "language": "python",
   "name": "python3"
  },
  "language_info": {
   "codemirror_mode": {
    "name": "ipython",
    "version": 3
   },
   "file_extension": ".py",
   "mimetype": "text/x-python",
   "name": "python",
   "nbconvert_exporter": "python",
   "pygments_lexer": "ipython3",
   "version": "3.10.9"
  },
  "toc-autonumbering": false,
  "toc-showcode": false,
  "toc-showmarkdowntxt": false,
  "toc-showtags": false
 },
 "nbformat": 4,
 "nbformat_minor": 5
}
