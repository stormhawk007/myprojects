{
 "cells": [
  {
   "cell_type": "markdown",
   "id": "4f3cee5d",
   "metadata": {},
   "source": [
    "# Credit Risk Problem - MILESTONE1"
   ]
  },
  {
   "cell_type": "markdown",
   "id": "a6d5cddd",
   "metadata": {},
   "source": [
    "Businesses or companies can fall prey to default if they are not able to keep up their debt obligations. Defaults will lead to a lower credit rating for the company which in turn reduces its chances of getting credit in the future and may have to pay higher interests on existing debts as well as any new obligations. From an investor's point of view, he would want to invest in a company if it is capable of handling its financial obligations, can grow quickly, and is able to manage the growth scale.\n",
    "\n",
    "A **balance sheet** is a financial statement of a company that provides a snapshot of what a company owns, owes, and the amount invested by the shareholders. Thus, it is an important tool that helps evaluate the performance of a business.\n",
    "\n",
    "Data that is available includes information from the **financial statement of the companies for the previous year (2015)**. Also, information about **the Networth of the company in the following year (2016)** is provided which can be used to drive the labeled field.\n",
    "\n",
    "*Explanation of data fields available in Data Dictionary, 'Credit Default Data Dictionary.xlsx'*"
   ]
  },
  {
   "cell_type": "code",
   "execution_count": 1,
   "id": "45a1ab58",
   "metadata": {},
   "outputs": [],
   "source": [
    "import warnings\n",
    "warnings.filterwarnings('ignore')"
   ]
  },
  {
   "cell_type": "code",
   "execution_count": 2,
   "id": "6654b23b",
   "metadata": {},
   "outputs": [],
   "source": [
    "# importing basic libraries\n",
    "import numpy as np\n",
    "import pandas as pd\n",
    "import matplotlib.pyplot as plt\n",
    "import seaborn as sns\n",
    "%matplotlib inline"
   ]
  },
  {
   "cell_type": "code",
   "execution_count": 3,
   "id": "fd84592a",
   "metadata": {},
   "outputs": [],
   "source": [
    "df = pd.read_excel(\"Company_Data2015-1.xlsx\") # importing excel data"
   ]
  },
  {
   "cell_type": "code",
   "execution_count": 4,
   "id": "cd2c6d17",
   "metadata": {},
   "outputs": [
    {
     "data": {
      "text/html": [
       "<div>\n",
       "<style scoped>\n",
       "    .dataframe tbody tr th:only-of-type {\n",
       "        vertical-align: middle;\n",
       "    }\n",
       "\n",
       "    .dataframe tbody tr th {\n",
       "        vertical-align: top;\n",
       "    }\n",
       "\n",
       "    .dataframe thead th {\n",
       "        text-align: right;\n",
       "    }\n",
       "</style>\n",
       "<table border=\"1\" class=\"dataframe\">\n",
       "  <thead>\n",
       "    <tr style=\"text-align: right;\">\n",
       "      <th></th>\n",
       "      <th>Co_Code</th>\n",
       "      <th>Co_Name</th>\n",
       "      <th>Networth Next Year</th>\n",
       "      <th>Equity Paid Up</th>\n",
       "      <th>Networth</th>\n",
       "      <th>Capital Employed</th>\n",
       "      <th>Total Debt</th>\n",
       "      <th>Gross Block</th>\n",
       "      <th>Net Working Capital</th>\n",
       "      <th>Current Assets</th>\n",
       "      <th>...</th>\n",
       "      <th>PBIDTM (%)[Latest]</th>\n",
       "      <th>PBITM (%)[Latest]</th>\n",
       "      <th>PBDTM (%)[Latest]</th>\n",
       "      <th>CPM (%)[Latest]</th>\n",
       "      <th>APATM (%)[Latest]</th>\n",
       "      <th>Debtors Velocity (Days)</th>\n",
       "      <th>Creditors Velocity (Days)</th>\n",
       "      <th>Inventory Velocity (Days)</th>\n",
       "      <th>Value of Output/Total Assets</th>\n",
       "      <th>Value of Output/Gross Block</th>\n",
       "    </tr>\n",
       "  </thead>\n",
       "  <tbody>\n",
       "    <tr>\n",
       "      <th>0</th>\n",
       "      <td>16974</td>\n",
       "      <td>Hind.Cables</td>\n",
       "      <td>-8021.60</td>\n",
       "      <td>419.36</td>\n",
       "      <td>-7027.48</td>\n",
       "      <td>-1007.24</td>\n",
       "      <td>5936.03</td>\n",
       "      <td>474.30</td>\n",
       "      <td>-1076.34</td>\n",
       "      <td>40.50</td>\n",
       "      <td>...</td>\n",
       "      <td>0.00</td>\n",
       "      <td>0.00</td>\n",
       "      <td>0.00</td>\n",
       "      <td>0.00</td>\n",
       "      <td>0.00</td>\n",
       "      <td>0</td>\n",
       "      <td>0</td>\n",
       "      <td>45.0</td>\n",
       "      <td>0.00</td>\n",
       "      <td>0.00</td>\n",
       "    </tr>\n",
       "    <tr>\n",
       "      <th>1</th>\n",
       "      <td>21214</td>\n",
       "      <td>Tata Tele. Mah.</td>\n",
       "      <td>-3986.19</td>\n",
       "      <td>1954.93</td>\n",
       "      <td>-2968.08</td>\n",
       "      <td>4458.20</td>\n",
       "      <td>7410.18</td>\n",
       "      <td>9070.86</td>\n",
       "      <td>-1098.88</td>\n",
       "      <td>486.86</td>\n",
       "      <td>...</td>\n",
       "      <td>-10.30</td>\n",
       "      <td>-39.74</td>\n",
       "      <td>-57.74</td>\n",
       "      <td>-57.74</td>\n",
       "      <td>-87.18</td>\n",
       "      <td>29</td>\n",
       "      <td>101</td>\n",
       "      <td>2.0</td>\n",
       "      <td>0.31</td>\n",
       "      <td>0.24</td>\n",
       "    </tr>\n",
       "    <tr>\n",
       "      <th>2</th>\n",
       "      <td>14852</td>\n",
       "      <td>ABG Shipyard</td>\n",
       "      <td>-3192.58</td>\n",
       "      <td>53.84</td>\n",
       "      <td>506.86</td>\n",
       "      <td>7714.68</td>\n",
       "      <td>6944.54</td>\n",
       "      <td>1281.54</td>\n",
       "      <td>4496.25</td>\n",
       "      <td>9097.64</td>\n",
       "      <td>...</td>\n",
       "      <td>-5279.14</td>\n",
       "      <td>-5516.98</td>\n",
       "      <td>-7780.25</td>\n",
       "      <td>-7723.67</td>\n",
       "      <td>-7961.51</td>\n",
       "      <td>97</td>\n",
       "      <td>558</td>\n",
       "      <td>0.0</td>\n",
       "      <td>-0.03</td>\n",
       "      <td>-0.26</td>\n",
       "    </tr>\n",
       "    <tr>\n",
       "      <th>3</th>\n",
       "      <td>2439</td>\n",
       "      <td>GTL</td>\n",
       "      <td>-3054.51</td>\n",
       "      <td>157.30</td>\n",
       "      <td>-623.49</td>\n",
       "      <td>2353.88</td>\n",
       "      <td>2326.05</td>\n",
       "      <td>1033.69</td>\n",
       "      <td>-2612.42</td>\n",
       "      <td>1034.12</td>\n",
       "      <td>...</td>\n",
       "      <td>-3.33</td>\n",
       "      <td>-7.21</td>\n",
       "      <td>-48.13</td>\n",
       "      <td>-47.70</td>\n",
       "      <td>-51.58</td>\n",
       "      <td>93</td>\n",
       "      <td>63</td>\n",
       "      <td>2.0</td>\n",
       "      <td>0.24</td>\n",
       "      <td>1.90</td>\n",
       "    </tr>\n",
       "    <tr>\n",
       "      <th>4</th>\n",
       "      <td>23505</td>\n",
       "      <td>Bharati Defence</td>\n",
       "      <td>-2967.36</td>\n",
       "      <td>50.30</td>\n",
       "      <td>-1070.83</td>\n",
       "      <td>4675.33</td>\n",
       "      <td>5740.90</td>\n",
       "      <td>1084.20</td>\n",
       "      <td>1836.23</td>\n",
       "      <td>4685.81</td>\n",
       "      <td>...</td>\n",
       "      <td>-295.55</td>\n",
       "      <td>-400.55</td>\n",
       "      <td>-845.88</td>\n",
       "      <td>379.79</td>\n",
       "      <td>274.79</td>\n",
       "      <td>3887</td>\n",
       "      <td>346</td>\n",
       "      <td>0.0</td>\n",
       "      <td>0.01</td>\n",
       "      <td>0.05</td>\n",
       "    </tr>\n",
       "  </tbody>\n",
       "</table>\n",
       "<p>5 rows × 67 columns</p>\n",
       "</div>"
      ],
      "text/plain": [
       "   Co_Code          Co_Name  Networth Next Year  Equity Paid Up  Networth  \\\n",
       "0    16974      Hind.Cables            -8021.60          419.36  -7027.48   \n",
       "1    21214  Tata Tele. Mah.            -3986.19         1954.93  -2968.08   \n",
       "2    14852     ABG Shipyard            -3192.58           53.84    506.86   \n",
       "3     2439              GTL            -3054.51          157.30   -623.49   \n",
       "4    23505  Bharati Defence            -2967.36           50.30  -1070.83   \n",
       "\n",
       "   Capital Employed  Total Debt  Gross Block   Net Working Capital   \\\n",
       "0          -1007.24     5936.03        474.30              -1076.34   \n",
       "1           4458.20     7410.18       9070.86              -1098.88   \n",
       "2           7714.68     6944.54       1281.54               4496.25   \n",
       "3           2353.88     2326.05       1033.69              -2612.42   \n",
       "4           4675.33     5740.90       1084.20               1836.23   \n",
       "\n",
       "   Current Assets   ...  PBIDTM (%)[Latest]  PBITM (%)[Latest]  \\\n",
       "0            40.50  ...                0.00               0.00   \n",
       "1           486.86  ...              -10.30             -39.74   \n",
       "2          9097.64  ...            -5279.14           -5516.98   \n",
       "3          1034.12  ...               -3.33              -7.21   \n",
       "4          4685.81  ...             -295.55            -400.55   \n",
       "\n",
       "   PBDTM (%)[Latest]  CPM (%)[Latest]  APATM (%)[Latest]  \\\n",
       "0               0.00             0.00               0.00   \n",
       "1             -57.74           -57.74             -87.18   \n",
       "2           -7780.25         -7723.67           -7961.51   \n",
       "3             -48.13           -47.70             -51.58   \n",
       "4            -845.88           379.79             274.79   \n",
       "\n",
       "   Debtors Velocity (Days)  Creditors Velocity (Days)  \\\n",
       "0                        0                          0   \n",
       "1                       29                        101   \n",
       "2                       97                        558   \n",
       "3                       93                         63   \n",
       "4                     3887                        346   \n",
       "\n",
       "   Inventory Velocity (Days)  Value of Output/Total Assets  \\\n",
       "0                       45.0                          0.00   \n",
       "1                        2.0                          0.31   \n",
       "2                        0.0                         -0.03   \n",
       "3                        2.0                          0.24   \n",
       "4                        0.0                          0.01   \n",
       "\n",
       "   Value of Output/Gross Block  \n",
       "0                         0.00  \n",
       "1                         0.24  \n",
       "2                        -0.26  \n",
       "3                         1.90  \n",
       "4                         0.05  \n",
       "\n",
       "[5 rows x 67 columns]"
      ]
     },
     "execution_count": 4,
     "metadata": {},
     "output_type": "execute_result"
    }
   ],
   "source": [
    "df.head() # Glimpse of the dataset"
   ]
  },
  {
   "cell_type": "markdown",
   "id": "7227ed8d",
   "metadata": {},
   "source": [
    "#### Now, Let's first rename the columns as per the data dictionary "
   ]
  },
  {
   "cell_type": "code",
   "execution_count": 5,
   "id": "0d045704",
   "metadata": {},
   "outputs": [
    {
     "data": {
      "text/html": [
       "<div>\n",
       "<style scoped>\n",
       "    .dataframe tbody tr th:only-of-type {\n",
       "        vertical-align: middle;\n",
       "    }\n",
       "\n",
       "    .dataframe tbody tr th {\n",
       "        vertical-align: top;\n",
       "    }\n",
       "\n",
       "    .dataframe thead th {\n",
       "        text-align: right;\n",
       "    }\n",
       "</style>\n",
       "<table border=\"1\" class=\"dataframe\">\n",
       "  <thead>\n",
       "    <tr style=\"text-align: right;\">\n",
       "      <th></th>\n",
       "      <th>Field Name</th>\n",
       "      <th>Description</th>\n",
       "      <th>New Field Name</th>\n",
       "    </tr>\n",
       "  </thead>\n",
       "  <tbody>\n",
       "    <tr>\n",
       "      <th>0</th>\n",
       "      <td>Co_Code</td>\n",
       "      <td>Company Code</td>\n",
       "      <td>Co_Code</td>\n",
       "    </tr>\n",
       "    <tr>\n",
       "      <th>1</th>\n",
       "      <td>Co_Name</td>\n",
       "      <td>Company Name</td>\n",
       "      <td>Co_Name</td>\n",
       "    </tr>\n",
       "    <tr>\n",
       "      <th>2</th>\n",
       "      <td>Networth Next Year</td>\n",
       "      <td>Value of a company as on 2016 - Next Year(diff...</td>\n",
       "      <td>Networth_Next_Year</td>\n",
       "    </tr>\n",
       "    <tr>\n",
       "      <th>3</th>\n",
       "      <td>Equity Paid Up</td>\n",
       "      <td>Amount that has been received by the company t...</td>\n",
       "      <td>Equity_Paid_Up</td>\n",
       "    </tr>\n",
       "    <tr>\n",
       "      <th>4</th>\n",
       "      <td>Networth</td>\n",
       "      <td>Value of a company as on 2015 - Current Year</td>\n",
       "      <td>Networth</td>\n",
       "    </tr>\n",
       "  </tbody>\n",
       "</table>\n",
       "</div>"
      ],
      "text/plain": [
       "           Field Name                                        Description  \\\n",
       "0             Co_Code                                       Company Code   \n",
       "1             Co_Name                                       Company Name   \n",
       "2  Networth Next Year  Value of a company as on 2016 - Next Year(diff...   \n",
       "3      Equity Paid Up  Amount that has been received by the company t...   \n",
       "4            Networth       Value of a company as on 2015 - Current Year   \n",
       "\n",
       "       New Field Name  \n",
       "0             Co_Code  \n",
       "1             Co_Name  \n",
       "2  Networth_Next_Year  \n",
       "3      Equity_Paid_Up  \n",
       "4            Networth  "
      ]
     },
     "execution_count": 5,
     "metadata": {},
     "output_type": "execute_result"
    }
   ],
   "source": [
    "data_dict = pd.read_excel(\"Data_Dictionary.xlsx\")\n",
    "data_dict = data_dict.drop(\"#\",axis=1)\n",
    "data_dict.head()"
   ]
  },
  {
   "cell_type": "code",
   "execution_count": 6,
   "id": "b1a915f1",
   "metadata": {},
   "outputs": [],
   "source": [
    "col_rename_dict = dict()\n",
    "for i in data_dict.index:\n",
    "    col_rename_dict[data_dict['Field Name'][i]] = data_dict['New Field Name'][i]"
   ]
  },
  {
   "cell_type": "code",
   "execution_count": 7,
   "id": "d4f25935",
   "metadata": {},
   "outputs": [],
   "source": [
    "df = df.rename(columns=col_rename_dict)"
   ]
  },
  {
   "cell_type": "markdown",
   "id": "fe96d853",
   "metadata": {},
   "source": [
    "#### Let us check the number of rows (observations) and the number of columns (variables)."
   ]
  },
  {
   "cell_type": "code",
   "execution_count": 8,
   "id": "0fc6f1b8",
   "metadata": {},
   "outputs": [
    {
     "name": "stdout",
     "output_type": "stream",
     "text": [
      "The number of rows (observations) is 3586 \n",
      "The number of columns (variables) is 67\n"
     ]
    }
   ],
   "source": [
    "print('The number of rows (observations) is',df.shape[0],'\\n''The number of columns (variables) is',df.shape[1])"
   ]
  },
  {
   "cell_type": "markdown",
   "id": "9cc9e985",
   "metadata": {},
   "source": [
    "#### Data types of all variables"
   ]
  },
  {
   "cell_type": "code",
   "execution_count": 9,
   "id": "c796b313",
   "metadata": {
    "scrolled": true
   },
   "outputs": [
    {
     "name": "stdout",
     "output_type": "stream",
     "text": [
      "<class 'pandas.core.frame.DataFrame'>\n",
      "RangeIndex: 3586 entries, 0 to 3585\n",
      "Data columns (total 67 columns):\n",
      " #   Column                             Non-Null Count  Dtype  \n",
      "---  ------                             --------------  -----  \n",
      " 0   Co_Code                            3586 non-null   int64  \n",
      " 1   Co_Name                            3586 non-null   object \n",
      " 2   Networth_Next_Year                 3586 non-null   float64\n",
      " 3   Equity_Paid_Up                     3586 non-null   float64\n",
      " 4   Networth                           3586 non-null   float64\n",
      " 5   Capital_Employed                   3586 non-null   float64\n",
      " 6   Total_Debt                         3586 non-null   float64\n",
      " 7   Gross_Block                        3586 non-null   float64\n",
      " 8   Net_Working_Capital                3586 non-null   float64\n",
      " 9   Curr_Assets                        3586 non-null   float64\n",
      " 10  Curr_Liab_and_Prov                 3586 non-null   float64\n",
      " 11  Total_Assets_to_Liab               3586 non-null   float64\n",
      " 12  Gross_Sales                        3586 non-null   float64\n",
      " 13  Net_Sales                          3586 non-null   float64\n",
      " 14  Other_Income                       3586 non-null   float64\n",
      " 15  Value_Of_Output                    3586 non-null   float64\n",
      " 16  Cost_of_Prod                       3586 non-null   float64\n",
      " 17  Selling_Cost                       3586 non-null   float64\n",
      " 18  PBIDT                              3586 non-null   float64\n",
      " 19  PBDT                               3586 non-null   float64\n",
      " 20  PBIT                               3586 non-null   float64\n",
      " 21  PBT                                3586 non-null   float64\n",
      " 22  PAT                                3586 non-null   float64\n",
      " 23  Adjusted_PAT                       3586 non-null   float64\n",
      " 24  CP                                 3586 non-null   float64\n",
      " 25  Rev_earn_in_forex                  3586 non-null   float64\n",
      " 26  Rev_exp_in_forex                   3586 non-null   float64\n",
      " 27  Capital_exp_in_forex               3586 non-null   float64\n",
      " 28  Book_Value_Unit_Curr               3586 non-null   float64\n",
      " 29  Book_Value_Adj_Unit_Curr           3582 non-null   float64\n",
      " 30  Market_Capitalisation              3586 non-null   float64\n",
      " 31  CEPS_annualised_Unit_Curr          3586 non-null   float64\n",
      " 32  Cash_Flow_From_Opr                 3586 non-null   float64\n",
      " 33  Cash_Flow_From_Inv                 3586 non-null   float64\n",
      " 34  Cash_Flow_From_Fin                 3586 non-null   float64\n",
      " 35  ROG_Net_Worth_perc                 3586 non-null   float64\n",
      " 36  ROG_Capital_Employed_perc          3586 non-null   float64\n",
      " 37  ROG_Gross_Block_perc               3586 non-null   float64\n",
      " 38  ROG_Gross_Sales_perc               3586 non-null   float64\n",
      " 39  ROG_Net_Sales_perc                 3586 non-null   float64\n",
      " 40  ROG_Cost_of_Prod_perc              3586 non-null   float64\n",
      " 41  ROG_Total_Assets_perc              3586 non-null   float64\n",
      " 42  ROG_PBIDT_perc                     3586 non-null   float64\n",
      " 43  ROG_PBDT_perc                      3586 non-null   float64\n",
      " 44  ROG_PBIT_perc                      3586 non-null   float64\n",
      " 45  ROG_PBT_perc                       3586 non-null   float64\n",
      " 46  ROG_PAT_perc                       3586 non-null   float64\n",
      " 47  ROG_CP_perc                        3586 non-null   float64\n",
      " 48  ROG_Rev_earn_in_forex_perc         3586 non-null   float64\n",
      " 49  ROG_Rev_exp_in_forex_perc          3586 non-null   float64\n",
      " 50  ROG_Market_Capitalisation_perc     3586 non-null   float64\n",
      " 51  Curr_Ratio_Latest                  3585 non-null   float64\n",
      " 52  Fixed_Assets_Ratio_Latest          3585 non-null   float64\n",
      " 53  Inventory_Ratio_Latest             3585 non-null   float64\n",
      " 54  Debtors_Ratio_Latest               3585 non-null   float64\n",
      " 55  Total_Asset_Turnover_Ratio_Latest  3585 non-null   float64\n",
      " 56  Interest_Cover_Ratio_Latest        3585 non-null   float64\n",
      " 57  PBIDTM_perc_Latest                 3585 non-null   float64\n",
      " 58  PBITM_perc_Latest                  3585 non-null   float64\n",
      " 59  PBDTM_perc_Latest                  3585 non-null   float64\n",
      " 60  CPM_perc_Latest                    3585 non-null   float64\n",
      " 61  APATM_perc_Latest                  3585 non-null   float64\n",
      " 62  Debtors_Vel_Days                   3586 non-null   int64  \n",
      " 63  Creditors_Vel_Days                 3586 non-null   int64  \n",
      " 64  Inventory_Vel_Days                 3483 non-null   float64\n",
      " 65  Value_of_Output_to_Total_Assets    3586 non-null   float64\n",
      " 66  Value_of_Output_to_Gross_Block     3586 non-null   float64\n",
      "dtypes: float64(63), int64(3), object(1)\n",
      "memory usage: 1.8+ MB\n"
     ]
    }
   ],
   "source": [
    "df.info()"
   ]
  },
  {
   "cell_type": "code",
   "execution_count": 10,
   "id": "db61f3f2",
   "metadata": {},
   "outputs": [
    {
     "data": {
      "text/plain": [
       "0"
      ]
     },
     "execution_count": 10,
     "metadata": {},
     "output_type": "execute_result"
    }
   ],
   "source": [
    "df.duplicated().sum() # Checking for duplicates"
   ]
  },
  {
   "cell_type": "markdown",
   "id": "bddb2c88",
   "metadata": {},
   "source": [
    "#### Checking for missing values"
   ]
  },
  {
   "cell_type": "code",
   "execution_count": 11,
   "id": "8f49608e",
   "metadata": {},
   "outputs": [
    {
     "data": {
      "text/plain": [
       "Co_Code                              0\n",
       "Co_Name                              0\n",
       "Networth_Next_Year                   0\n",
       "Equity_Paid_Up                       0\n",
       "Networth                             0\n",
       "                                  ... \n",
       "Debtors_Vel_Days                     0\n",
       "Creditors_Vel_Days                   0\n",
       "Inventory_Vel_Days                 103\n",
       "Value_of_Output_to_Total_Assets      0\n",
       "Value_of_Output_to_Gross_Block       0\n",
       "Length: 67, dtype: int64"
      ]
     },
     "execution_count": 11,
     "metadata": {},
     "output_type": "execute_result"
    }
   ],
   "source": [
    "df.isnull().sum() "
   ]
  },
  {
   "cell_type": "code",
   "execution_count": 12,
   "id": "d6861f60",
   "metadata": {},
   "outputs": [
    {
     "name": "stdout",
     "output_type": "stream",
     "text": [
      "Book_Value_Adj_Unit_Curr contains 4 null values\n",
      "Curr_Ratio_Latest contains 1 null values\n",
      "Fixed_Assets_Ratio_Latest contains 1 null values\n",
      "Inventory_Ratio_Latest contains 1 null values\n",
      "Debtors_Ratio_Latest contains 1 null values\n",
      "Total_Asset_Turnover_Ratio_Latest contains 1 null values\n",
      "Interest_Cover_Ratio_Latest contains 1 null values\n",
      "PBIDTM_perc_Latest contains 1 null values\n",
      "PBITM_perc_Latest contains 1 null values\n",
      "PBDTM_perc_Latest contains 1 null values\n",
      "CPM_perc_Latest contains 1 null values\n",
      "APATM_perc_Latest contains 1 null values\n",
      "Inventory_Vel_Days contains 103 null values\n"
     ]
    }
   ],
   "source": [
    "for i in df.columns:\n",
    "    if df[i].isnull().sum() !=0:\n",
    "        print(\"{a} contains {b} null values\".format(a=i,b=df[i].isnull().sum())) "
   ]
  },
  {
   "cell_type": "code",
   "execution_count": 13,
   "id": "67ff9e75",
   "metadata": {},
   "outputs": [
    {
     "data": {
      "text/html": [
       "<div>\n",
       "<style scoped>\n",
       "    .dataframe tbody tr th:only-of-type {\n",
       "        vertical-align: middle;\n",
       "    }\n",
       "\n",
       "    .dataframe tbody tr th {\n",
       "        vertical-align: top;\n",
       "    }\n",
       "\n",
       "    .dataframe thead th {\n",
       "        text-align: right;\n",
       "    }\n",
       "</style>\n",
       "<table border=\"1\" class=\"dataframe\">\n",
       "  <thead>\n",
       "    <tr style=\"text-align: right;\">\n",
       "      <th></th>\n",
       "      <th>Co_Code</th>\n",
       "      <th>Co_Name</th>\n",
       "      <th>Networth_Next_Year</th>\n",
       "      <th>Equity_Paid_Up</th>\n",
       "      <th>Networth</th>\n",
       "      <th>Capital_Employed</th>\n",
       "      <th>Total_Debt</th>\n",
       "      <th>Gross_Block</th>\n",
       "      <th>Net_Working_Capital</th>\n",
       "      <th>Curr_Assets</th>\n",
       "      <th>...</th>\n",
       "      <th>PBIDTM_perc_Latest</th>\n",
       "      <th>PBITM_perc_Latest</th>\n",
       "      <th>PBDTM_perc_Latest</th>\n",
       "      <th>CPM_perc_Latest</th>\n",
       "      <th>APATM_perc_Latest</th>\n",
       "      <th>Debtors_Vel_Days</th>\n",
       "      <th>Creditors_Vel_Days</th>\n",
       "      <th>Inventory_Vel_Days</th>\n",
       "      <th>Value_of_Output_to_Total_Assets</th>\n",
       "      <th>Value_of_Output_to_Gross_Block</th>\n",
       "    </tr>\n",
       "  </thead>\n",
       "  <tbody>\n",
       "    <tr>\n",
       "      <th>2825</th>\n",
       "      <td>3240</td>\n",
       "      <td>G M Breweries</td>\n",
       "      <td>180.99</td>\n",
       "      <td>11.71</td>\n",
       "      <td>126.2</td>\n",
       "      <td>158.3</td>\n",
       "      <td>32.1</td>\n",
       "      <td>130.8</td>\n",
       "      <td>-7.65</td>\n",
       "      <td>39.86</td>\n",
       "      <td>...</td>\n",
       "      <td>NaN</td>\n",
       "      <td>NaN</td>\n",
       "      <td>NaN</td>\n",
       "      <td>NaN</td>\n",
       "      <td>NaN</td>\n",
       "      <td>0</td>\n",
       "      <td>6</td>\n",
       "      <td>23.0</td>\n",
       "      <td>2.98</td>\n",
       "      <td>5.53</td>\n",
       "    </tr>\n",
       "  </tbody>\n",
       "</table>\n",
       "<p>1 rows × 67 columns</p>\n",
       "</div>"
      ],
      "text/plain": [
       "      Co_Code        Co_Name  Networth_Next_Year  Equity_Paid_Up  Networth  \\\n",
       "2825     3240  G M Breweries              180.99           11.71     126.2   \n",
       "\n",
       "      Capital_Employed  Total_Debt  Gross_Block  Net_Working_Capital  \\\n",
       "2825             158.3        32.1        130.8                -7.65   \n",
       "\n",
       "      Curr_Assets  ...  PBIDTM_perc_Latest  PBITM_perc_Latest  \\\n",
       "2825        39.86  ...                 NaN                NaN   \n",
       "\n",
       "      PBDTM_perc_Latest  CPM_perc_Latest  APATM_perc_Latest  Debtors_Vel_Days  \\\n",
       "2825                NaN              NaN                NaN                 0   \n",
       "\n",
       "      Creditors_Vel_Days  Inventory_Vel_Days  Value_of_Output_to_Total_Assets  \\\n",
       "2825                   6                23.0                             2.98   \n",
       "\n",
       "      Value_of_Output_to_Gross_Block  \n",
       "2825                            5.53  \n",
       "\n",
       "[1 rows x 67 columns]"
      ]
     },
     "execution_count": 13,
     "metadata": {},
     "output_type": "execute_result"
    }
   ],
   "source": [
    "df[df['PBIDTM_perc_Latest'].isnull()]"
   ]
  },
  {
   "cell_type": "code",
   "execution_count": 14,
   "id": "5520d321",
   "metadata": {},
   "outputs": [
    {
     "data": {
      "text/plain": [
       "11"
      ]
     },
     "execution_count": 14,
     "metadata": {},
     "output_type": "execute_result"
    }
   ],
   "source": [
    "df[df['PBIDTM_perc_Latest'].isnull()].isnull().sum().sum() "
   ]
  },
  {
   "cell_type": "markdown",
   "id": "f5b3b815",
   "metadata": {},
   "source": [
    "Total 11 columns are empty for this company hence we are dropping this data point from further analysis."
   ]
  },
  {
   "cell_type": "code",
   "execution_count": 15,
   "id": "bbc5a2a5",
   "metadata": {},
   "outputs": [],
   "source": [
    "df = df.drop(2825).reset_index(drop=True)"
   ]
  },
  {
   "cell_type": "code",
   "execution_count": 16,
   "id": "91d1b5e3",
   "metadata": {},
   "outputs": [
    {
     "name": "stdout",
     "output_type": "stream",
     "text": [
      "Book_Value_Adj_Unit_Curr contains 4 null values\n",
      "Inventory_Vel_Days contains 103 null values\n"
     ]
    }
   ],
   "source": [
    "# Again checking for the null values\n",
    "for i in df.columns:\n",
    "    if df[i].isnull().sum() !=0:\n",
    "        print(\"{a} contains {b} null values\".format(a=i,b=df[i].isnull().sum())) "
   ]
  },
  {
   "cell_type": "markdown",
   "id": "2249ae21",
   "metadata": {},
   "source": [
    "#### Imputing missing values by median"
   ]
  },
  {
   "cell_type": "markdown",
   "id": "2babaa76",
   "metadata": {},
   "source": [
    "Though any other method can also be used as per the domain knowledge but here we are simply doing the median value imputation. "
   ]
  },
  {
   "cell_type": "code",
   "execution_count": 17,
   "id": "ddca5f6c",
   "metadata": {},
   "outputs": [],
   "source": [
    "df['Book_Value_Adj_Unit_Curr'].replace(to_replace=np.nan,value=df['Book_Value_Adj_Unit_Curr'].median(),inplace=True)\n",
    "df['Inventory_Vel_Days'].replace(to_replace=np.nan,value=df['Inventory_Vel_Days'].median(),inplace=True)"
   ]
  },
  {
   "cell_type": "markdown",
   "id": "5c895dad",
   "metadata": {},
   "source": [
    "## Creating target Variable"
   ]
  },
  {
   "cell_type": "code",
   "execution_count": 18,
   "id": "583f314b",
   "metadata": {},
   "outputs": [],
   "source": [
    "y = np.where(df['Networth_Next_Year']<0,1,0)"
   ]
  },
  {
   "cell_type": "markdown",
   "id": "505df87b",
   "metadata": {},
   "source": [
    "Note that no operation was performed so far which has made any changes for `Networth_Next_Year` variable as it is our target variable"
   ]
  },
  {
   "cell_type": "code",
   "execution_count": 19,
   "id": "2e3ef655",
   "metadata": {},
   "outputs": [
    {
     "name": "stdout",
     "output_type": "stream",
     "text": [
      "[[   0 3198]\n",
      " [   1  387]]\n"
     ]
    }
   ],
   "source": [
    "unique,counts = np.unique(y,return_counts=True)\n",
    "print(np.asarray((unique, counts)).T)"
   ]
  },
  {
   "cell_type": "markdown",
   "id": "8d584bbe",
   "metadata": {},
   "source": [
    "### Outliers Treatment"
   ]
  },
  {
   "cell_type": "code",
   "execution_count": 20,
   "id": "96faaa53",
   "metadata": {},
   "outputs": [],
   "source": [
    "num_cols = list(df.columns)\n",
    "num_cols.remove('Co_Code')\n",
    "num_cols.remove('Co_Name')"
   ]
  },
  {
   "cell_type": "code",
   "execution_count": 21,
   "id": "6be1410b",
   "metadata": {},
   "outputs": [],
   "source": [
    "def outlier_detect(col):\n",
    "    sorted(col)\n",
    "    Q1,Q3=np.percentile(col,[25,75])\n",
    "    IQR=Q3-Q1\n",
    "    lower_range= Q1-(1.5 * IQR)\n",
    "    upper_range= Q3+(1.5 * IQR)\n",
    "    return lower_range, upper_range"
   ]
  },
  {
   "cell_type": "code",
   "execution_count": 22,
   "id": "4da123ea",
   "metadata": {
    "scrolled": true
   },
   "outputs": [
    {
     "name": "stdout",
     "output_type": "stream",
     "text": [
      "Percentage outliers:  0.18856345885634587\n"
     ]
    },
    {
     "data": {
      "image/png": "[encoded data removed]",
      "text/plain": [
       "<Figure size 432x288 with 1 Axes>"
      ]
     },
     "metadata": {
      "needs_background": "light"
     },
     "output_type": "display_data"
    },
    {
     "name": "stdout",
     "output_type": "stream",
     "text": [
      "****************************************************************************************************\n",
      "Percentage outliers:  0.12496513249651325\n"
     ]
    },
    {
     "data": {
      "image/png": "[encoded data removed]",
      "text/plain": [
       "<Figure size 432x288 with 1 Axes>"
      ]
     },
     "metadata": {
      "needs_background": "light"
     },
     "output_type": "display_data"
    },
    {
     "name": "stdout",
     "output_type": "stream",
     "text": [
      "****************************************************************************************************\n",
      "Percentage outliers:  0.18131101813110181\n"
     ]
    },
    {
     "data": {
      "image/png": "[encoded data removed]",
      "text/plain": [
       "<Figure size 432x288 with 1 Axes>"
      ]
     },
     "metadata": {
      "needs_background": "light"
     },
     "output_type": "display_data"
    },
    {
     "name": "stdout",
     "output_type": "stream",
     "text": [
      "****************************************************************************************************\n",
      "Percentage outliers:  0.16624825662482567\n"
     ]
    },
    {
     "data": {
      "image/png": "[encoded data removed]",
      "text/plain": [
       "<Figure size 432x288 with 1 Axes>"
      ]
     },
     "metadata": {
      "needs_background": "light"
     },
     "output_type": "display_data"
    },
    {
     "name": "stdout",
     "output_type": "stream",
     "text": [
      "****************************************************************************************************\n",
      "Percentage outliers:  0.16262203626220362\n"
     ]
    },
    {
     "data": {
      "image/png": "[encoded data removed]",
      "text/plain": [
       "<Figure size 432x288 with 1 Axes>"
      ]
     },
     "metadata": {
      "needs_background": "light"
     },
     "output_type": "display_data"
    },
    {
     "name": "stdout",
     "output_type": "stream",
     "text": [
      "****************************************************************************************************\n",
      "Percentage outliers:  0.1506276150627615\n"
     ]
    },
    {
     "data": {
      "image/png": "[encoded data removed]",
      "text/plain": [
       "<Figure size 432x288 with 1 Axes>"
      ]
     },
     "metadata": {
      "needs_background": "light"
     },
     "output_type": "display_data"
    },
    {
     "name": "stdout",
     "output_type": "stream",
     "text": [
      "****************************************************************************************************\n",
      "Percentage outliers:  0.17433751743375175\n"
     ]
    },
    {
     "data": {
      "image/png": "[encoded data removed]",
      "text/plain": [
       "<Figure size 432x288 with 1 Axes>"
      ]
     },
     "metadata": {
      "needs_background": "light"
     },
     "output_type": "display_data"
    },
    {
     "name": "stdout",
     "output_type": "stream",
     "text": [
      "****************************************************************************************************\n",
      "Percentage outliers:  0.1609483960948396\n"
     ]
    },
    {
     "data": {
      "image/png": "[encoded data removed]",
      "text/plain": [
       "<Figure size 432x288 with 1 Axes>"
      ]
     },
     "metadata": {
      "needs_background": "light"
     },
     "output_type": "display_data"
    },
    {
     "name": "stdout",
     "output_type": "stream",
     "text": [
      "****************************************************************************************************\n",
      "Percentage outliers:  0.16206415620641562\n"
     ]
    },
    {
     "data": {
      "image/png": "[encoded data removed]",
      "text/plain": [
       "<Figure size 432x288 with 1 Axes>"
      ]
     },
     "metadata": {
      "needs_background": "light"
     },
     "output_type": "display_data"
    },
    {
     "name": "stdout",
     "output_type": "stream",
     "text": [
      "****************************************************************************************************\n",
      "Percentage outliers:  0.1601115760111576\n"
     ]
    },
    {
     "data": {
      "image/png": "[encoded data removed]",
      "text/plain": [
       "<Figure size 432x288 with 1 Axes>"
      ]
     },
     "metadata": {
      "needs_background": "light"
     },
     "output_type": "display_data"
    },
    {
     "name": "stdout",
     "output_type": "stream",
     "text": [
      "****************************************************************************************************\n",
      "Percentage outliers:  0.15425383542538354\n"
     ]
    },
    {
     "data": {
      "image/png": "[encoded data removed]",
      "text/plain": [
       "<Figure size 432x288 with 1 Axes>"
      ]
     },
     "metadata": {
      "needs_background": "light"
     },
     "output_type": "display_data"
    },
    {
     "name": "stdout",
     "output_type": "stream",
     "text": [
      "****************************************************************************************************\n",
      "Percentage outliers:  0.15509065550906556\n"
     ]
    },
    {
     "data": {
      "image/png": "[encoded data removed]",
      "text/plain": [
       "<Figure size 432x288 with 1 Axes>"
      ]
     },
     "metadata": {
      "needs_background": "light"
     },
     "output_type": "display_data"
    },
    {
     "name": "stdout",
     "output_type": "stream",
     "text": [
      "****************************************************************************************************\n",
      "Percentage outliers:  0.1679218967921897\n"
     ]
    },
    {
     "data": {
      "image/png": "[encoded data removed]",
      "text/plain": [
       "<Figure size 432x288 with 1 Axes>"
      ]
     },
     "metadata": {
      "needs_background": "light"
     },
     "output_type": "display_data"
    },
    {
     "name": "stdout",
     "output_type": "stream",
     "text": [
      "****************************************************************************************************\n",
      "Percentage outliers:  0.15592747559274756\n"
     ]
    },
    {
     "data": {
      "image/png": "[encoded data removed]",
      "text/plain": [
       "<Figure size 432x288 with 1 Axes>"
      ]
     },
     "metadata": {
      "needs_background": "light"
     },
     "output_type": "display_data"
    },
    {
     "name": "stdout",
     "output_type": "stream",
     "text": [
      "****************************************************************************************************\n",
      "Percentage outliers:  0.15676429567642958\n"
     ]
    },
    {
     "data": {
      "image/png": "[encoded data removed]",
      "text/plain": [
       "<Figure size 432x288 with 1 Axes>"
      ]
     },
     "metadata": {
      "needs_background": "light"
     },
     "output_type": "display_data"
    },
    {
     "name": "stdout",
     "output_type": "stream",
     "text": [
      "****************************************************************************************************\n",
      "Percentage outliers:  0.1695955369595537\n"
     ]
    },
    {
     "data": {
      "image/png": "[encoded data removed]",
      "text/plain": [
       "<Figure size 432x288 with 1 Axes>"
      ]
     },
     "metadata": {
      "needs_background": "light"
     },
     "output_type": "display_data"
    },
    {
     "name": "stdout",
     "output_type": "stream",
     "text": [
      "****************************************************************************************************\n",
      "Percentage outliers:  0.18828451882845187\n"
     ]
    },
    {
     "data": {
      "image/png": "[encoded data removed]",
      "text/plain": [
       "<Figure size 432x288 with 1 Axes>"
      ]
     },
     "metadata": {
      "needs_background": "light"
     },
     "output_type": "display_data"
    },
    {
     "name": "stdout",
     "output_type": "stream",
     "text": [
      "****************************************************************************************************\n",
      "Percentage outliers:  0.22705718270571826\n"
     ]
    },
    {
     "data": {
      "image/png": "[encoded data removed]",
      "text/plain": [
       "<Figure size 432x288 with 1 Axes>"
      ]
     },
     "metadata": {
      "needs_background": "light"
     },
     "output_type": "display_data"
    },
    {
     "name": "stdout",
     "output_type": "stream",
     "text": [
      "****************************************************************************************************\n",
      "Percentage outliers:  0.200836820083682\n"
     ]
    },
    {
     "data": {
      "image/png": "[encoded data removed]",
      "text/plain": [
       "<Figure size 432x288 with 1 Axes>"
      ]
     },
     "metadata": {
      "needs_background": "light"
     },
     "output_type": "display_data"
    },
    {
     "name": "stdout",
     "output_type": "stream",
     "text": [
      "****************************************************************************************************\n",
      "Percentage outliers:  0.26220362622036264\n"
     ]
    },
    {
     "data": {
      "image/png": "[encoded data removed]",
      "text/plain": [
       "<Figure size 432x288 with 1 Axes>"
      ]
     },
     "metadata": {
      "needs_background": "light"
     },
     "output_type": "display_data"
    },
    {
     "name": "stdout",
     "output_type": "stream",
     "text": [
      "****************************************************************************************************\n",
      "Percentage outliers:  0.26722454672245466\n"
     ]
    },
    {
     "data": {
      "image/png": "[encoded data removed]",
      "text/plain": [
       "<Figure size 432x288 with 1 Axes>"
      ]
     },
     "metadata": {
      "needs_background": "light"
     },
     "output_type": "display_data"
    },
    {
     "name": "stdout",
     "output_type": "stream",
     "text": [
      "****************************************************************************************************\n",
      "Percentage outliers:  0.26610878661087867\n"
     ]
    },
    {
     "data": {
      "image/png": "[encoded data removed]",
      "text/plain": [
       "<Figure size 432x288 with 1 Axes>"
      ]
     },
     "metadata": {
      "needs_background": "light"
     },
     "output_type": "display_data"
    },
    {
     "name": "stdout",
     "output_type": "stream",
     "text": [
      "****************************************************************************************************\n",
      "Percentage outliers:  0.22845188284518828\n"
     ]
    },
    {
     "data": {
      "image/png": "[encoded data removed]",
      "text/plain": [
       "<Figure size 432x288 with 1 Axes>"
      ]
     },
     "metadata": {
      "needs_background": "light"
     },
     "output_type": "display_data"
    },
    {
     "name": "stdout",
     "output_type": "stream",
     "text": [
      "****************************************************************************************************\n",
      "Percentage outliers:  0.20585774058577405\n"
     ]
    },
    {
     "data": {
      "image/png": "[encoded data removed]",
      "text/plain": [
       "<Figure size 432x288 with 1 Axes>"
      ]
     },
     "metadata": {
      "needs_background": "light"
     },
     "output_type": "display_data"
    },
    {
     "name": "stdout",
     "output_type": "stream",
     "text": [
      "****************************************************************************************************\n",
      "Percentage outliers:  0.19330543933054392\n"
     ]
    },
    {
     "data": {
      "image/png": "[encoded data removed]",
      "text/plain": [
       "<Figure size 432x288 with 1 Axes>"
      ]
     },
     "metadata": {
      "needs_background": "light"
     },
     "output_type": "display_data"
    },
    {
     "name": "stdout",
     "output_type": "stream",
     "text": [
      "****************************************************************************************************\n",
      "Percentage outliers:  0.19358437935843795\n"
     ]
    },
    {
     "data": {
      "image/png": "[encoded data removed]",
      "text/plain": [
       "<Figure size 432x288 with 1 Axes>"
      ]
     },
     "metadata": {
      "needs_background": "light"
     },
     "output_type": "display_data"
    },
    {
     "name": "stdout",
     "output_type": "stream",
     "text": [
      "****************************************************************************************************\n",
      "Percentage outliers:  0.13584379358437937\n"
     ]
    },
    {
     "data": {
      "image/png": "[encoded data removed]",
      "text/plain": [
       "<Figure size 432x288 with 1 Axes>"
      ]
     },
     "metadata": {
      "needs_background": "light"
     },
     "output_type": "display_data"
    },
    {
     "name": "stdout",
     "output_type": "stream",
     "text": [
      "****************************************************************************************************\n",
      "Percentage outliers:  0.13556485355648534\n"
     ]
    },
    {
     "data": {
      "image/png": "[encoded data removed]",
      "text/plain": [
       "<Figure size 432x288 with 1 Axes>"
      ]
     },
     "metadata": {
      "needs_background": "light"
     },
     "output_type": "display_data"
    },
    {
     "name": "stdout",
     "output_type": "stream",
     "text": [
      "****************************************************************************************************\n",
      "Percentage outliers:  0.17824267782426778\n"
     ]
    },
    {
     "data": {
      "image/png": "[encoded data removed]",
      "text/plain": [
       "<Figure size 432x288 with 1 Axes>"
      ]
     },
     "metadata": {
      "needs_background": "light"
     },
     "output_type": "display_data"
    },
    {
     "name": "stdout",
     "output_type": "stream",
     "text": [
      "****************************************************************************************************\n",
      "Percentage outliers:  0.16875871687587168\n"
     ]
    },
    {
     "data": {
      "image/png": "[encoded data removed]",
      "text/plain": [
       "<Figure size 432x288 with 1 Axes>"
      ]
     },
     "metadata": {
      "needs_background": "light"
     },
     "output_type": "display_data"
    },
    {
     "name": "stdout",
     "output_type": "stream",
     "text": [
      "****************************************************************************************************\n",
      "Percentage outliers:  0.22370990237099023\n"
     ]
    },
    {
     "data": {
      "image/png": "[encoded data removed]",
      "text/plain": [
       "<Figure size 432x288 with 1 Axes>"
      ]
     },
     "metadata": {
      "needs_background": "light"
     },
     "output_type": "display_data"
    },
    {
     "name": "stdout",
     "output_type": "stream",
     "text": [
      "****************************************************************************************************\n",
      "Percentage outliers:  0.24463040446304044\n"
     ]
    },
    {
     "data": {
      "image/png": "[encoded data removed]",
      "text/plain": [
       "<Figure size 432x288 with 1 Axes>"
      ]
     },
     "metadata": {
      "needs_background": "light"
     },
     "output_type": "display_data"
    },
    {
     "name": "stdout",
     "output_type": "stream",
     "text": [
      "****************************************************************************************************\n",
      "Percentage outliers:  0.2803347280334728\n"
     ]
    },
    {
     "data": {
      "image/png": "[encoded data removed]",
      "text/plain": [
       "<Figure size 432x288 with 1 Axes>"
      ]
     },
     "metadata": {
      "needs_background": "light"
     },
     "output_type": "display_data"
    },
    {
     "name": "stdout",
     "output_type": "stream",
     "text": [
      "****************************************************************************************************\n",
      "Percentage outliers:  0.2083682008368201\n"
     ]
    },
    {
     "data": {
      "image/png": "[encoded data removed]",
      "text/plain": [
       "<Figure size 432x288 with 1 Axes>"
      ]
     },
     "metadata": {
      "needs_background": "light"
     },
     "output_type": "display_data"
    },
    {
     "name": "stdout",
     "output_type": "stream",
     "text": [
      "****************************************************************************************************\n",
      "Percentage outliers:  0.15955369595536958\n"
     ]
    },
    {
     "data": {
      "image/png": "[encoded data removed]",
      "text/plain": [
       "<Figure size 432x288 with 1 Axes>"
      ]
     },
     "metadata": {
      "needs_background": "light"
     },
     "output_type": "display_data"
    },
    {
     "name": "stdout",
     "output_type": "stream",
     "text": [
      "****************************************************************************************************\n",
      "Percentage outliers:  0.2315202231520223\n"
     ]
    },
    {
     "data": {
      "image/png": "[encoded data removed]",
      "text/plain": [
       "<Figure size 432x288 with 1 Axes>"
      ]
     },
     "metadata": {
      "needs_background": "light"
     },
     "output_type": "display_data"
    },
    {
     "name": "stdout",
     "output_type": "stream",
     "text": [
      "****************************************************************************************************\n",
      "Percentage outliers:  0.18716875871687588\n"
     ]
    },
    {
     "data": {
      "image/png": "[encoded data removed]",
      "text/plain": [
       "<Figure size 432x288 with 1 Axes>"
      ]
     },
     "metadata": {
      "needs_background": "light"
     },
     "output_type": "display_data"
    },
    {
     "name": "stdout",
     "output_type": "stream",
     "text": [
      "****************************************************************************************************\n",
      "Percentage outliers:  0.18605299860529986\n"
     ]
    },
    {
     "data": {
      "image/png": "[encoded data removed]",
      "text/plain": [
       "<Figure size 432x288 with 1 Axes>"
      ]
     },
     "metadata": {
      "needs_background": "light"
     },
     "output_type": "display_data"
    },
    {
     "name": "stdout",
     "output_type": "stream",
     "text": [
      "****************************************************************************************************\n",
      "Percentage outliers:  0.18828451882845187\n"
     ]
    },
    {
     "data": {
      "image/png": "[encoded data removed]",
      "text/plain": [
       "<Figure size 432x288 with 1 Axes>"
      ]
     },
     "metadata": {
      "needs_background": "light"
     },
     "output_type": "display_data"
    },
    {
     "name": "stdout",
     "output_type": "stream",
     "text": [
      "****************************************************************************************************\n",
      "Percentage outliers:  0.13472803347280335\n"
     ]
    },
    {
     "data": {
      "image/png": "[encoded data removed]",
      "text/plain": [
       "<Figure size 432x288 with 1 Axes>"
      ]
     },
     "metadata": {
      "needs_background": "light"
     },
     "output_type": "display_data"
    },
    {
     "name": "stdout",
     "output_type": "stream",
     "text": [
      "****************************************************************************************************\n",
      "Percentage outliers:  0.1704323570432357\n"
     ]
    },
    {
     "data": {
      "image/png": "[encoded data removed]",
      "text/plain": [
       "<Figure size 432x288 with 1 Axes>"
      ]
     },
     "metadata": {
      "needs_background": "light"
     },
     "output_type": "display_data"
    },
    {
     "name": "stdout",
     "output_type": "stream",
     "text": [
      "****************************************************************************************************\n",
      "Percentage outliers:  0.17517433751743375\n"
     ]
    },
    {
     "data": {
      "image/png": "[encoded data removed]",
      "text/plain": [
       "<Figure size 432x288 with 1 Axes>"
      ]
     },
     "metadata": {
      "needs_background": "light"
     },
     "output_type": "display_data"
    },
    {
     "name": "stdout",
     "output_type": "stream",
     "text": [
      "****************************************************************************************************\n",
      "Percentage outliers:  0.17182705718270572\n"
     ]
    },
    {
     "data": {
      "image/png": "[encoded data removed]",
      "text/plain": [
       "<Figure size 432x288 with 1 Axes>"
      ]
     },
     "metadata": {
      "needs_background": "light"
     },
     "output_type": "display_data"
    },
    {
     "name": "stdout",
     "output_type": "stream",
     "text": [
      "****************************************************************************************************\n",
      "Percentage outliers:  0.1704323570432357\n"
     ]
    },
    {
     "data": {
      "image/png": "[encoded data removed]",
      "text/plain": [
       "<Figure size 432x288 with 1 Axes>"
      ]
     },
     "metadata": {
      "needs_background": "light"
     },
     "output_type": "display_data"
    },
    {
     "name": "stdout",
     "output_type": "stream",
     "text": [
      "****************************************************************************************************\n",
      "Percentage outliers:  0.16680613668061367\n"
     ]
    },
    {
     "data": {
      "image/png": "[encoded data removed]",
      "text/plain": [
       "<Figure size 432x288 with 1 Axes>"
      ]
     },
     "metadata": {
      "needs_background": "light"
     },
     "output_type": "display_data"
    },
    {
     "name": "stdout",
     "output_type": "stream",
     "text": [
      "****************************************************************************************************\n",
      "Percentage outliers:  0.17768479776847979\n"
     ]
    },
    {
     "data": {
      "image/png": "[encoded data removed]",
      "text/plain": [
       "<Figure size 432x288 with 1 Axes>"
      ]
     },
     "metadata": {
      "needs_background": "light"
     },
     "output_type": "display_data"
    },
    {
     "name": "stdout",
     "output_type": "stream",
     "text": [
      "****************************************************************************************************\n",
      "Percentage outliers:  0.3673640167364017\n"
     ]
    },
    {
     "data": {
      "image/png": "[encoded data removed]",
      "text/plain": [
       "<Figure size 432x288 with 1 Axes>"
      ]
     },
     "metadata": {
      "needs_background": "light"
     },
     "output_type": "display_data"
    },
    {
     "name": "stdout",
     "output_type": "stream",
     "text": [
      "****************************************************************************************************\n",
      "Percentage outliers:  0.4504881450488145\n"
     ]
    },
    {
     "data": {
      "image/png": "[encoded data removed]",
      "text/plain": [
       "<Figure size 432x288 with 1 Axes>"
      ]
     },
     "metadata": {
      "needs_background": "light"
     },
     "output_type": "display_data"
    },
    {
     "name": "stdout",
     "output_type": "stream",
     "text": [
      "****************************************************************************************************\n",
      "Percentage outliers:  0.13863319386331938\n"
     ]
    },
    {
     "data": {
      "image/png": "[encoded data removed]",
      "text/plain": [
       "<Figure size 432x288 with 1 Axes>"
      ]
     },
     "metadata": {
      "needs_background": "light"
     },
     "output_type": "display_data"
    },
    {
     "name": "stdout",
     "output_type": "stream",
     "text": [
      "****************************************************************************************************\n",
      "Percentage outliers:  0.15760111576011157\n"
     ]
    },
    {
     "data": {
      "image/png": "[encoded data removed]",
      "text/plain": [
       "<Figure size 432x288 with 1 Axes>"
      ]
     },
     "metadata": {
      "needs_background": "light"
     },
     "output_type": "display_data"
    },
    {
     "name": "stdout",
     "output_type": "stream",
     "text": [
      "****************************************************************************************************\n",
      "Percentage outliers:  0.13807531380753138\n"
     ]
    },
    {
     "data": {
      "image/png": "[encoded data removed]",
      "text/plain": [
       "<Figure size 432x288 with 1 Axes>"
      ]
     },
     "metadata": {
      "needs_background": "light"
     },
     "output_type": "display_data"
    },
    {
     "name": "stdout",
     "output_type": "stream",
     "text": [
      "****************************************************************************************************\n",
      "Percentage outliers:  0.10460251046025104\n"
     ]
    },
    {
     "data": {
      "image/png": "[encoded data removed]",
      "text/plain": [
       "<Figure size 432x288 with 1 Axes>"
      ]
     },
     "metadata": {
      "needs_background": "light"
     },
     "output_type": "display_data"
    },
    {
     "name": "stdout",
     "output_type": "stream",
     "text": [
      "****************************************************************************************************\n",
      "Percentage outliers:  0.10348675034867504\n"
     ]
    },
    {
     "data": {
      "image/png": "[encoded data removed]",
      "text/plain": [
       "<Figure size 432x288 with 1 Axes>"
      ]
     },
     "metadata": {
      "needs_background": "light"
     },
     "output_type": "display_data"
    },
    {
     "name": "stdout",
     "output_type": "stream",
     "text": [
      "****************************************************************************************************\n",
      "Percentage outliers:  0.05606694560669456\n"
     ]
    },
    {
     "data": {
      "image/png": "[encoded data removed]",
      "text/plain": [
       "<Figure size 432x288 with 1 Axes>"
      ]
     },
     "metadata": {
      "needs_background": "light"
     },
     "output_type": "display_data"
    },
    {
     "name": "stdout",
     "output_type": "stream",
     "text": [
      "****************************************************************************************************\n",
      "Percentage outliers:  0.20223152022315202\n"
     ]
    },
    {
     "data": {
      "image/png": "[encoded data removed]",
      "text/plain": [
       "<Figure size 432x288 with 1 Axes>"
      ]
     },
     "metadata": {
      "needs_background": "light"
     },
     "output_type": "display_data"
    },
    {
     "name": "stdout",
     "output_type": "stream",
     "text": [
      "****************************************************************************************************\n",
      "Percentage outliers:  0.16596931659693165\n"
     ]
    },
    {
     "data": {
      "image/png": "[encoded data removed]",
      "text/plain": [
       "<Figure size 432x288 with 1 Axes>"
      ]
     },
     "metadata": {
      "needs_background": "light"
     },
     "output_type": "display_data"
    },
    {
     "name": "stdout",
     "output_type": "stream",
     "text": [
      "****************************************************************************************************\n",
      "Percentage outliers:  0.2\n"
     ]
    },
    {
     "data": {
      "image/png": "[encoded data removed]",
      "text/plain": [
       "<Figure size 432x288 with 1 Axes>"
      ]
     },
     "metadata": {
      "needs_background": "light"
     },
     "output_type": "display_data"
    },
    {
     "name": "stdout",
     "output_type": "stream",
     "text": [
      "****************************************************************************************************\n",
      "Percentage outliers:  0.19386331938633194\n"
     ]
    },
    {
     "data": {
      "image/png": "[encoded data removed]",
      "text/plain": [
       "<Figure size 432x288 with 1 Axes>"
      ]
     },
     "metadata": {
      "needs_background": "light"
     },
     "output_type": "display_data"
    },
    {
     "name": "stdout",
     "output_type": "stream",
     "text": [
      "****************************************************************************************************\n",
      "Percentage outliers:  0.200836820083682\n"
     ]
    },
    {
     "data": {
      "image/png": "[encoded data removed]",
      "text/plain": [
       "<Figure size 432x288 with 1 Axes>"
      ]
     },
     "metadata": {
      "needs_background": "light"
     },
     "output_type": "display_data"
    },
    {
     "name": "stdout",
     "output_type": "stream",
     "text": [
      "****************************************************************************************************\n",
      "Percentage outliers:  0.2602510460251046\n"
     ]
    },
    {
     "data": {
      "image/png": "[encoded data removed]",
      "text/plain": [
       "<Figure size 432x288 with 1 Axes>"
      ]
     },
     "metadata": {
      "needs_background": "light"
     },
     "output_type": "display_data"
    },
    {
     "name": "stdout",
     "output_type": "stream",
     "text": [
      "****************************************************************************************************\n",
      "Percentage outliers:  0.1110181311018131\n"
     ]
    },
    {
     "data": {
      "image/png": "[encoded data removed]",
      "text/plain": [
       "<Figure size 432x288 with 1 Axes>"
      ]
     },
     "metadata": {
      "needs_background": "light"
     },
     "output_type": "display_data"
    },
    {
     "name": "stdout",
     "output_type": "stream",
     "text": [
      "****************************************************************************************************\n",
      "Percentage outliers:  0.10906555090655509\n"
     ]
    },
    {
     "data": {
      "image/png": "[encoded data removed]",
      "text/plain": [
       "<Figure size 432x288 with 1 Axes>"
      ]
     },
     "metadata": {
      "needs_background": "light"
     },
     "output_type": "display_data"
    },
    {
     "name": "stdout",
     "output_type": "stream",
     "text": [
      "****************************************************************************************************\n",
      "Percentage outliers:  0.07782426778242678\n"
     ]
    },
    {
     "data": {
      "image/png": "[encoded data removed]",
      "text/plain": [
       "<Figure size 432x288 with 1 Axes>"
      ]
     },
     "metadata": {
      "needs_background": "light"
     },
     "output_type": "display_data"
    },
    {
     "name": "stdout",
     "output_type": "stream",
     "text": [
      "****************************************************************************************************\n",
      "Percentage outliers:  0.04156206415620642\n"
     ]
    },
    {
     "data": {
      "image/png": "[encoded data removed]",
      "text/plain": [
       "<Figure size 432x288 with 1 Axes>"
      ]
     },
     "metadata": {
      "needs_background": "light"
     },
     "output_type": "display_data"
    },
    {
     "name": "stdout",
     "output_type": "stream",
     "text": [
      "****************************************************************************************************\n",
      "Percentage outliers:  0.13417015341701535\n"
     ]
    },
    {
     "data": {
      "image/png": "[encoded data removed]",
      "text/plain": [
       "<Figure size 432x288 with 1 Axes>"
      ]
     },
     "metadata": {
      "needs_background": "light"
     },
     "output_type": "display_data"
    },
    {
     "name": "stdout",
     "output_type": "stream",
     "text": [
      "****************************************************************************************************\n"
     ]
    }
   ],
   "source": [
    "for i in num_cols:\n",
    "    \n",
    "    # Percentage outliers present in the dataset\n",
    "    lr,ur = outlier_detect(df[i])\n",
    "    num_outs=np.where(df[i]>ur,1,0).sum()\n",
    "    num_outs+= np.where(df[i]<lr,1,0).sum()\n",
    "    pct_outs = num_outs/len(df[i])\n",
    "    print(\"Percentage outliers: \",pct_outs)\n",
    "    \n",
    "    # Capping the values with the LR and UR\n",
    "    df[i] = np.where(df[i]>ur,ur,df[i])\n",
    "    df[i] = np.where(df[i]<lr,lr,df[i])\n",
    "    \n",
    "    sns.boxplot(data=df,x=i)\n",
    "    plt.show()\n",
    "    print('*'*100)"
   ]
  },
  {
   "cell_type": "markdown",
   "id": "f39e67d7",
   "metadata": {},
   "source": [
    "# Univariate and Bi-variate analysis"
   ]
  },
  {
   "cell_type": "code",
   "execution_count": 23,
   "id": "a53dfc41",
   "metadata": {},
   "outputs": [],
   "source": [
    "imp_cols = ['Equity_Paid_Up', 'Total_Debt', 'Book_Value_Adj_Unit_Curr', 'CEPS_annualised_Unit_Curr', 'Curr_Ratio_Latest',\n",
    " 'Debtors_Ratio_Latest', 'PBITM_perc_Latest'] #found after performing the analysis\n",
    "\n",
    "imp_cols_tar = ['Equity_Paid_Up', 'Total_Debt', 'Book_Value_Adj_Unit_Curr', 'CEPS_annualised_Unit_Curr', 'Curr_Ratio_Latest',\n",
    " 'Debtors_Ratio_Latest', 'PBITM_perc_Latest','Networth_Next_Year']"
   ]
  },
  {
   "cell_type": "code",
   "execution_count": 24,
   "id": "6b348234",
   "metadata": {},
   "outputs": [
    {
     "data": {
      "text/html": [
       "<div>\n",
       "<style scoped>\n",
       "    .dataframe tbody tr th:only-of-type {\n",
       "        vertical-align: middle;\n",
       "    }\n",
       "\n",
       "    .dataframe tbody tr th {\n",
       "        vertical-align: top;\n",
       "    }\n",
       "\n",
       "    .dataframe thead th {\n",
       "        text-align: right;\n",
       "    }\n",
       "</style>\n",
       "<table border=\"1\" class=\"dataframe\">\n",
       "  <thead>\n",
       "    <tr style=\"text-align: right;\">\n",
       "      <th></th>\n",
       "      <th>Equity_Paid_Up</th>\n",
       "      <th>Total_Debt</th>\n",
       "      <th>Book_Value_Adj_Unit_Curr</th>\n",
       "      <th>CEPS_annualised_Unit_Curr</th>\n",
       "      <th>Curr_Ratio_Latest</th>\n",
       "      <th>Debtors_Ratio_Latest</th>\n",
       "      <th>PBITM_perc_Latest</th>\n",
       "    </tr>\n",
       "  </thead>\n",
       "  <tbody>\n",
       "    <tr>\n",
       "      <th>count</th>\n",
       "      <td>3585.000000</td>\n",
       "      <td>3585.000000</td>\n",
       "      <td>3585.000000</td>\n",
       "      <td>3585.000000</td>\n",
       "      <td>3585.000000</td>\n",
       "      <td>3585.000000</td>\n",
       "      <td>3585.000000</td>\n",
       "    </tr>\n",
       "    <tr>\n",
       "      <th>mean</th>\n",
       "      <td>13.996070</td>\n",
       "      <td>47.475955</td>\n",
       "      <td>38.096106</td>\n",
       "      <td>4.805310</td>\n",
       "      <td>2.084286</td>\n",
       "      <td>5.990901</td>\n",
       "      <td>7.214545</td>\n",
       "    </tr>\n",
       "    <tr>\n",
       "      <th>std</th>\n",
       "      <td>14.004971</td>\n",
       "      <td>68.289989</td>\n",
       "      <td>50.058057</td>\n",
       "      <td>8.972073</td>\n",
       "      <td>1.806562</td>\n",
       "      <td>6.626860</td>\n",
       "      <td>15.284085</td>\n",
       "    </tr>\n",
       "    <tr>\n",
       "      <th>min</th>\n",
       "      <td>0.000000</td>\n",
       "      <td>-0.720000</td>\n",
       "      <td>-72.200000</td>\n",
       "      <td>-13.125000</td>\n",
       "      <td>0.000000</td>\n",
       "      <td>0.000000</td>\n",
       "      <td>-21.435000</td>\n",
       "    </tr>\n",
       "    <tr>\n",
       "      <th>25%</th>\n",
       "      <td>3.750000</td>\n",
       "      <td>0.030000</td>\n",
       "      <td>7.060000</td>\n",
       "      <td>0.000000</td>\n",
       "      <td>0.880000</td>\n",
       "      <td>0.420000</td>\n",
       "      <td>0.000000</td>\n",
       "    </tr>\n",
       "    <tr>\n",
       "      <th>50%</th>\n",
       "      <td>8.290000</td>\n",
       "      <td>7.480000</td>\n",
       "      <td>18.920000</td>\n",
       "      <td>1.140000</td>\n",
       "      <td>1.360000</td>\n",
       "      <td>3.820000</td>\n",
       "      <td>5.230000</td>\n",
       "    </tr>\n",
       "    <tr>\n",
       "      <th>75%</th>\n",
       "      <td>19.520000</td>\n",
       "      <td>72.430000</td>\n",
       "      <td>59.900000</td>\n",
       "      <td>8.750000</td>\n",
       "      <td>2.770000</td>\n",
       "      <td>8.520000</td>\n",
       "      <td>14.290000</td>\n",
       "    </tr>\n",
       "    <tr>\n",
       "      <th>max</th>\n",
       "      <td>43.175000</td>\n",
       "      <td>181.030000</td>\n",
       "      <td>139.160000</td>\n",
       "      <td>21.875000</td>\n",
       "      <td>5.605000</td>\n",
       "      <td>20.670000</td>\n",
       "      <td>35.725000</td>\n",
       "    </tr>\n",
       "  </tbody>\n",
       "</table>\n",
       "</div>"
      ],
      "text/plain": [
       "       Equity_Paid_Up   Total_Debt  Book_Value_Adj_Unit_Curr  \\\n",
       "count     3585.000000  3585.000000               3585.000000   \n",
       "mean        13.996070    47.475955                 38.096106   \n",
       "std         14.004971    68.289989                 50.058057   \n",
       "min          0.000000    -0.720000                -72.200000   \n",
       "25%          3.750000     0.030000                  7.060000   \n",
       "50%          8.290000     7.480000                 18.920000   \n",
       "75%         19.520000    72.430000                 59.900000   \n",
       "max         43.175000   181.030000                139.160000   \n",
       "\n",
       "       CEPS_annualised_Unit_Curr  Curr_Ratio_Latest  Debtors_Ratio_Latest  \\\n",
       "count                3585.000000        3585.000000           3585.000000   \n",
       "mean                    4.805310           2.084286              5.990901   \n",
       "std                     8.972073           1.806562              6.626860   \n",
       "min                   -13.125000           0.000000              0.000000   \n",
       "25%                     0.000000           0.880000              0.420000   \n",
       "50%                     1.140000           1.360000              3.820000   \n",
       "75%                     8.750000           2.770000              8.520000   \n",
       "max                    21.875000           5.605000             20.670000   \n",
       "\n",
       "       PBITM_perc_Latest  \n",
       "count        3585.000000  \n",
       "mean            7.214545  \n",
       "std            15.284085  \n",
       "min           -21.435000  \n",
       "25%             0.000000  \n",
       "50%             5.230000  \n",
       "75%            14.290000  \n",
       "max            35.725000  "
      ]
     },
     "execution_count": 24,
     "metadata": {},
     "output_type": "execute_result"
    }
   ],
   "source": [
    "df[imp_cols].describe()"
   ]
  },
  {
   "cell_type": "code",
   "execution_count": 25,
   "id": "c09c86cd",
   "metadata": {
    "scrolled": true
   },
   "outputs": [
    {
     "data": {
      "image/png": "[encoded data removed]",
      "text/plain": [
       "<Figure size 1080x360 with 2 Axes>"
      ]
     },
     "metadata": {
      "needs_background": "light"
     },
     "output_type": "display_data"
    },
    {
     "name": "stdout",
     "output_type": "stream",
     "text": [
      "************************************************************************************************************************ \n",
      "************************************************************************************************************************\n"
     ]
    },
    {
     "data": {
      "image/png": "[encoded data removed]",
      "text/plain": [
       "<Figure size 1080x360 with 2 Axes>"
      ]
     },
     "metadata": {
      "needs_background": "light"
     },
     "output_type": "display_data"
    },
    {
     "name": "stdout",
     "output_type": "stream",
     "text": [
      "************************************************************************************************************************ \n",
      "************************************************************************************************************************\n"
     ]
    },
    {
     "data": {
      "image/png": "[encoded data removed]",
      "text/plain": [
       "<Figure size 1080x360 with 2 Axes>"
      ]
     },
     "metadata": {
      "needs_background": "light"
     },
     "output_type": "display_data"
    },
    {
     "name": "stdout",
     "output_type": "stream",
     "text": [
      "************************************************************************************************************************ \n",
      "************************************************************************************************************************\n"
     ]
    },
    {
     "data": {
      "image/png": "[encoded data removed]",
      "text/plain": [
       "<Figure size 1080x360 with 2 Axes>"
      ]
     },
     "metadata": {
      "needs_background": "light"
     },
     "output_type": "display_data"
    },
    {
     "name": "stdout",
     "output_type": "stream",
     "text": [
      "************************************************************************************************************************ \n",
      "************************************************************************************************************************\n"
     ]
    },
    {
     "data": {
      "image/png": "[encoded data removed]",
      "text/plain": [
       "<Figure size 1080x360 with 2 Axes>"
      ]
     },
     "metadata": {
      "needs_background": "light"
     },
     "output_type": "display_data"
    },
    {
     "name": "stdout",
     "output_type": "stream",
     "text": [
      "************************************************************************************************************************ \n",
      "************************************************************************************************************************\n"
     ]
    },
    {
     "data": {
      "image/png": "[encoded data removed]",
      "text/plain": [
       "<Figure size 1080x360 with 2 Axes>"
      ]
     },
     "metadata": {
      "needs_background": "light"
     },
     "output_type": "display_data"
    },
    {
     "name": "stdout",
     "output_type": "stream",
     "text": [
      "************************************************************************************************************************ \n",
      "************************************************************************************************************************\n"
     ]
    },
    {
     "data": {
      "image/png": "[encoded data removed]",
      "text/plain": [
       "<Figure size 1080x360 with 2 Axes>"
      ]
     },
     "metadata": {
      "needs_background": "light"
     },
     "output_type": "display_data"
    },
    {
     "name": "stdout",
     "output_type": "stream",
     "text": [
      "************************************************************************************************************************ \n",
      "************************************************************************************************************************\n"
     ]
    }
   ],
   "source": [
    "\n",
    "for i in imp_cols:\n",
    "    # Boxplots for each variable\n",
    "    plt.figure(figsize=(15,5))\n",
    "    plt.subplot(1,2,1)\n",
    "    sns.boxplot(data=df,x=i)\n",
    "    \n",
    "    plt.subplot(1,2,2)\n",
    "    sns.histplot(df[i])\n",
    "    plt.show()\n",
    "    print(\"*\"*120,\"\\n\"+'*'*120)"
   ]
  },
  {
   "cell_type": "code",
   "execution_count": 26,
   "id": "82eebd74",
   "metadata": {},
   "outputs": [
    {
     "data": {
      "image/png": "[encoded data removed]",
      "text/plain": [
       "<Figure size 864x576 with 2 Axes>"
      ]
     },
     "metadata": {
      "needs_background": "light"
     },
     "output_type": "display_data"
    }
   ],
   "source": [
    "corr= df[imp_cols_tar].corr()\n",
    "plt.figure(figsize=[12,8])\n",
    "sns.heatmap(corr,annot=True,cmap='plasma');"
   ]
  },
  {
   "cell_type": "code",
   "execution_count": 27,
   "id": "fdb27849",
   "metadata": {},
   "outputs": [
    {
     "data": {
      "image/png": "[encoded data removed]",
      "text/plain": [
       "<Figure size 432x432 with 3 Axes>"
      ]
     },
     "metadata": {
      "needs_background": "light"
     },
     "output_type": "display_data"
    }
   ],
   "source": [
    "sns.jointplot(data=df,x='Total_Debt',y='Equity_Paid_Up',kind='kde');"
   ]
  },
  {
   "cell_type": "code",
   "execution_count": 28,
   "id": "2622b3dc",
   "metadata": {},
   "outputs": [
    {
     "data": {
      "image/png": "[encoded data removed]",
      "text/plain": [
       "<Figure size 432x432 with 3 Axes>"
      ]
     },
     "metadata": {
      "needs_background": "light"
     },
     "output_type": "display_data"
    }
   ],
   "source": [
    "sns.jointplot(data=df,x='Book_Value_Adj_Unit_Curr',y='CEPS_annualised_Unit_Curr',kind='kde');"
   ]
  },
  {
   "cell_type": "markdown",
   "id": "8d3b088d",
   "metadata": {},
   "source": [
    "# Feature Selection and Train Test Spilt"
   ]
  },
  {
   "cell_type": "code",
   "execution_count": 29,
   "id": "87a81d9b",
   "metadata": {},
   "outputs": [],
   "source": [
    "df=df.drop('Networth_Next_Year',axis=1) # dropping the target variable as we have put it in y variable already"
   ]
  },
  {
   "cell_type": "code",
   "execution_count": 30,
   "id": "c9f1660f",
   "metadata": {},
   "outputs": [],
   "source": [
    "X = df.drop('Co_Name',axis=1)\n",
    "X = X.drop('Co_Code',axis=1)"
   ]
  },
  {
   "cell_type": "code",
   "execution_count": 31,
   "id": "8be25979",
   "metadata": {},
   "outputs": [],
   "source": [
    "#FOR CHECKING VARIATION INFLATION FACTOR\n",
    "\n",
    "from statsmodels.stats.outliers_influence import variance_inflation_factor\n",
    "\n",
    "def calc_vif(X):\n",
    "\n",
    "    # Calculating VIF\n",
    "    vif = pd.DataFrame()\n",
    "    vif[\"variables\"] = X.columns\n",
    "    vif[\"VIF\"] = [variance_inflation_factor(X.values, i) for i in range(X.shape[1])]\n",
    "    vif = vif.sort_values(by = 'VIF', ascending = False).reset_index(drop=True)\n",
    "\n",
    "    return(vif)"
   ]
  },
  {
   "cell_type": "code",
   "execution_count": 32,
   "id": "5ea92961",
   "metadata": {},
   "outputs": [
    {
     "data": {
      "text/html": [
       "<div>\n",
       "<style scoped>\n",
       "    .dataframe tbody tr th:only-of-type {\n",
       "        vertical-align: middle;\n",
       "    }\n",
       "\n",
       "    .dataframe tbody tr th {\n",
       "        vertical-align: top;\n",
       "    }\n",
       "\n",
       "    .dataframe thead th {\n",
       "        text-align: right;\n",
       "    }\n",
       "</style>\n",
       "<table border=\"1\" class=\"dataframe\">\n",
       "  <thead>\n",
       "    <tr style=\"text-align: right;\">\n",
       "      <th></th>\n",
       "      <th>variables</th>\n",
       "      <th>VIF</th>\n",
       "    </tr>\n",
       "  </thead>\n",
       "  <tbody>\n",
       "    <tr>\n",
       "      <th>0</th>\n",
       "      <td>Net_Sales</td>\n",
       "      <td>1706.832821</td>\n",
       "    </tr>\n",
       "    <tr>\n",
       "      <th>1</th>\n",
       "      <td>Gross_Sales</td>\n",
       "      <td>977.479021</td>\n",
       "    </tr>\n",
       "    <tr>\n",
       "      <th>2</th>\n",
       "      <td>Value_Of_Output</td>\n",
       "      <td>691.362884</td>\n",
       "    </tr>\n",
       "    <tr>\n",
       "      <th>3</th>\n",
       "      <td>ROG_Gross_Sales_perc</td>\n",
       "      <td>542.393959</td>\n",
       "    </tr>\n",
       "    <tr>\n",
       "      <th>4</th>\n",
       "      <td>ROG_Net_Sales_perc</td>\n",
       "      <td>541.883749</td>\n",
       "    </tr>\n",
       "  </tbody>\n",
       "</table>\n",
       "</div>"
      ],
      "text/plain": [
       "              variables          VIF\n",
       "0             Net_Sales  1706.832821\n",
       "1           Gross_Sales   977.479021\n",
       "2       Value_Of_Output   691.362884\n",
       "3  ROG_Gross_Sales_perc   542.393959\n",
       "4    ROG_Net_Sales_perc   541.883749"
      ]
     },
     "execution_count": 32,
     "metadata": {},
     "output_type": "execute_result"
    }
   ],
   "source": [
    "calc_vif(X).head()"
   ]
  },
  {
   "cell_type": "code",
   "execution_count": 33,
   "id": "476e2863",
   "metadata": {},
   "outputs": [],
   "source": [
    "imp_cols = list(X.columns)\n",
    "imp_cols.remove('Capital_exp_in_forex')\n",
    "imp_cols.remove('ROG_Rev_earn_in_forex_perc')\n",
    "imp_cols.remove('ROG_Rev_exp_in_forex_perc')"
   ]
  },
  {
   "cell_type": "code",
   "execution_count": 34,
   "id": "25453671",
   "metadata": {},
   "outputs": [
    {
     "name": "stdout",
     "output_type": "stream",
     "text": [
      "Net_Sales\n",
      "ROG_Gross_Sales_perc\n",
      "Gross_Sales\n",
      "PBDT\n",
      "Total_Assets_to_Liab\n",
      "PAT\n",
      "Value_Of_Output\n",
      "CPM_perc_Latest\n",
      "Curr_Assets\n",
      "PBIDT\n",
      "PBIDTM_perc_Latest\n",
      "ROG_PBDT_perc\n",
      "Capital_Employed\n",
      "PBT\n",
      "Book_Value_Unit_Curr\n",
      "CP\n",
      "Value_of_Output_to_Total_Assets\n",
      "ROG_PBIDT_perc\n",
      "Cost_of_Prod\n",
      "PBDTM_perc_Latest\n",
      "ROG_PBT_perc\n",
      "Gross_Block\n",
      "Curr_Liab_and_Prov\n",
      "Fixed_Assets_Ratio_Latest\n",
      "PBIT\n",
      "Networth\n",
      "APATM_perc_Latest\n",
      "ROG_PAT_perc\n"
     ]
    }
   ],
   "source": [
    "#again calc VIF and droping variable iteratively we can use for loop to reach deisred VIF level (value = 5)\n",
    "\n",
    "while calc_vif(X[imp_cols])['VIF'][0]>5:\n",
    "    drop_var = calc_vif(X[imp_cols])['variables'][0]\n",
    "    imp_cols.remove(drop_var)\n",
    "    print(drop_var)"
   ]
  },
  {
   "cell_type": "code",
   "execution_count": 35,
   "id": "cc370c4c",
   "metadata": {},
   "outputs": [
    {
     "data": {
      "text/plain": [
       "33"
      ]
     },
     "execution_count": 35,
     "metadata": {},
     "output_type": "execute_result"
    }
   ],
   "source": [
    "len(imp_cols)"
   ]
  },
  {
   "cell_type": "code",
   "execution_count": 36,
   "id": "d05c398c",
   "metadata": {},
   "outputs": [],
   "source": [
    "X = X[imp_cols]"
   ]
  },
  {
   "cell_type": "code",
   "execution_count": 37,
   "id": "ee9dc62a",
   "metadata": {},
   "outputs": [
    {
     "data": {
      "text/html": [
       "<div>\n",
       "<style scoped>\n",
       "    .dataframe tbody tr th:only-of-type {\n",
       "        vertical-align: middle;\n",
       "    }\n",
       "\n",
       "    .dataframe tbody tr th {\n",
       "        vertical-align: top;\n",
       "    }\n",
       "\n",
       "    .dataframe thead th {\n",
       "        text-align: right;\n",
       "    }\n",
       "</style>\n",
       "<table border=\"1\" class=\"dataframe\">\n",
       "  <thead>\n",
       "    <tr style=\"text-align: right;\">\n",
       "      <th></th>\n",
       "      <th>variables</th>\n",
       "      <th>VIF</th>\n",
       "    </tr>\n",
       "  </thead>\n",
       "  <tbody>\n",
       "    <tr>\n",
       "      <th>0</th>\n",
       "      <td>CEPS_annualised_Unit_Curr</td>\n",
       "      <td>4.593954</td>\n",
       "    </tr>\n",
       "    <tr>\n",
       "      <th>1</th>\n",
       "      <td>Market_Capitalisation</td>\n",
       "      <td>4.111095</td>\n",
       "    </tr>\n",
       "    <tr>\n",
       "      <th>2</th>\n",
       "      <td>Selling_Cost</td>\n",
       "      <td>4.082803</td>\n",
       "    </tr>\n",
       "    <tr>\n",
       "      <th>3</th>\n",
       "      <td>Total_Debt</td>\n",
       "      <td>4.056497</td>\n",
       "    </tr>\n",
       "    <tr>\n",
       "      <th>4</th>\n",
       "      <td>ROG_Capital_Employed_perc</td>\n",
       "      <td>3.858161</td>\n",
       "    </tr>\n",
       "  </tbody>\n",
       "</table>\n",
       "</div>"
      ],
      "text/plain": [
       "                   variables       VIF\n",
       "0  CEPS_annualised_Unit_Curr  4.593954\n",
       "1      Market_Capitalisation  4.111095\n",
       "2               Selling_Cost  4.082803\n",
       "3                 Total_Debt  4.056497\n",
       "4  ROG_Capital_Employed_perc  3.858161"
      ]
     },
     "execution_count": 37,
     "metadata": {},
     "output_type": "execute_result"
    }
   ],
   "source": [
    "calc_vif(X).head()"
   ]
  },
  {
   "cell_type": "code",
   "execution_count": 38,
   "id": "f03b70fa",
   "metadata": {},
   "outputs": [],
   "source": [
    "# from sklearn.preprocessing import StandardScaler\n",
    "# sc = StandardScaler()\n",
    "# X_scaled = pd.DataFrame(sc.fit_transform(X),columns=X.columns)"
   ]
  },
  {
   "cell_type": "code",
   "execution_count": 39,
   "id": "8b7b5937",
   "metadata": {},
   "outputs": [],
   "source": [
    "from sklearn.model_selection import train_test_split\n",
    "X_train, X_test, y_train, y_test = train_test_split(X, y, test_size=0.33,random_state=42)"
   ]
  },
  {
   "cell_type": "code",
   "execution_count": 40,
   "id": "554b4024",
   "metadata": {},
   "outputs": [],
   "source": [
    "from sklearn.preprocessing import StandardScaler\n",
    "sc = StandardScaler()\n",
    "X_train = pd.DataFrame(sc.fit_transform(X_train),columns=X_train.columns)\n",
    "X_test = pd.DataFrame(sc.transform(X_test),columns=X_test.columns)"
   ]
  },
  {
   "cell_type": "markdown",
   "id": "93eba0c6",
   "metadata": {},
   "source": [
    "# Modelling"
   ]
  },
  {
   "cell_type": "code",
   "execution_count": 41,
   "id": "7192ec0f",
   "metadata": {},
   "outputs": [],
   "source": [
    "from sklearn.feature_selection import RFE\n",
    "from sklearn.linear_model import LogisticRegression"
   ]
  },
  {
   "cell_type": "code",
   "execution_count": 42,
   "id": "849ad67a",
   "metadata": {},
   "outputs": [],
   "source": [
    "LogR = LogisticRegression()\n",
    "selector = RFE(estimator = LogR, n_features_to_select=7, step=1)"
   ]
  },
  {
   "cell_type": "code",
   "execution_count": 43,
   "id": "db94b65f",
   "metadata": {},
   "outputs": [
    {
     "data": {
      "text/plain": [
       "RFE(estimator=LogisticRegression(), n_features_to_select=7)"
      ]
     },
     "execution_count": 43,
     "metadata": {},
     "output_type": "execute_result"
    }
   ],
   "source": [
    "selector.fit(X_train,y_train)"
   ]
  },
  {
   "cell_type": "code",
   "execution_count": 44,
   "id": "17077d80",
   "metadata": {},
   "outputs": [
    {
     "data": {
      "text/plain": [
       "7"
      ]
     },
     "execution_count": 44,
     "metadata": {},
     "output_type": "execute_result"
    }
   ],
   "source": [
    "selector.n_features_"
   ]
  },
  {
   "cell_type": "code",
   "execution_count": 45,
   "id": "e96c10a2",
   "metadata": {},
   "outputs": [
    {
     "data": {
      "text/html": [
       "<div>\n",
       "<style scoped>\n",
       "    .dataframe tbody tr th:only-of-type {\n",
       "        vertical-align: middle;\n",
       "    }\n",
       "\n",
       "    .dataframe tbody tr th {\n",
       "        vertical-align: top;\n",
       "    }\n",
       "\n",
       "    .dataframe thead th {\n",
       "        text-align: right;\n",
       "    }\n",
       "</style>\n",
       "<table border=\"1\" class=\"dataframe\">\n",
       "  <thead>\n",
       "    <tr style=\"text-align: right;\">\n",
       "      <th></th>\n",
       "      <th>Feature</th>\n",
       "      <th>Rank</th>\n",
       "    </tr>\n",
       "  </thead>\n",
       "  <tbody>\n",
       "    <tr>\n",
       "      <th>1</th>\n",
       "      <td>Total_Debt</td>\n",
       "      <td>1</td>\n",
       "    </tr>\n",
       "    <tr>\n",
       "      <th>8</th>\n",
       "      <td>Book_Value_Adj_Unit_Curr</td>\n",
       "      <td>1</td>\n",
       "    </tr>\n",
       "    <tr>\n",
       "      <th>9</th>\n",
       "      <td>Market_Capitalisation</td>\n",
       "      <td>1</td>\n",
       "    </tr>\n",
       "    <tr>\n",
       "      <th>10</th>\n",
       "      <td>CEPS_annualised_Unit_Curr</td>\n",
       "      <td>1</td>\n",
       "    </tr>\n",
       "    <tr>\n",
       "      <th>23</th>\n",
       "      <td>Curr_Ratio_Latest</td>\n",
       "      <td>1</td>\n",
       "    </tr>\n",
       "    <tr>\n",
       "      <th>28</th>\n",
       "      <td>PBITM_perc_Latest</td>\n",
       "      <td>1</td>\n",
       "    </tr>\n",
       "    <tr>\n",
       "      <th>32</th>\n",
       "      <td>Value_of_Output_to_Gross_Block</td>\n",
       "      <td>1</td>\n",
       "    </tr>\n",
       "  </tbody>\n",
       "</table>\n",
       "</div>"
      ],
      "text/plain": [
       "                           Feature  Rank\n",
       "1                       Total_Debt     1\n",
       "8         Book_Value_Adj_Unit_Curr     1\n",
       "9            Market_Capitalisation     1\n",
       "10       CEPS_annualised_Unit_Curr     1\n",
       "23               Curr_Ratio_Latest     1\n",
       "28               PBITM_perc_Latest     1\n",
       "32  Value_of_Output_to_Gross_Block     1"
      ]
     },
     "execution_count": 45,
     "metadata": {},
     "output_type": "execute_result"
    }
   ],
   "source": [
    "df_RFE = pd.DataFrame({'Feature': X_train.columns, 'Rank': selector.ranking_})\n",
    "df_RFE[df_RFE['Rank'] == 1]"
   ]
  },
  {
   "cell_type": "code",
   "execution_count": 46,
   "id": "eda386b4",
   "metadata": {},
   "outputs": [],
   "source": [
    "import statsmodels.formula.api as SM"
   ]
  },
  {
   "cell_type": "code",
   "execution_count": 47,
   "id": "0cde8296",
   "metadata": {},
   "outputs": [],
   "source": [
    "final_cols_RFE = list(df_RFE[df_RFE['Rank'] == 1]['Feature'].values)"
   ]
  },
  {
   "cell_type": "code",
   "execution_count": 48,
   "id": "fc40c738",
   "metadata": {},
   "outputs": [
    {
     "name": "stdout",
     "output_type": "stream",
     "text": [
      "Optimization terminated successfully.\n",
      "         Current function value: 0.121967\n",
      "         Iterations 10\n"
     ]
    }
   ],
   "source": [
    "model = SM.logit(formula = \"y_train ~ \" + \" + \".join(final_cols_RFE),data=X_train[final_cols_RFE]).fit()"
   ]
  },
  {
   "cell_type": "code",
   "execution_count": 49,
   "id": "8015aeca",
   "metadata": {},
   "outputs": [
    {
     "data": {
      "text/html": [
       "<table class=\"simpletable\">\n",
       "<caption>Logit Regression Results</caption>\n",
       "<tr>\n",
       "  <th>Dep. Variable:</th>        <td>y_train</td>     <th>  No. Observations:  </th>   <td>  2401</td>  \n",
       "</tr>\n",
       "<tr>\n",
       "  <th>Model:</th>                 <td>Logit</td>      <th>  Df Residuals:      </th>   <td>  2393</td>  \n",
       "</tr>\n",
       "<tr>\n",
       "  <th>Method:</th>                 <td>MLE</td>       <th>  Df Model:          </th>   <td>     7</td>  \n",
       "</tr>\n",
       "<tr>\n",
       "  <th>Date:</th>            <td>Sun, 09 Jan 2022</td> <th>  Pseudo R-squ.:     </th>   <td>0.6299</td>  \n",
       "</tr>\n",
       "<tr>\n",
       "  <th>Time:</th>                <td>17:07:51</td>     <th>  Log-Likelihood:    </th>  <td> -292.84</td> \n",
       "</tr>\n",
       "<tr>\n",
       "  <th>converged:</th>             <td>True</td>       <th>  LL-Null:           </th>  <td> -791.24</td> \n",
       "</tr>\n",
       "<tr>\n",
       "  <th>Covariance Type:</th>     <td>nonrobust</td>    <th>  LLR p-value:       </th> <td>5.960e-211</td>\n",
       "</tr>\n",
       "</table>\n",
       "<table class=\"simpletable\">\n",
       "<tr>\n",
       "                 <td></td>                   <th>coef</th>     <th>std err</th>      <th>z</th>      <th>P>|z|</th>  <th>[0.025</th>    <th>0.975]</th>  \n",
       "</tr>\n",
       "<tr>\n",
       "  <th>Intercept</th>                      <td>   -7.1659</td> <td>    0.450</td> <td>  -15.916</td> <td> 0.000</td> <td>   -8.048</td> <td>   -6.283</td>\n",
       "</tr>\n",
       "<tr>\n",
       "  <th>Total_Debt</th>                     <td>    0.6512</td> <td>    0.161</td> <td>    4.045</td> <td> 0.000</td> <td>    0.336</td> <td>    0.967</td>\n",
       "</tr>\n",
       "<tr>\n",
       "  <th>Book_Value_Adj_Unit_Curr</th>       <td>   -5.9327</td> <td>    0.531</td> <td>  -11.162</td> <td> 0.000</td> <td>   -6.974</td> <td>   -4.891</td>\n",
       "</tr>\n",
       "<tr>\n",
       "  <th>Market_Capitalisation</th>          <td>   -0.5382</td> <td>    0.224</td> <td>   -2.405</td> <td> 0.016</td> <td>   -0.977</td> <td>   -0.100</td>\n",
       "</tr>\n",
       "<tr>\n",
       "  <th>CEPS_annualised_Unit_Curr</th>      <td>   -0.9474</td> <td>    0.263</td> <td>   -3.607</td> <td> 0.000</td> <td>   -1.462</td> <td>   -0.433</td>\n",
       "</tr>\n",
       "<tr>\n",
       "  <th>Curr_Ratio_Latest</th>              <td>   -0.9633</td> <td>    0.164</td> <td>   -5.890</td> <td> 0.000</td> <td>   -1.284</td> <td>   -0.643</td>\n",
       "</tr>\n",
       "<tr>\n",
       "  <th>PBITM_perc_Latest</th>              <td>   -0.5722</td> <td>    0.127</td> <td>   -4.494</td> <td> 0.000</td> <td>   -0.822</td> <td>   -0.323</td>\n",
       "</tr>\n",
       "<tr>\n",
       "  <th>Value_of_Output_to_Gross_Block</th> <td>   -0.4008</td> <td>    0.159</td> <td>   -2.517</td> <td> 0.012</td> <td>   -0.713</td> <td>   -0.089</td>\n",
       "</tr>\n",
       "</table><br/><br/>Possibly complete quasi-separation: A fraction 0.29 of observations can be<br/>perfectly predicted. This might indicate that there is complete<br/>quasi-separation. In this case some parameters will not be identified."
      ],
      "text/plain": [
       "<class 'statsmodels.iolib.summary.Summary'>\n",
       "\"\"\"\n",
       "                           Logit Regression Results                           \n",
       "==============================================================================\n",
       "Dep. Variable:                y_train   No. Observations:                 2401\n",
       "Model:                          Logit   Df Residuals:                     2393\n",
       "Method:                           MLE   Df Model:                            7\n",
       "Date:                Sun, 09 Jan 2022   Pseudo R-squ.:                  0.6299\n",
       "Time:                        17:07:51   Log-Likelihood:                -292.84\n",
       "converged:                       True   LL-Null:                       -791.24\n",
       "Covariance Type:            nonrobust   LLR p-value:                5.960e-211\n",
       "==================================================================================================\n",
       "                                     coef    std err          z      P>|z|      [0.025      0.975]\n",
       "--------------------------------------------------------------------------------------------------\n",
       "Intercept                         -7.1659      0.450    -15.916      0.000      -8.048      -6.283\n",
       "Total_Debt                         0.6512      0.161      4.045      0.000       0.336       0.967\n",
       "Book_Value_Adj_Unit_Curr          -5.9327      0.531    -11.162      0.000      -6.974      -4.891\n",
       "Market_Capitalisation             -0.5382      0.224     -2.405      0.016      -0.977      -0.100\n",
       "CEPS_annualised_Unit_Curr         -0.9474      0.263     -3.607      0.000      -1.462      -0.433\n",
       "Curr_Ratio_Latest                 -0.9633      0.164     -5.890      0.000      -1.284      -0.643\n",
       "PBITM_perc_Latest                 -0.5722      0.127     -4.494      0.000      -0.822      -0.323\n",
       "Value_of_Output_to_Gross_Block    -0.4008      0.159     -2.517      0.012      -0.713      -0.089\n",
       "==================================================================================================\n",
       "\n",
       "Possibly complete quasi-separation: A fraction 0.29 of observations can be\n",
       "perfectly predicted. This might indicate that there is complete\n",
       "quasi-separation. In this case some parameters will not be identified.\n",
       "\"\"\""
      ]
     },
     "execution_count": 49,
     "metadata": {},
     "output_type": "execute_result"
    }
   ],
   "source": [
    "model.summary()"
   ]
  },
  {
   "cell_type": "markdown",
   "id": "e9a86073",
   "metadata": {},
   "source": [
    "#### Validating the model on train and test set"
   ]
  },
  {
   "cell_type": "code",
   "execution_count": 50,
   "id": "6c025d97",
   "metadata": {},
   "outputs": [],
   "source": [
    "from sklearn.metrics import classification_report,confusion_matrix,roc_auc_score"
   ]
  },
  {
   "cell_type": "code",
   "execution_count": 51,
   "id": "72158d43",
   "metadata": {},
   "outputs": [],
   "source": [
    "y_pred_train = np.where(model.predict(X_train[final_cols_RFE])>0.5,1,0)\n",
    "y_pred_test = np.where(model.predict(X_test[final_cols_RFE])>0.5,1,0)"
   ]
  },
  {
   "cell_type": "code",
   "execution_count": 52,
   "id": "ff814479",
   "metadata": {},
   "outputs": [
    {
     "name": "stdout",
     "output_type": "stream",
     "text": [
      "              precision    recall  f1-score   support\n",
      "\n",
      "           0       0.96      0.99      0.98      2156\n",
      "           1       0.92      0.67      0.78       245\n",
      "\n",
      "    accuracy                           0.96      2401\n",
      "   macro avg       0.94      0.83      0.88      2401\n",
      "weighted avg       0.96      0.96      0.96      2401\n",
      "\n"
     ]
    },
    {
     "data": {
      "image/png": "[encoded data removed]",
      "text/plain": [
       "<Figure size 432x288 with 2 Axes>"
      ]
     },
     "metadata": {
      "needs_background": "light"
     },
     "output_type": "display_data"
    }
   ],
   "source": [
    "print(classification_report(y_train,y_pred_train))\n",
    "sns.heatmap(confusion_matrix(y_train,y_pred_train),annot=True,fmt='.5g',cmap='Blues')\n",
    "plt.xlabel('Predicted')\n",
    "plt.ylabel('Actuals');"
   ]
  },
  {
   "cell_type": "code",
   "execution_count": 53,
   "id": "b2257444",
   "metadata": {
    "scrolled": false
   },
   "outputs": [
    {
     "name": "stdout",
     "output_type": "stream",
     "text": [
      "              precision    recall  f1-score   support\n",
      "\n",
      "           0       0.96      0.99      0.97      1042\n",
      "           1       0.88      0.72      0.79       142\n",
      "\n",
      "    accuracy                           0.95      1184\n",
      "   macro avg       0.92      0.85      0.88      1184\n",
      "weighted avg       0.95      0.95      0.95      1184\n",
      "\n"
     ]
    },
    {
     "data": {
      "image/png": "[encoded data removed]",
      "text/plain": [
       "<Figure size 432x288 with 2 Axes>"
      ]
     },
     "metadata": {
      "needs_background": "light"
     },
     "output_type": "display_data"
    }
   ],
   "source": [
    "print(classification_report(y_test,y_pred_test))\n",
    "sns.heatmap(confusion_matrix(y_test,y_pred_test),annot=True,fmt='.5g',cmap='Blues')\n",
    "plt.xlabel('Predicted')\n",
    "plt.ylabel('Actuals');"
   ]
  },
  {
   "cell_type": "code",
   "execution_count": 54,
   "id": "d93aac2d",
   "metadata": {},
   "outputs": [
    {
     "name": "stdout",
     "output_type": "stream",
     "text": [
      "[[   0 3198]\n",
      " [   1  387]]\n"
     ]
    }
   ],
   "source": [
    "unique,counts = np.unique(y,return_counts=True)\n",
    "print(np.asarray((unique, counts)).T)"
   ]
  },
  {
   "cell_type": "markdown",
   "id": "e9367919",
   "metadata": {},
   "source": [
    "#### USING SMOTE FOR CLASS IMBALANCE"
   ]
  },
  {
   "cell_type": "code",
   "execution_count": 55,
   "id": "0f4d6274",
   "metadata": {},
   "outputs": [],
   "source": [
    "from imblearn.over_sampling import SMOTE \n",
    "sm = SMOTE(random_state=42)\n",
    "X_res, y_res = sm.fit_resample(X_train, y_train)"
   ]
  },
  {
   "cell_type": "code",
   "execution_count": 56,
   "id": "cbea1b06",
   "metadata": {},
   "outputs": [
    {
     "name": "stdout",
     "output_type": "stream",
     "text": [
      "[[   0 2156]\n",
      " [   1  245]]\n"
     ]
    }
   ],
   "source": [
    "unique,counts = np.unique(y_train,return_counts=True)\n",
    "print(np.asarray((unique, counts)).T)"
   ]
  },
  {
   "cell_type": "code",
   "execution_count": 57,
   "id": "024b50a7",
   "metadata": {},
   "outputs": [
    {
     "name": "stdout",
     "output_type": "stream",
     "text": [
      "[[   0 2156]\n",
      " [   1 2156]]\n"
     ]
    }
   ],
   "source": [
    "unique,counts = np.unique(y_res,return_counts=True)\n",
    "print(np.asarray((unique, counts)).T)"
   ]
  },
  {
   "cell_type": "code",
   "execution_count": 58,
   "id": "d919b4b2",
   "metadata": {},
   "outputs": [],
   "source": [
    "selector_smote = selector.fit(X_res,y_res)"
   ]
  },
  {
   "cell_type": "code",
   "execution_count": 59,
   "id": "853d5d11",
   "metadata": {},
   "outputs": [
    {
     "data": {
      "text/plain": [
       "7"
      ]
     },
     "execution_count": 59,
     "metadata": {},
     "output_type": "execute_result"
    }
   ],
   "source": [
    "selector_smote.n_features_"
   ]
  },
  {
   "cell_type": "code",
   "execution_count": 60,
   "id": "35698d33",
   "metadata": {},
   "outputs": [
    {
     "data": {
      "text/html": [
       "<div>\n",
       "<style scoped>\n",
       "    .dataframe tbody tr th:only-of-type {\n",
       "        vertical-align: middle;\n",
       "    }\n",
       "\n",
       "    .dataframe tbody tr th {\n",
       "        vertical-align: top;\n",
       "    }\n",
       "\n",
       "    .dataframe thead th {\n",
       "        text-align: right;\n",
       "    }\n",
       "</style>\n",
       "<table border=\"1\" class=\"dataframe\">\n",
       "  <thead>\n",
       "    <tr style=\"text-align: right;\">\n",
       "      <th></th>\n",
       "      <th>Feature</th>\n",
       "      <th>Rank</th>\n",
       "    </tr>\n",
       "  </thead>\n",
       "  <tbody>\n",
       "    <tr>\n",
       "      <th>0</th>\n",
       "      <td>Equity_Paid_Up</td>\n",
       "      <td>1</td>\n",
       "    </tr>\n",
       "    <tr>\n",
       "      <th>1</th>\n",
       "      <td>Total_Debt</td>\n",
       "      <td>1</td>\n",
       "    </tr>\n",
       "    <tr>\n",
       "      <th>8</th>\n",
       "      <td>Book_Value_Adj_Unit_Curr</td>\n",
       "      <td>1</td>\n",
       "    </tr>\n",
       "    <tr>\n",
       "      <th>10</th>\n",
       "      <td>CEPS_annualised_Unit_Curr</td>\n",
       "      <td>1</td>\n",
       "    </tr>\n",
       "    <tr>\n",
       "      <th>23</th>\n",
       "      <td>Curr_Ratio_Latest</td>\n",
       "      <td>1</td>\n",
       "    </tr>\n",
       "    <tr>\n",
       "      <th>25</th>\n",
       "      <td>Debtors_Ratio_Latest</td>\n",
       "      <td>1</td>\n",
       "    </tr>\n",
       "    <tr>\n",
       "      <th>28</th>\n",
       "      <td>PBITM_perc_Latest</td>\n",
       "      <td>1</td>\n",
       "    </tr>\n",
       "  </tbody>\n",
       "</table>\n",
       "</div>"
      ],
      "text/plain": [
       "                      Feature  Rank\n",
       "0              Equity_Paid_Up     1\n",
       "1                  Total_Debt     1\n",
       "8    Book_Value_Adj_Unit_Curr     1\n",
       "10  CEPS_annualised_Unit_Curr     1\n",
       "23          Curr_Ratio_Latest     1\n",
       "25       Debtors_Ratio_Latest     1\n",
       "28          PBITM_perc_Latest     1"
      ]
     },
     "execution_count": 60,
     "metadata": {},
     "output_type": "execute_result"
    }
   ],
   "source": [
    "df_RFE_SMOTE = pd.DataFrame({'Feature': X_train.columns, 'Rank': selector_smote.ranking_})\n",
    "df_RFE_SMOTE[df_RFE_SMOTE['Rank'] == 1]"
   ]
  },
  {
   "cell_type": "code",
   "execution_count": 61,
   "id": "686c43d8",
   "metadata": {},
   "outputs": [],
   "source": [
    "final_cols_RFE_SMOTE = list(df_RFE_SMOTE[df_RFE_SMOTE['Rank'] == 1]['Feature'].values)"
   ]
  },
  {
   "cell_type": "code",
   "execution_count": 62,
   "id": "b5e3ebe8",
   "metadata": {},
   "outputs": [
    {
     "name": "stdout",
     "output_type": "stream",
     "text": [
      "Optimization terminated successfully.\n",
      "         Current function value: 0.122211\n",
      "         Iterations 10\n"
     ]
    }
   ],
   "source": [
    "model = SM.logit(formula = \"y_train ~ \" + \" + \".join(final_cols_RFE_SMOTE),data=X_train[final_cols_RFE_SMOTE]).fit()"
   ]
  },
  {
   "cell_type": "code",
   "execution_count": 63,
   "id": "fed37c1c",
   "metadata": {},
   "outputs": [
    {
     "data": {
      "text/html": [
       "<table class=\"simpletable\">\n",
       "<caption>Logit Regression Results</caption>\n",
       "<tr>\n",
       "  <th>Dep. Variable:</th>        <td>y_train</td>     <th>  No. Observations:  </th>   <td>  2401</td>  \n",
       "</tr>\n",
       "<tr>\n",
       "  <th>Model:</th>                 <td>Logit</td>      <th>  Df Residuals:      </th>   <td>  2393</td>  \n",
       "</tr>\n",
       "<tr>\n",
       "  <th>Method:</th>                 <td>MLE</td>       <th>  Df Model:          </th>   <td>     7</td>  \n",
       "</tr>\n",
       "<tr>\n",
       "  <th>Date:</th>            <td>Sun, 09 Jan 2022</td> <th>  Pseudo R-squ.:     </th>   <td>0.6292</td>  \n",
       "</tr>\n",
       "<tr>\n",
       "  <th>Time:</th>                <td>17:07:53</td>     <th>  Log-Likelihood:    </th>  <td> -293.43</td> \n",
       "</tr>\n",
       "<tr>\n",
       "  <th>converged:</th>             <td>True</td>       <th>  LL-Null:           </th>  <td> -791.24</td> \n",
       "</tr>\n",
       "<tr>\n",
       "  <th>Covariance Type:</th>     <td>nonrobust</td>    <th>  LLR p-value:       </th> <td>1.068e-210</td>\n",
       "</tr>\n",
       "</table>\n",
       "<table class=\"simpletable\">\n",
       "<tr>\n",
       "              <td></td>                 <th>coef</th>     <th>std err</th>      <th>z</th>      <th>P>|z|</th>  <th>[0.025</th>    <th>0.975]</th>  \n",
       "</tr>\n",
       "<tr>\n",
       "  <th>Intercept</th>                 <td>   -7.3451</td> <td>    0.462</td> <td>  -15.911</td> <td> 0.000</td> <td>   -8.250</td> <td>   -6.440</td>\n",
       "</tr>\n",
       "<tr>\n",
       "  <th>Equity_Paid_Up</th>            <td>   -0.4405</td> <td>    0.159</td> <td>   -2.764</td> <td> 0.006</td> <td>   -0.753</td> <td>   -0.128</td>\n",
       "</tr>\n",
       "<tr>\n",
       "  <th>Total_Debt</th>                <td>    0.8092</td> <td>    0.180</td> <td>    4.498</td> <td> 0.000</td> <td>    0.457</td> <td>    1.162</td>\n",
       "</tr>\n",
       "<tr>\n",
       "  <th>Book_Value_Adj_Unit_Curr</th>  <td>   -6.3442</td> <td>    0.550</td> <td>  -11.530</td> <td> 0.000</td> <td>   -7.423</td> <td>   -5.266</td>\n",
       "</tr>\n",
       "<tr>\n",
       "  <th>CEPS_annualised_Unit_Curr</th> <td>   -1.0719</td> <td>    0.262</td> <td>   -4.091</td> <td> 0.000</td> <td>   -1.585</td> <td>   -0.558</td>\n",
       "</tr>\n",
       "<tr>\n",
       "  <th>Curr_Ratio_Latest</th>         <td>   -1.0444</td> <td>    0.165</td> <td>   -6.334</td> <td> 0.000</td> <td>   -1.367</td> <td>   -0.721</td>\n",
       "</tr>\n",
       "<tr>\n",
       "  <th>Debtors_Ratio_Latest</th>      <td>   -0.3091</td> <td>    0.132</td> <td>   -2.345</td> <td> 0.019</td> <td>   -0.567</td> <td>   -0.051</td>\n",
       "</tr>\n",
       "<tr>\n",
       "  <th>PBITM_perc_Latest</th>         <td>   -0.6864</td> <td>    0.132</td> <td>   -5.216</td> <td> 0.000</td> <td>   -0.944</td> <td>   -0.428</td>\n",
       "</tr>\n",
       "</table><br/><br/>Possibly complete quasi-separation: A fraction 0.31 of observations can be<br/>perfectly predicted. This might indicate that there is complete<br/>quasi-separation. In this case some parameters will not be identified."
      ],
      "text/plain": [
       "<class 'statsmodels.iolib.summary.Summary'>\n",
       "\"\"\"\n",
       "                           Logit Regression Results                           \n",
       "==============================================================================\n",
       "Dep. Variable:                y_train   No. Observations:                 2401\n",
       "Model:                          Logit   Df Residuals:                     2393\n",
       "Method:                           MLE   Df Model:                            7\n",
       "Date:                Sun, 09 Jan 2022   Pseudo R-squ.:                  0.6292\n",
       "Time:                        17:07:53   Log-Likelihood:                -293.43\n",
       "converged:                       True   LL-Null:                       -791.24\n",
       "Covariance Type:            nonrobust   LLR p-value:                1.068e-210\n",
       "=============================================================================================\n",
       "                                coef    std err          z      P>|z|      [0.025      0.975]\n",
       "---------------------------------------------------------------------------------------------\n",
       "Intercept                    -7.3451      0.462    -15.911      0.000      -8.250      -6.440\n",
       "Equity_Paid_Up               -0.4405      0.159     -2.764      0.006      -0.753      -0.128\n",
       "Total_Debt                    0.8092      0.180      4.498      0.000       0.457       1.162\n",
       "Book_Value_Adj_Unit_Curr     -6.3442      0.550    -11.530      0.000      -7.423      -5.266\n",
       "CEPS_annualised_Unit_Curr    -1.0719      0.262     -4.091      0.000      -1.585      -0.558\n",
       "Curr_Ratio_Latest            -1.0444      0.165     -6.334      0.000      -1.367      -0.721\n",
       "Debtors_Ratio_Latest         -0.3091      0.132     -2.345      0.019      -0.567      -0.051\n",
       "PBITM_perc_Latest            -0.6864      0.132     -5.216      0.000      -0.944      -0.428\n",
       "=============================================================================================\n",
       "\n",
       "Possibly complete quasi-separation: A fraction 0.31 of observations can be\n",
       "perfectly predicted. This might indicate that there is complete\n",
       "quasi-separation. In this case some parameters will not be identified.\n",
       "\"\"\""
      ]
     },
     "execution_count": 63,
     "metadata": {},
     "output_type": "execute_result"
    }
   ],
   "source": [
    "model.summary()"
   ]
  },
  {
   "cell_type": "code",
   "execution_count": 64,
   "id": "3717cc29",
   "metadata": {},
   "outputs": [],
   "source": [
    "pred_train_smote = np.where(model.predict(X_res[final_cols_RFE_SMOTE])>0.5,1,0)\n",
    "pred_test_smote = np.where(model.predict(X_test[final_cols_RFE_SMOTE])>0.5,1,0)"
   ]
  },
  {
   "cell_type": "code",
   "execution_count": 65,
   "id": "86d3616b",
   "metadata": {},
   "outputs": [
    {
     "name": "stdout",
     "output_type": "stream",
     "text": [
      "              precision    recall  f1-score   support\n",
      "\n",
      "           0       0.77      0.99      0.87      2156\n",
      "           1       0.99      0.70      0.82      2156\n",
      "\n",
      "    accuracy                           0.85      4312\n",
      "   macro avg       0.88      0.85      0.84      4312\n",
      "weighted avg       0.88      0.85      0.84      4312\n",
      "\n"
     ]
    }
   ],
   "source": [
    "print(classification_report(y_res, pred_train_smote))"
   ]
  },
  {
   "cell_type": "code",
   "execution_count": 66,
   "id": "9d121bb8",
   "metadata": {},
   "outputs": [
    {
     "name": "stdout",
     "output_type": "stream",
     "text": [
      "              precision    recall  f1-score   support\n",
      "\n",
      "           0       0.96      0.99      0.97      1042\n",
      "           1       0.88      0.70      0.78       142\n",
      "\n",
      "    accuracy                           0.95      1184\n",
      "   macro avg       0.92      0.84      0.88      1184\n",
      "weighted avg       0.95      0.95      0.95      1184\n",
      "\n"
     ]
    }
   ],
   "source": [
    "print(classification_report(y_test, pred_test_smote))"
   ]
  },
  {
   "cell_type": "code",
   "execution_count": 67,
   "id": "0efb1cee",
   "metadata": {},
   "outputs": [
    {
     "name": "stdout",
     "output_type": "stream",
     "text": [
      "AUC: 0.9667032675779031\n"
     ]
    },
    {
     "data": {
      "image/png": "[encoded data removed]",
      "text/plain": [
       "<Figure size 432x288 with 1 Axes>"
      ]
     },
     "metadata": {
      "needs_background": "light"
     },
     "output_type": "display_data"
    }
   ],
   "source": [
    "from sklearn import metrics\n",
    "\n",
    "y_prob = model.predict(X_train[final_cols_RFE_SMOTE])\n",
    "print('AUC:',metrics.roc_auc_score(y_train,y_prob))\n",
    "[fpr,tpr,thresh]=metrics.roc_curve(y_train,y_prob)\n",
    "plt.plot(fpr,tpr,linewidth=2,marker='.',label='Train set');\n",
    "plt.title('ROC Curve')\n",
    "plt.xlabel('FPR')\n",
    "plt.ylabel('TPR')\n",
    "plt.legend(loc='best')\n",
    "plt.plot([0,1],[0,1],'r--');\n",
    "plt.show()"
   ]
  },
  {
   "cell_type": "markdown",
   "id": "1e1b1739",
   "metadata": {},
   "source": [
    "#### ADJUSTMENT OF THRESHHOLD BASED ON THE TPR AND FPR"
   ]
  },
  {
   "cell_type": "code",
   "execution_count": 68,
   "id": "5489f60c",
   "metadata": {},
   "outputs": [
    {
     "data": {
      "text/plain": [
       "0.19534886408204244"
      ]
     },
     "execution_count": 68,
     "metadata": {},
     "output_type": "execute_result"
    }
   ],
   "source": [
    "optimal_idx= np.argmax(tpr-fpr)\n",
    "optimal_threshold = thresh[optimal_idx]\n",
    "optimal_threshold"
   ]
  },
  {
   "cell_type": "code",
   "execution_count": 69,
   "id": "66877c25",
   "metadata": {},
   "outputs": [],
   "source": [
    "y_prob = model.predict(X_train[final_cols_RFE_SMOTE])\n",
    "\n",
    "#using this as a threshold for train data\n",
    "y_class_pred_train=np.where(y_prob>optimal_threshold,1,0)"
   ]
  },
  {
   "cell_type": "code",
   "execution_count": 70,
   "id": "fa707077",
   "metadata": {},
   "outputs": [],
   "source": [
    "y_prob = model.predict(X_test[final_cols_RFE_SMOTE])\n",
    "#using this as a threshold for test data\n",
    "y_class_pred=np.where(y_prob>optimal_threshold,1,0)"
   ]
  },
  {
   "cell_type": "code",
   "execution_count": 71,
   "id": "2177f845",
   "metadata": {},
   "outputs": [
    {
     "name": "stdout",
     "output_type": "stream",
     "text": [
      "              precision    recall  f1-score   support\n",
      "\n",
      "           0       0.99      0.95      0.97      2156\n",
      "           1       0.65      0.88      0.75       245\n",
      "\n",
      "    accuracy                           0.94      2401\n",
      "   macro avg       0.82      0.91      0.86      2401\n",
      "weighted avg       0.95      0.94      0.94      2401\n",
      "\n"
     ]
    },
    {
     "data": {
      "image/png": "[encoded data removed]",
      "text/plain": [
       "<Figure size 432x288 with 2 Axes>"
      ]
     },
     "metadata": {
      "needs_background": "light"
     },
     "output_type": "display_data"
    }
   ],
   "source": [
    "print(classification_report(y_train, y_class_pred_train))\n",
    "sns.heatmap(confusion_matrix(y_train,y_class_pred_train),annot=True,fmt='.5g',cmap='Blues')\n",
    "plt.xlabel('Predicted')\n",
    "plt.ylabel('Actuals');"
   ]
  },
  {
   "cell_type": "code",
   "execution_count": 72,
   "id": "18e71c7e",
   "metadata": {},
   "outputs": [
    {
     "name": "stdout",
     "output_type": "stream",
     "text": [
      "              precision    recall  f1-score   support\n",
      "\n",
      "           0       0.99      0.92      0.95      1042\n",
      "           1       0.60      0.92      0.73       142\n",
      "\n",
      "    accuracy                           0.92      1184\n",
      "   macro avg       0.79      0.92      0.84      1184\n",
      "weighted avg       0.94      0.92      0.92      1184\n",
      "\n"
     ]
    },
    {
     "data": {
      "image/png": "[encoded data removed]",
      "text/plain": [
       "<Figure size 432x288 with 2 Axes>"
      ]
     },
     "metadata": {
      "needs_background": "light"
     },
     "output_type": "display_data"
    }
   ],
   "source": [
    "print(classification_report(y_test, y_class_pred))\n",
    "sns.heatmap(confusion_matrix(y_test,y_class_pred),annot=True,fmt='.5g',cmap='Blues')\n",
    "plt.xlabel('Predicted')\n",
    "plt.ylabel('Actuals');"
   ]
  },
  {
   "cell_type": "code",
   "execution_count": 73,
   "id": "1174d214",
   "metadata": {},
   "outputs": [
    {
     "data": {
      "text/plain": [
       "['Equity_Paid_Up',\n",
       " 'Total_Debt',\n",
       " 'Book_Value_Adj_Unit_Curr',\n",
       " 'CEPS_annualised_Unit_Curr',\n",
       " 'Curr_Ratio_Latest',\n",
       " 'Debtors_Ratio_Latest',\n",
       " 'PBITM_perc_Latest']"
      ]
     },
     "execution_count": 73,
     "metadata": {},
     "output_type": "execute_result"
    }
   ],
   "source": [
    "final_cols_RFE_SMOTE # Final features which were obtained from the analysis"
   ]
  },
  {
   "cell_type": "code",
   "execution_count": 84,
   "id": "86518d3f",
   "metadata": {},
   "outputs": [
    {
     "data": {
      "text/html": [
       "<div>\n",
       "<style scoped>\n",
       "    .dataframe tbody tr th:only-of-type {\n",
       "        vertical-align: middle;\n",
       "    }\n",
       "\n",
       "    .dataframe tbody tr th {\n",
       "        vertical-align: top;\n",
       "    }\n",
       "\n",
       "    .dataframe thead th {\n",
       "        text-align: right;\n",
       "    }\n",
       "</style>\n",
       "<table border=\"1\" class=\"dataframe\">\n",
       "  <thead>\n",
       "    <tr style=\"text-align: right;\">\n",
       "      <th></th>\n",
       "      <th>1</th>\n",
       "    </tr>\n",
       "  </thead>\n",
       "  <tbody>\n",
       "    <tr>\n",
       "      <th>Intercept</th>\n",
       "      <td>-6.44</td>\n",
       "    </tr>\n",
       "    <tr>\n",
       "      <th>Equity_Paid_Up</th>\n",
       "      <td>-0.13</td>\n",
       "    </tr>\n",
       "    <tr>\n",
       "      <th>Total_Debt</th>\n",
       "      <td>1.16</td>\n",
       "    </tr>\n",
       "    <tr>\n",
       "      <th>Book_Value_Adj_Unit_Curr</th>\n",
       "      <td>-5.27</td>\n",
       "    </tr>\n",
       "    <tr>\n",
       "      <th>CEPS_annualised_Unit_Curr</th>\n",
       "      <td>-0.56</td>\n",
       "    </tr>\n",
       "    <tr>\n",
       "      <th>Curr_Ratio_Latest</th>\n",
       "      <td>-0.72</td>\n",
       "    </tr>\n",
       "    <tr>\n",
       "      <th>Debtors_Ratio_Latest</th>\n",
       "      <td>-0.05</td>\n",
       "    </tr>\n",
       "    <tr>\n",
       "      <th>PBITM_perc_Latest</th>\n",
       "      <td>-0.43</td>\n",
       "    </tr>\n",
       "  </tbody>\n",
       "</table>\n",
       "</div>"
      ],
      "text/plain": [
       "                              1\n",
       "Intercept                 -6.44\n",
       "Equity_Paid_Up            -0.13\n",
       "Total_Debt                 1.16\n",
       "Book_Value_Adj_Unit_Curr  -5.27\n",
       "CEPS_annualised_Unit_Curr -0.56\n",
       "Curr_Ratio_Latest         -0.72\n",
       "Debtors_Ratio_Latest      -0.05\n",
       "PBITM_perc_Latest         -0.43"
      ]
     },
     "execution_count": 84,
     "metadata": {},
     "output_type": "execute_result"
    }
   ],
   "source": [
    "pd.DataFrame(model.conf_int()[1].round(2))"
   ]
  }
 ],
 "metadata": {
  "kernelspec": {
   "display_name": "Python 3 (ipykernel)",
   "language": "python",
   "name": "python3"
  },
  "language_info": {
   "codemirror_mode": {
    "name": "ipython",
    "version": 3
   },
   "file_extension": ".py",
   "mimetype": "text/x-python",
   "name": "python",
   "nbconvert_exporter": "python",
   "pygments_lexer": "ipython3",
   "version": "3.8.11"
  }
 },
 "nbformat": 4,
 "nbformat_minor": 5
}
